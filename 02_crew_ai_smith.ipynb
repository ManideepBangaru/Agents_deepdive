{
 "cells": [
  {
   "cell_type": "markdown",
   "metadata": {},
   "source": [
    "## Define LLM"
   ]
  },
  {
   "cell_type": "code",
   "execution_count": 1,
   "metadata": {},
   "outputs": [],
   "source": [
    "from crewai import LLM\n",
    "from dotenv import load_dotenv\n",
    "from langsmith import traceable\n",
    "\n",
    "import os\n",
    "load_dotenv()\n",
    "\n",
    "# Initialize OpenAI with credentials from .env\n",
    "llm = LLM(\n",
    "    model = os.getenv(\"OPENAI_MODEL_NAME\")\n",
    ")\n"
   ]
  },
  {
   "cell_type": "markdown",
   "metadata": {},
   "source": [
    "## Load Agents"
   ]
  },
  {
   "cell_type": "code",
   "execution_count": 2,
   "metadata": {},
   "outputs": [],
   "source": [
    "from crewai import Agent"
   ]
  },
  {
   "cell_type": "code",
   "execution_count": 3,
   "metadata": {},
   "outputs": [],
   "source": [
    "senior_technical_writer = Agent(\n",
    "    role=\"Senior Technical Writer\",\n",
    "    goal=\"\"\"Craft clear, engaging, and well-structured technical content \n",
    "    based on research findings\"\"\",\n",
    "    backstory=\"\"\"You are an experienced technical writer with expertise in simplifying complex\n",
    "                concepts, structuring content for readability, and ensuring accuracy in documentation.\"\"\",\n",
    "    llm=llm,\n",
    "    verbose=True\n",
    ")"
   ]
  },
  {
   "cell_type": "markdown",
   "metadata": {},
   "source": [
    "### Research Analyst Agent\n",
    "\n",
    "This agent is responsible for conducting in-depth research and summarizing findings concisely"
   ]
  },
  {
   "cell_type": "code",
   "execution_count": 4,
   "metadata": {},
   "outputs": [],
   "source": [
    "from crewai import Agent\n",
    "\n",
    "research_analyst = Agent(\n",
    "    role=\"Senior Research Analyst\",\n",
    "    goal=\"\"\"Find, analyze, and summarize information \n",
    "            from various sources to support technical \n",
    "            and business-related inquiries.\"\"\",\n",
    "    backstory=\"\"\"You are a skilled research analyst with expertise \n",
    "                 in gathering accurate data, identifying key trends, \n",
    "                 and presenting insights in a structured manner.\"\"\",\n",
    "    llm=llm,\n",
    "    verbose=True\n",
    ")"
   ]
  },
  {
   "cell_type": "markdown",
   "metadata": {},
   "source": [
    "### Code Review Agent\n",
    "\n",
    "This agent specializes in reviewing code for errors, optimizations, and best practices"
   ]
  },
  {
   "cell_type": "code",
   "execution_count": 5,
   "metadata": {},
   "outputs": [],
   "source": [
    "from crewai import Agent\n",
    "\n",
    "code_reviewer = Agent(\n",
    "    role=\"Senior Code Reviewer\",\n",
    "    goal=\"\"\"Review code for bugs, inefficiencies, and \n",
    "            security vulnerabilities while ensuring adherence \n",
    "            to best coding practices.\"\"\",\n",
    "    backstory=\"\"\"You are a seasoned software engineer with years of \n",
    "                 experience in writing, reviewing, and optimizing \n",
    "                 production-level code in multiple programming languages.\"\"\",\n",
    "    llm=llm,\n",
    "    verbose=True\n",
    ")"
   ]
  },
  {
   "cell_type": "markdown",
   "metadata": {},
   "source": [
    "### Legal Document Reviewer\n",
    "\n",
    "This agent specializes in analyzing legal contracts and ensuring compliance"
   ]
  },
  {
   "cell_type": "code",
   "execution_count": 6,
   "metadata": {},
   "outputs": [],
   "source": [
    "from crewai import Agent\n",
    "\n",
    "legal_reviewer = Agent(\n",
    "    role=\"Legal Document Expert Reviewer\",\n",
    "    goal=\"\"\"Review contracts and legal documents to \n",
    "            ensure compliance with applicable laws and \n",
    "            highlight potential risks.\"\"\",\n",
    "    backstory=\"\"\"You are a legal expert with deep knowledge \n",
    "                 of contract law, regulatory frameworks, \n",
    "                 and risk mitigation strategies.\"\"\",\n",
    "    llm=llm,\n",
    "    verbose=True\n",
    ")\n"
   ]
  },
  {
   "cell_type": "markdown",
   "metadata": {},
   "source": [
    "## Define Tasks"
   ]
  },
  {
   "cell_type": "markdown",
   "metadata": {},
   "source": [
    "## Create Crew"
   ]
  },
  {
   "cell_type": "code",
   "execution_count": 7,
   "metadata": {},
   "outputs": [],
   "source": [
    "from crewai import Task\n",
    "from crewai import Crew\n",
    "\n",
    "@traceable\n",
    "def exceute_crew_tasks(topic):\n",
    "    writing_task = Task(\n",
    "                        description=\"\"\" Write a well-structured, engaging, and technically accurate\n",
    "                                    article on {topic}\"\"\",\n",
    "                        agent=senior_technical_writer,\n",
    "                        expected_output=\"\"\" A polished, detailed, and easy-to-read article on the given topic\"\"\"\n",
    "                        )\n",
    "    crew = Crew(\n",
    "        agents = [senior_technical_writer],\n",
    "        tasks=[writing_task],\n",
    "        verbose=True  # Use the same project name as above\n",
    "    )\n",
    "    return crew.kickoff(inputs={\"topic\": f\"{topic}\"})"
   ]
  },
  {
   "cell_type": "code",
   "execution_count": 8,
   "metadata": {},
   "outputs": [
    {
     "name": "stdout",
     "output_type": "stream",
     "text": [
      "\u001b[1m\u001b[95m# Agent:\u001b[00m \u001b[1m\u001b[92mSenior Technical Writer\u001b[00m\n",
      "\u001b[95m## Task:\u001b[00m \u001b[92m Write a well-structured, engaging, and technically accurate\n",
      "                                    article on Tell me about future of social media and its impact on human life\u001b[00m\n",
      "\n",
      "\n",
      "\u001b[1m\u001b[95m# Agent:\u001b[00m \u001b[1m\u001b[92mSenior Technical Writer\u001b[00m\n",
      "\u001b[95m## Final Answer:\u001b[00m \u001b[92m\n",
      "**The Future of Social Media and Its Impact on Human Life**\n",
      "\n",
      "**Introduction**\n",
      "\n",
      "As we delve into the 21st century, social media continues to evolve rapidly, reshaping human interaction and redefining how we perceive the world. Its influence extends across personal relationships, business landscapes, and societal norms. Understanding the future trajectory of social media and its potential impacts is essential for both individuals and organizations aiming to navigate the digital era.\n",
      "\n",
      "**The Evolution of Social Media**\n",
      "\n",
      "Social media has come a long way from its early incarnations as simple networking platforms. Initially designed to connect individuals, share photos, and facilitate messaging, platforms like Facebook, Twitter, and MySpace revolutionized online interaction. Today, the landscape is dominated by giants such as Instagram, TikTok, LinkedIn, and emerging technologies like virtual reality (VR) and augmented reality (AR).\n",
      "\n",
      "**Technological Advancements Shaping the Future**\n",
      "\n",
      "1. **Artificial Intelligence and Machine Learning**: AI is set to play a monumental role in personalizing user experiences. Algorithms will become more sophisticated, predicting user interests and preferences with heightened accuracy. This will lead to a more curated content consumption where users receive information tailored to their unique proclivities.\n",
      "\n",
      "2. **Virtual and Augmented Reality**: Platforms are beginning to integrate VR and AR, offering immersive experiences. This technology will further deepen engagement, allowing users to interact in environments that blend the virtual and physical worlds. Imagine attending a concert virtually or shopping with AR-enhanced features that let you try products from home.\n",
      "\n",
      "3. **5G Connectivity**: The rollout of 5G technology will enhance mobile internet connectivity, leading to faster data transfer rates. This will support more dynamic content, such as live streaming and real-time interaction, making social media more immediate and engaging.\n",
      "\n",
      "**Impact on Human Life**\n",
      "\n",
      "1. **Interpersonal Relationships**: Social media will continue to redefine how we form and maintain relationships. While it offers convenient ways to stay connected, there's a growing concern about its impact on face-to-face interactions and potential to contribute to social isolation.\n",
      "\n",
      "2. **Mental Health Implications**: The influence of social media on mental health has become a significant area of study. The future might bring more positive integrations, such as platforms offering support networks, mental health resources, and promoting healthy online behavior. However, issues such as cyberbullying and comparison anxiety may also persist.\n",
      "\n",
      "3. **Educational and Professional Opportunities**: Social media as a learning tool can foster educational growth through collaborative platforms, access to vast resources, and skill-building opportunities. Professionally, it will continue to be a space for networking, brand building, and job opportunities, particularly as the gig economy expands.\n",
      "\n",
      "4. **Cultural and Societal Changes**: As social media transcends geographical boundaries, it will facilitate cultural exchanges on an unprecedented scale. This could lead to a more homogenized global culture but poses challenges in maintaining cultural uniqueness and authenticity.\n",
      "\n",
      "**Potential Challenges and Ethical Considerations**\n",
      "\n",
      "1. **Privacy and Data Security**: As platforms gather more user data to enhance personalization, issues surrounding privacy will intensify. Ensuring robust data protection measures and transparent data usage policies will be crucial.\n",
      "\n",
      "2. **Misinformation and Digital Literacy**: The rapid spread of misinformation is a critical challenge. Enhancing digital literacy, fact-checking mechanisms, and algorithmic accountability will become imperative to mitigate its impact.\n",
      "\n",
      "3. **Regulation and Governance**: As social media influences both the public and private sectors, governments and organizations will need to develop regulations that balance innovation with user protection.\n",
      "\n",
      "**Conclusion**\n",
      "\n",
      "The future of social media is poised to be as dynamic as its past. While it holds the potential to enhance global connectivity and offer new avenues for innovation, it also presents significant societal and ethical challenges. As users and providers of social media, a collective effort in steering these platforms towards positive impacts on human life will be essential. Balancing the benefits with potential pitfalls will determine the role social media plays in future societies. Embracing change responsibly can ensure that social media continues to enrich rather than detract from human experience.\u001b[00m\n",
      "\n",
      "\n"
     ]
    }
   ],
   "source": [
    "# Execute the task\n",
    "topic = \"Tell me about future of social media and its impact on human life\"\n",
    "\n",
    "# execute the crew using exceute_crew_tasks function\n",
    "response = exceute_crew_tasks(topic)"
   ]
  },
  {
   "cell_type": "code",
   "execution_count": 9,
   "metadata": {},
   "outputs": [
    {
     "data": {
      "text/markdown": [
       "**The Future of Social Media and Its Impact on Human Life**\n",
       "\n",
       "**Introduction**\n",
       "\n",
       "As we delve into the 21st century, social media continues to evolve rapidly, reshaping human interaction and redefining how we perceive the world. Its influence extends across personal relationships, business landscapes, and societal norms. Understanding the future trajectory of social media and its potential impacts is essential for both individuals and organizations aiming to navigate the digital era.\n",
       "\n",
       "**The Evolution of Social Media**\n",
       "\n",
       "Social media has come a long way from its early incarnations as simple networking platforms. Initially designed to connect individuals, share photos, and facilitate messaging, platforms like Facebook, Twitter, and MySpace revolutionized online interaction. Today, the landscape is dominated by giants such as Instagram, TikTok, LinkedIn, and emerging technologies like virtual reality (VR) and augmented reality (AR).\n",
       "\n",
       "**Technological Advancements Shaping the Future**\n",
       "\n",
       "1. **Artificial Intelligence and Machine Learning**: AI is set to play a monumental role in personalizing user experiences. Algorithms will become more sophisticated, predicting user interests and preferences with heightened accuracy. This will lead to a more curated content consumption where users receive information tailored to their unique proclivities.\n",
       "\n",
       "2. **Virtual and Augmented Reality**: Platforms are beginning to integrate VR and AR, offering immersive experiences. This technology will further deepen engagement, allowing users to interact in environments that blend the virtual and physical worlds. Imagine attending a concert virtually or shopping with AR-enhanced features that let you try products from home.\n",
       "\n",
       "3. **5G Connectivity**: The rollout of 5G technology will enhance mobile internet connectivity, leading to faster data transfer rates. This will support more dynamic content, such as live streaming and real-time interaction, making social media more immediate and engaging.\n",
       "\n",
       "**Impact on Human Life**\n",
       "\n",
       "1. **Interpersonal Relationships**: Social media will continue to redefine how we form and maintain relationships. While it offers convenient ways to stay connected, there's a growing concern about its impact on face-to-face interactions and potential to contribute to social isolation.\n",
       "\n",
       "2. **Mental Health Implications**: The influence of social media on mental health has become a significant area of study. The future might bring more positive integrations, such as platforms offering support networks, mental health resources, and promoting healthy online behavior. However, issues such as cyberbullying and comparison anxiety may also persist.\n",
       "\n",
       "3. **Educational and Professional Opportunities**: Social media as a learning tool can foster educational growth through collaborative platforms, access to vast resources, and skill-building opportunities. Professionally, it will continue to be a space for networking, brand building, and job opportunities, particularly as the gig economy expands.\n",
       "\n",
       "4. **Cultural and Societal Changes**: As social media transcends geographical boundaries, it will facilitate cultural exchanges on an unprecedented scale. This could lead to a more homogenized global culture but poses challenges in maintaining cultural uniqueness and authenticity.\n",
       "\n",
       "**Potential Challenges and Ethical Considerations**\n",
       "\n",
       "1. **Privacy and Data Security**: As platforms gather more user data to enhance personalization, issues surrounding privacy will intensify. Ensuring robust data protection measures and transparent data usage policies will be crucial.\n",
       "\n",
       "2. **Misinformation and Digital Literacy**: The rapid spread of misinformation is a critical challenge. Enhancing digital literacy, fact-checking mechanisms, and algorithmic accountability will become imperative to mitigate its impact.\n",
       "\n",
       "3. **Regulation and Governance**: As social media influences both the public and private sectors, governments and organizations will need to develop regulations that balance innovation with user protection.\n",
       "\n",
       "**Conclusion**\n",
       "\n",
       "The future of social media is poised to be as dynamic as its past. While it holds the potential to enhance global connectivity and offer new avenues for innovation, it also presents significant societal and ethical challenges. As users and providers of social media, a collective effort in steering these platforms towards positive impacts on human life will be essential. Balancing the benefits with potential pitfalls will determine the role social media plays in future societies. Embracing change responsibly can ensure that social media continues to enrich rather than detract from human experience."
      ],
      "text/plain": [
       "<IPython.core.display.Markdown object>"
      ]
     },
     "execution_count": 9,
     "metadata": {},
     "output_type": "execute_result"
    }
   ],
   "source": [
    "from IPython.display import Markdown\n",
    "\n",
    "Markdown(response.raw)"
   ]
  }
 ],
 "metadata": {
  "kernelspec": {
   "display_name": "agentEnv",
   "language": "python",
   "name": "python3"
  },
  "language_info": {
   "codemirror_mode": {
    "name": "ipython",
    "version": 3
   },
   "file_extension": ".py",
   "mimetype": "text/x-python",
   "name": "python",
   "nbconvert_exporter": "python",
   "pygments_lexer": "ipython3",
   "version": "3.11.9"
  }
 },
 "nbformat": 4,
 "nbformat_minor": 2
}
