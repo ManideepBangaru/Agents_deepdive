{
 "cells": [
  {
   "cell_type": "markdown",
   "metadata": {},
   "source": [
    "## Basic Flow"
   ]
  },
  {
   "cell_type": "code",
   "execution_count": 8,
   "metadata": {},
   "outputs": [
    {
     "data": {
      "text/plain": [
       "True"
      ]
     },
     "execution_count": 8,
     "metadata": {},
     "output_type": "execute_result"
    }
   ],
   "source": [
    "import openai\n",
    "from crewai.flow.flow import Flow, start, listen\n",
    "\n",
    "from dotenv import load_dotenv\n",
    "import os\n",
    "\n",
    "load_dotenv()"
   ]
  },
  {
   "cell_type": "code",
   "execution_count": 9,
   "metadata": {},
   "outputs": [],
   "source": [
    "openai_client = openai.OpenAI(\n",
    "    api_key=os.getenv(\"OPENAI_API_KEY\")\n",
    ")"
   ]
  },
  {
   "cell_type": "code",
   "execution_count": 19,
   "metadata": {},
   "outputs": [],
   "source": [
    "class MovieRecommendationFlow(Flow):\n",
    "\n",
    "    @start()\n",
    "    def generate_genre(self):\n",
    "        response = openai_client.responses.create(\n",
    "            model=\"gpt-4o-mini\",\n",
    "            input=[\n",
    "                {\n",
    "                    \"role\": \"user\", \n",
    "                    \"content\": \"Genearate a random movie genre\"\n",
    "                },\n",
    "            ]\n",
    "        )\n",
    "        random_genre = response.output_text\n",
    "        self.state[\"random_genre\"] = random_genre\n",
    "        return random_genre\n",
    "    \n",
    "    @listen(generate_genre)\n",
    "    def recommend_movie(self, random_genre):\n",
    "        response = openai_client.responses.create(\n",
    "            model=\"gpt-4o-mini\",\n",
    "            input=[\n",
    "                {\n",
    "                    \"role\": \"user\", \n",
    "                    \"content\": f\"Recommend a movie with the genre: {random_genre}\"\n",
    "                }\n",
    "            ]\n",
    "        )\n",
    "        movie_recommendation = response.output_text\n",
    "        self.state[\"movie_recommendation\"] = movie_recommendation\n",
    "        return movie_recommendation"
   ]
  },
  {
   "cell_type": "code",
   "execution_count": 20,
   "metadata": {},
   "outputs": [
    {
     "name": "stdout",
     "output_type": "stream",
     "text": [
      "\u001b[34m╭─\u001b[0m\u001b[34m──────────────────────────────\u001b[0m\u001b[34m Flow Execution \u001b[0m\u001b[34m──────────────────────────────\u001b[0m\u001b[34m─╮\u001b[0m\n",
      "\u001b[34m│\u001b[0m                                                                              \u001b[34m│\u001b[0m\n",
      "\u001b[34m│\u001b[0m  \u001b[1;34mStarting Flow Execution\u001b[0m                                                     \u001b[34m│\u001b[0m\n",
      "\u001b[34m│\u001b[0m  \u001b[37mName: \u001b[0m\u001b[34mMovieRecommendationFlow\u001b[0m                                               \u001b[34m│\u001b[0m\n",
      "\u001b[34m│\u001b[0m  \u001b[37mID: \u001b[0m\u001b[34md01eeed2-83e6-4bb5-8108-e598cd56828a\u001b[0m                                    \u001b[34m│\u001b[0m\n",
      "\u001b[34m│\u001b[0m                                                                              \u001b[34m│\u001b[0m\n",
      "\u001b[34m│\u001b[0m                                                                              \u001b[34m│\u001b[0m\n",
      "\u001b[34m╰──────────────────────────────────────────────────────────────────────────────╯\u001b[0m\n",
      "\n",
      "\u001b[1;34m🌊 Flow: \u001b[0m\u001b[34mMovieRecommendationFlow\u001b[0m\n",
      "\u001b[37m    ID: \u001b[0m\u001b[34md01eeed2-83e6-4bb5-8108-e598cd56828a\u001b[0m\n",
      "└── \u001b[33m🧠 Starting Flow...\u001b[0m\n",
      "\n",
      "\u001b[1m\u001b[35m Flow started with ID: d01eeed2-83e6-4bb5-8108-e598cd56828a\u001b[00m\n",
      "\u001b[1;34m🌊 Flow: \u001b[0m\u001b[34mMovieRecommendationFlow\u001b[0m\n",
      "\u001b[37m    ID: \u001b[0m\u001b[34md01eeed2-83e6-4bb5-8108-e598cd56828a\u001b[0m\n",
      "├── \u001b[33m🧠 Starting Flow...\u001b[0m\n",
      "└── \u001b[1;33m🔄 Running:\u001b[0m\u001b[1;33m generate_genre\u001b[0m\n",
      "\n",
      "\u001b[1;34m🌊 Flow: \u001b[0m\u001b[34mMovieRecommendationFlow\u001b[0m\n",
      "\u001b[37m    ID: \u001b[0m\u001b[34md01eeed2-83e6-4bb5-8108-e598cd56828a\u001b[0m\n",
      "├── \u001b[37mFlow Method Step\u001b[0m\n",
      "└── \u001b[1;32m✅ Completed:\u001b[0m\u001b[1;32m generate_genre\u001b[0m\n",
      "\n",
      "\u001b[1;34m🌊 Flow: \u001b[0m\u001b[34mMovieRecommendationFlow\u001b[0m\n",
      "\u001b[37m    ID: \u001b[0m\u001b[34md01eeed2-83e6-4bb5-8108-e598cd56828a\u001b[0m\n",
      "├── \u001b[37mFlow Method Step\u001b[0m\n",
      "├── \u001b[1;32m✅ Completed:\u001b[0m\u001b[1;32m generate_genre\u001b[0m\n",
      "└── \u001b[1;33m🔄 Running:\u001b[0m\u001b[1;33m recommend_movie\u001b[0m\n",
      "\n",
      "\u001b[1;34m🌊 Flow: \u001b[0m\u001b[34mMovieRecommendationFlow\u001b[0m\n",
      "\u001b[37m    ID: \u001b[0m\u001b[34md01eeed2-83e6-4bb5-8108-e598cd56828a\u001b[0m\n",
      "├── \u001b[37mFlow Method Step\u001b[0m\n",
      "├── \u001b[1;32m✅ Completed:\u001b[0m\u001b[1;32m generate_genre\u001b[0m\n",
      "└── \u001b[1;32m✅ Completed:\u001b[0m\u001b[1;32m recommend_movie\u001b[0m\n",
      "\n",
      "\u001b[1;32m✅ Flow Finished: \u001b[0m\u001b[32mMovieRecommendationFlow\u001b[0m\n",
      "├── \u001b[37mFlow Method Step\u001b[0m\n",
      "├── \u001b[1;32m✅ Completed:\u001b[0m\u001b[1;32m generate_genre\u001b[0m\n",
      "└── \u001b[1;32m✅ Completed:\u001b[0m\u001b[1;32m recommend_movie\u001b[0m\n",
      "\u001b[32m╭─\u001b[0m\u001b[32m─────────────────────────────\u001b[0m\u001b[32m Flow Completion \u001b[0m\u001b[32m──────────────────────────────\u001b[0m\u001b[32m─╮\u001b[0m\n",
      "\u001b[32m│\u001b[0m                                                                              \u001b[32m│\u001b[0m\n",
      "\u001b[32m│\u001b[0m  \u001b[1;32mFlow Execution Completed\u001b[0m                                                    \u001b[32m│\u001b[0m\n",
      "\u001b[32m│\u001b[0m  \u001b[37mName: \u001b[0m\u001b[32mMovieRecommendationFlow\u001b[0m                                               \u001b[32m│\u001b[0m\n",
      "\u001b[32m│\u001b[0m  \u001b[37mID: \u001b[0m\u001b[32md01eeed2-83e6-4bb5-8108-e598cd56828a\u001b[0m                                    \u001b[32m│\u001b[0m\n",
      "\u001b[32m│\u001b[0m                                                                              \u001b[32m│\u001b[0m\n",
      "\u001b[32m│\u001b[0m                                                                              \u001b[32m│\u001b[0m\n",
      "\u001b[32m╰──────────────────────────────────────────────────────────────────────────────╯\u001b[0m\n",
      "\n",
      "\n",
      " Movie Recommendation : I recommend **\"Annihilation\" (2018)**. This film is a blend of sci-fi, mystery, and thriller elements. It follows a group of scientists, led by a biologist (played by Natalie Portman), who venture into a mysterious quarantined zone known as \"The Shimmer,\" where the laws of nature don't apply. The film delves into themes of advanced technology and genetic mutation while unraveling the enigma behind the disappearance of her husband and the secrets hidden within the Shimmer. With atmospheric visuals and a haunting score, **\"Annihilation\"** presents a gripping narrative filled with tension and philosophical undertones.\n"
     ]
    }
   ],
   "source": [
    "flow = MovieRecommendationFlow()\n",
    "final_result = await flow.kickoff_async()\n",
    "\n",
    "print(f\"\\n Movie Recommendation : {final_result}\")"
   ]
  },
  {
   "cell_type": "code",
   "execution_count": 24,
   "metadata": {},
   "outputs": [
    {
     "data": {
      "text/plain": [
       "{'id': 'd01eeed2-83e6-4bb5-8108-e598cd56828a',\n",
       " 'random_genre': 'How about a **sci-fi mystery thriller**? It could involve advanced technology, an enigmatic disappearance, and a race against time to uncover the truth.',\n",
       " 'movie_recommendation': 'I recommend **\"Annihilation\" (2018)**. This film is a blend of sci-fi, mystery, and thriller elements. It follows a group of scientists, led by a biologist (played by Natalie Portman), who venture into a mysterious quarantined zone known as \"The Shimmer,\" where the laws of nature don\\'t apply. The film delves into themes of advanced technology and genetic mutation while unraveling the enigma behind the disappearance of her husband and the secrets hidden within the Shimmer. With atmospheric visuals and a haunting score, **\"Annihilation\"** presents a gripping narrative filled with tension and philosophical undertones.'}"
      ]
     },
     "execution_count": 24,
     "metadata": {},
     "output_type": "execute_result"
    }
   ],
   "source": [
    "flow.state"
   ]
  },
  {
   "cell_type": "code",
   "execution_count": 25,
   "metadata": {},
   "outputs": [
    {
     "data": {
      "text/markdown": [
       "I recommend **\"Annihilation\" (2018)**. This film is a blend of sci-fi, mystery, and thriller elements. It follows a group of scientists, led by a biologist (played by Natalie Portman), who venture into a mysterious quarantined zone known as \"The Shimmer,\" where the laws of nature don't apply. The film delves into themes of advanced technology and genetic mutation while unraveling the enigma behind the disappearance of her husband and the secrets hidden within the Shimmer. With atmospheric visuals and a haunting score, **\"Annihilation\"** presents a gripping narrative filled with tension and philosophical undertones."
      ],
      "text/plain": [
       "<IPython.core.display.Markdown object>"
      ]
     },
     "execution_count": 25,
     "metadata": {},
     "output_type": "execute_result"
    }
   ],
   "source": [
    "from IPython.display import Markdown\n",
    "Markdown(flow.state[\"movie_recommendation\"])"
   ]
  },
  {
   "cell_type": "code",
   "execution_count": 26,
   "metadata": {},
   "outputs": [
    {
     "name": "stdout",
     "output_type": "stream",
     "text": [
      "{'id': 'd01eeed2-83e6-4bb5-8108-e598cd56828a',\n",
      " 'movie_recommendation': 'I recommend **\"Annihilation\" (2018)**. This film is '\n",
      "                         'a blend of sci-fi, mystery, and thriller elements. '\n",
      "                         'It follows a group of scientists, led by a biologist '\n",
      "                         '(played by Natalie Portman), who venture into a '\n",
      "                         'mysterious quarantined zone known as \"The Shimmer,\" '\n",
      "                         \"where the laws of nature don't apply. The film \"\n",
      "                         'delves into themes of advanced technology and '\n",
      "                         'genetic mutation while unraveling the enigma behind '\n",
      "                         'the disappearance of her husband and the secrets '\n",
      "                         'hidden within the Shimmer. With atmospheric visuals '\n",
      "                         'and a haunting score, **\"Annihilation\"** presents a '\n",
      "                         'gripping narrative filled with tension and '\n",
      "                         'philosophical undertones.',\n",
      " 'random_genre': 'How about a **sci-fi mystery thriller**? It could involve '\n",
      "                 'advanced technology, an enigmatic disappearance, and a race '\n",
      "                 'against time to uncover the truth.'}\n"
     ]
    }
   ],
   "source": [
    "from pprint import pprint\n",
    "pprint(flow.state)"
   ]
  },
  {
   "cell_type": "markdown",
   "metadata": {},
   "source": [
    "## States in Flows"
   ]
  },
  {
   "cell_type": "code",
   "execution_count": 29,
   "metadata": {},
   "outputs": [],
   "source": [
    "from crewai.flow.flow import Flow, listen, start\n",
    "\n",
    "class TaskManagementFlow(Flow):\n",
    "\n",
    "    @start()\n",
    "    def generate_task(self):\n",
    "        print(f\"Flow started. State ID : {self.state['id']}\")\n",
    "\n",
    "        # Step 1 : Generate a task\n",
    "        self.state[\"task\"] = \"Fix a critical bug in the payment system\"\n",
    "        self.state[\"status\"] = \"Pending\"\n",
    "        print(f\"Task generated : {self.state['task']} (Status : {self.state['status']})\")\n",
    "    \n",
    "    @listen(generate_task)\n",
    "    def start_task(self):\n",
    "        # Step 2 : Update task status to \"In Progress\"\n",
    "        self.state[\"status\"] = \"In Progress\"\n",
    "        print(f\"Task updated to : {self.state['task']} (Status : {self.state['status']})\")\n",
    "\n",
    "    @listen(start_task)\n",
    "    def complete_task(self):\n",
    "        # Step 3 : Update task status to \"Completed\"\n",
    "        self.state[\"status\"] = \"Completed\"\n",
    "        print(f\"Task Status updated : {self.state['status']}\")\n",
    "        print(f\"Final Task State : {self.state}\")\n"
   ]
  },
  {
   "cell_type": "code",
   "execution_count": 30,
   "metadata": {},
   "outputs": [
    {
     "name": "stdout",
     "output_type": "stream",
     "text": [
      "\u001b[34m╭─\u001b[0m\u001b[34m──────────────────────────────\u001b[0m\u001b[34m Flow Execution \u001b[0m\u001b[34m──────────────────────────────\u001b[0m\u001b[34m─╮\u001b[0m\n",
      "\u001b[34m│\u001b[0m                                                                              \u001b[34m│\u001b[0m\n",
      "\u001b[34m│\u001b[0m  \u001b[1;34mStarting Flow Execution\u001b[0m                                                     \u001b[34m│\u001b[0m\n",
      "\u001b[34m│\u001b[0m  \u001b[37mName: \u001b[0m\u001b[34mTaskManagementFlow\u001b[0m                                                    \u001b[34m│\u001b[0m\n",
      "\u001b[34m│\u001b[0m  \u001b[37mID: \u001b[0m\u001b[34ma0c34ffc-8e1c-4e00-8ced-58ee0f89c45e\u001b[0m                                    \u001b[34m│\u001b[0m\n",
      "\u001b[34m│\u001b[0m                                                                              \u001b[34m│\u001b[0m\n",
      "\u001b[34m│\u001b[0m                                                                              \u001b[34m│\u001b[0m\n",
      "\u001b[34m╰──────────────────────────────────────────────────────────────────────────────╯\u001b[0m\n",
      "\n",
      "\u001b[1;34m🌊 Flow: \u001b[0m\u001b[34mTaskManagementFlow\u001b[0m\n",
      "\u001b[37m    ID: \u001b[0m\u001b[34ma0c34ffc-8e1c-4e00-8ced-58ee0f89c45e\u001b[0m\n",
      "└── \u001b[33m🧠 Starting Flow...\u001b[0m\n",
      "\n",
      "\u001b[1m\u001b[35m Flow started with ID: a0c34ffc-8e1c-4e00-8ced-58ee0f89c45e\u001b[00m\n",
      "\u001b[1;34m🌊 Flow: \u001b[0m\u001b[34mTaskManagementFlow\u001b[0m\n",
      "\u001b[37m    ID: \u001b[0m\u001b[34ma0c34ffc-8e1c-4e00-8ced-58ee0f89c45e\u001b[0m\n",
      "├── \u001b[33m🧠 Starting Flow...\u001b[0m\n",
      "└── \u001b[1;33m🔄 Running:\u001b[0m\u001b[1;33m generate_task\u001b[0m\n",
      "\n",
      "Flow started. State ID : a0c34ffc-8e1c-4e00-8ced-58ee0f89c45e\n",
      "Task generated : Fix a critical bug in the payment system (Status : Pending)\n",
      "\u001b[1;34m🌊 Flow: \u001b[0m\u001b[34mTaskManagementFlow\u001b[0m\n",
      "\u001b[37m    ID: \u001b[0m\u001b[34ma0c34ffc-8e1c-4e00-8ced-58ee0f89c45e\u001b[0m\n",
      "├── \u001b[37mFlow Method Step\u001b[0m\n",
      "└── \u001b[1;32m✅ Completed:\u001b[0m\u001b[1;32m generate_task\u001b[0m\n",
      "\n",
      "\u001b[1;34m🌊 Flow: \u001b[0m\u001b[34mTaskManagementFlow\u001b[0m\n",
      "\u001b[37m    ID: \u001b[0m\u001b[34ma0c34ffc-8e1c-4e00-8ced-58ee0f89c45e\u001b[0m\n",
      "├── \u001b[37mFlow Method Step\u001b[0m\n",
      "├── \u001b[1;32m✅ Completed:\u001b[0m\u001b[1;32m generate_task\u001b[0m\n",
      "└── \u001b[1;33m🔄 Running:\u001b[0m\u001b[1;33m start_task\u001b[0m\n",
      "\n",
      "Task updated to : Fix a critical bug in the payment system (Status : In Progress)\n",
      "\u001b[1;34m🌊 Flow: \u001b[0m\u001b[34mTaskManagementFlow\u001b[0m\n",
      "\u001b[37m    ID: \u001b[0m\u001b[34ma0c34ffc-8e1c-4e00-8ced-58ee0f89c45e\u001b[0m\n",
      "├── \u001b[37mFlow Method Step\u001b[0m\n",
      "├── \u001b[1;32m✅ Completed:\u001b[0m\u001b[1;32m generate_task\u001b[0m\n",
      "└── \u001b[1;32m✅ Completed:\u001b[0m\u001b[1;32m start_task\u001b[0m\n",
      "\n",
      "\u001b[1;34m🌊 Flow: \u001b[0m\u001b[34mTaskManagementFlow\u001b[0m\n",
      "\u001b[37m    ID: \u001b[0m\u001b[34ma0c34ffc-8e1c-4e00-8ced-58ee0f89c45e\u001b[0m\n",
      "├── \u001b[37mFlow Method Step\u001b[0m\n",
      "├── \u001b[1;32m✅ Completed:\u001b[0m\u001b[1;32m generate_task\u001b[0m\n",
      "├── \u001b[1;32m✅ Completed:\u001b[0m\u001b[1;32m start_task\u001b[0m\n",
      "└── \u001b[1;33m🔄 Running:\u001b[0m\u001b[1;33m complete_task\u001b[0m\n",
      "\n",
      "Task Status updated : Completed\n",
      "Final Task State : {'id': 'a0c34ffc-8e1c-4e00-8ced-58ee0f89c45e', 'task': 'Fix a critical bug in the payment system', 'status': 'Completed'}\n",
      "\u001b[1;34m🌊 Flow: \u001b[0m\u001b[34mTaskManagementFlow\u001b[0m\n",
      "\u001b[37m    ID: \u001b[0m\u001b[34ma0c34ffc-8e1c-4e00-8ced-58ee0f89c45e\u001b[0m\n",
      "├── \u001b[37mFlow Method Step\u001b[0m\n",
      "├── \u001b[1;32m✅ Completed:\u001b[0m\u001b[1;32m generate_task\u001b[0m\n",
      "├── \u001b[1;32m✅ Completed:\u001b[0m\u001b[1;32m start_task\u001b[0m\n",
      "└── \u001b[1;32m✅ Completed:\u001b[0m\u001b[1;32m complete_task\u001b[0m\n",
      "\n",
      "\u001b[1;32m✅ Flow Finished: \u001b[0m\u001b[32mTaskManagementFlow\u001b[0m\n",
      "├── \u001b[37mFlow Method Step\u001b[0m\n",
      "├── \u001b[1;32m✅ Completed:\u001b[0m\u001b[1;32m generate_task\u001b[0m\n",
      "├── \u001b[1;32m✅ Completed:\u001b[0m\u001b[1;32m start_task\u001b[0m\n",
      "└── \u001b[1;32m✅ Completed:\u001b[0m\u001b[1;32m complete_task\u001b[0m\n",
      "\u001b[32m╭─\u001b[0m\u001b[32m─────────────────────────────\u001b[0m\u001b[32m Flow Completion \u001b[0m\u001b[32m──────────────────────────────\u001b[0m\u001b[32m─╮\u001b[0m\n",
      "\u001b[32m│\u001b[0m                                                                              \u001b[32m│\u001b[0m\n",
      "\u001b[32m│\u001b[0m  \u001b[1;32mFlow Execution Completed\u001b[0m                                                    \u001b[32m│\u001b[0m\n",
      "\u001b[32m│\u001b[0m  \u001b[37mName: \u001b[0m\u001b[32mTaskManagementFlow\u001b[0m                                                    \u001b[32m│\u001b[0m\n",
      "\u001b[32m│\u001b[0m  \u001b[37mID: \u001b[0m\u001b[32ma0c34ffc-8e1c-4e00-8ced-58ee0f89c45e\u001b[0m                                    \u001b[32m│\u001b[0m\n",
      "\u001b[32m│\u001b[0m                                                                              \u001b[32m│\u001b[0m\n",
      "\u001b[32m│\u001b[0m                                                                              \u001b[32m│\u001b[0m\n",
      "\u001b[32m╰──────────────────────────────────────────────────────────────────────────────╯\u001b[0m\n",
      "\n"
     ]
    }
   ],
   "source": [
    "flow = TaskManagementFlow()\n",
    "final_result = await flow.kickoff_async()"
   ]
  },
  {
   "cell_type": "markdown",
   "metadata": {},
   "source": [
    "## Structured State"
   ]
  },
  {
   "cell_type": "code",
   "execution_count": 31,
   "metadata": {},
   "outputs": [],
   "source": [
    "from pydantic import BaseModel"
   ]
  },
  {
   "cell_type": "code",
   "execution_count": 32,
   "metadata": {},
   "outputs": [],
   "source": [
    "# Defining a structured state model\n",
    "class TaskState(BaseModel):\n",
    "    task: str = \"None\"\n",
    "    status: str = \"None\""
   ]
  },
  {
   "cell_type": "code",
   "execution_count": 37,
   "metadata": {},
   "outputs": [],
   "source": [
    "from crewai.flow.flow import Flow, listen, start\n",
    "\n",
    "class StructuredTaskFlow(Flow[TaskState]):\n",
    "\n",
    "    @start()\n",
    "    def generate_task(self):\n",
    "        print(f\"Flow started. State ID : {self.state.id}\")\n",
    "        self.state.task = \"Develop a new API endpoint\"\n",
    "        self.state.status = \"Pending\"\n",
    "        print(f\"Task generated : {self.state.task} (Status : {self.state.status})\")\n",
    "    \n",
    "    @listen(generate_task)\n",
    "    def start_task(self):\n",
    "        self.state.status = \"In Progress\"\n",
    "        print(f\"Task updated to : {self.state.task} (Status : {self.state.status})\")\n",
    "\n",
    "    @listen(start_task)\n",
    "    def complete_task(self):\n",
    "        self.state.status = \"Completed\"\n",
    "        print(f\"Task Status updated : {self.state.status}\")\n",
    "        print(f\"Final Task State : {self.state}\")\n",
    "        "
   ]
  },
  {
   "cell_type": "code",
   "execution_count": 38,
   "metadata": {},
   "outputs": [
    {
     "name": "stdout",
     "output_type": "stream",
     "text": [
      "\u001b[34m╭─\u001b[0m\u001b[34m──────────────────────────────\u001b[0m\u001b[34m Flow Execution \u001b[0m\u001b[34m──────────────────────────────\u001b[0m\u001b[34m─╮\u001b[0m\n",
      "\u001b[34m│\u001b[0m                                                                              \u001b[34m│\u001b[0m\n",
      "\u001b[34m│\u001b[0m  \u001b[1;34mStarting Flow Execution\u001b[0m                                                     \u001b[34m│\u001b[0m\n",
      "\u001b[34m│\u001b[0m  \u001b[37mName: \u001b[0m\u001b[34mStructuredTaskFlow\u001b[0m                                                    \u001b[34m│\u001b[0m\n",
      "\u001b[34m│\u001b[0m  \u001b[37mID: \u001b[0m\u001b[34me420f631-481c-410a-91a3-a738132ed42d\u001b[0m                                    \u001b[34m│\u001b[0m\n",
      "\u001b[34m│\u001b[0m                                                                              \u001b[34m│\u001b[0m\n",
      "\u001b[34m│\u001b[0m                                                                              \u001b[34m│\u001b[0m\n",
      "\u001b[34m╰──────────────────────────────────────────────────────────────────────────────╯\u001b[0m\n",
      "\n",
      "\u001b[1;34m🌊 Flow: \u001b[0m\u001b[34mStructuredTaskFlow\u001b[0m\n",
      "\u001b[37m    ID: \u001b[0m\u001b[34me420f631-481c-410a-91a3-a738132ed42d\u001b[0m\n",
      "└── \u001b[33m🧠 Starting Flow...\u001b[0m\n",
      "\n",
      "\u001b[1m\u001b[35m Flow started with ID: e420f631-481c-410a-91a3-a738132ed42d\u001b[00m\n",
      "\u001b[1;34m🌊 Flow: \u001b[0m\u001b[34mStructuredTaskFlow\u001b[0m\n",
      "\u001b[37m    ID: \u001b[0m\u001b[34me420f631-481c-410a-91a3-a738132ed42d\u001b[0m\n",
      "├── \u001b[33m🧠 Starting Flow...\u001b[0m\n",
      "└── \u001b[1;33m🔄 Running:\u001b[0m\u001b[1;33m generate_task\u001b[0m\n",
      "\n",
      "Flow started. State ID : e420f631-481c-410a-91a3-a738132ed42d\n",
      "Task generated : Develop a new API endpoint (Status : Pending)\n",
      "\u001b[1;34m🌊 Flow: \u001b[0m\u001b[34mStructuredTaskFlow\u001b[0m\n",
      "\u001b[37m    ID: \u001b[0m\u001b[34me420f631-481c-410a-91a3-a738132ed42d\u001b[0m\n",
      "├── \u001b[37mFlow Method Step\u001b[0m\n",
      "└── \u001b[1;32m✅ Completed:\u001b[0m\u001b[1;32m generate_task\u001b[0m\n",
      "\n",
      "\u001b[1;34m🌊 Flow: \u001b[0m\u001b[34mStructuredTaskFlow\u001b[0m\n",
      "\u001b[37m    ID: \u001b[0m\u001b[34me420f631-481c-410a-91a3-a738132ed42d\u001b[0m\n",
      "├── \u001b[37mFlow Method Step\u001b[0m\n",
      "├── \u001b[1;32m✅ Completed:\u001b[0m\u001b[1;32m generate_task\u001b[0m\n",
      "└── \u001b[1;33m🔄 Running:\u001b[0m\u001b[1;33m start_task\u001b[0m\n",
      "\n",
      "Task updated to : Develop a new API endpoint (Status : In Progress)\n",
      "\u001b[1;34m🌊 Flow: \u001b[0m\u001b[34mStructuredTaskFlow\u001b[0m\n",
      "\u001b[37m    ID: \u001b[0m\u001b[34me420f631-481c-410a-91a3-a738132ed42d\u001b[0m\n",
      "├── \u001b[37mFlow Method Step\u001b[0m\n",
      "├── \u001b[1;32m✅ Completed:\u001b[0m\u001b[1;32m generate_task\u001b[0m\n",
      "└── \u001b[1;32m✅ Completed:\u001b[0m\u001b[1;32m start_task\u001b[0m\n",
      "\n",
      "\u001b[1;34m🌊 Flow: \u001b[0m\u001b[34mStructuredTaskFlow\u001b[0m\n",
      "\u001b[37m    ID: \u001b[0m\u001b[34me420f631-481c-410a-91a3-a738132ed42d\u001b[0m\n",
      "├── \u001b[37mFlow Method Step\u001b[0m\n",
      "├── \u001b[1;32m✅ Completed:\u001b[0m\u001b[1;32m generate_task\u001b[0m\n",
      "├── \u001b[1;32m✅ Completed:\u001b[0m\u001b[1;32m start_task\u001b[0m\n",
      "└── \u001b[1;33m🔄 Running:\u001b[0m\u001b[1;33m complete_task\u001b[0m\n",
      "\n",
      "Task Status updated : Completed\n",
      "Final Task State : id='e420f631-481c-410a-91a3-a738132ed42d' task='Develop a new API endpoint' status='Completed'\n",
      "\u001b[1;34m🌊 Flow: \u001b[0m\u001b[34mStructuredTaskFlow\u001b[0m\n",
      "\u001b[37m    ID: \u001b[0m\u001b[34me420f631-481c-410a-91a3-a738132ed42d\u001b[0m\n",
      "├── \u001b[37mFlow Method Step\u001b[0m\n",
      "├── \u001b[1;32m✅ Completed:\u001b[0m\u001b[1;32m generate_task\u001b[0m\n",
      "├── \u001b[1;32m✅ Completed:\u001b[0m\u001b[1;32m start_task\u001b[0m\n",
      "└── \u001b[1;32m✅ Completed:\u001b[0m\u001b[1;32m complete_task\u001b[0m\n",
      "\n",
      "\u001b[1;32m✅ Flow Finished: \u001b[0m\u001b[32mStructuredTaskFlow\u001b[0m\n",
      "├── \u001b[37mFlow Method Step\u001b[0m\n",
      "├── \u001b[1;32m✅ Completed:\u001b[0m\u001b[1;32m generate_task\u001b[0m\n",
      "├── \u001b[1;32m✅ Completed:\u001b[0m\u001b[1;32m start_task\u001b[0m\n",
      "└── \u001b[1;32m✅ Completed:\u001b[0m\u001b[1;32m complete_task\u001b[0m\n",
      "\u001b[32m╭─\u001b[0m\u001b[32m─────────────────────────────\u001b[0m\u001b[32m Flow Completion \u001b[0m\u001b[32m──────────────────────────────\u001b[0m\u001b[32m─╮\u001b[0m\n",
      "\u001b[32m│\u001b[0m                                                                              \u001b[32m│\u001b[0m\n",
      "\u001b[32m│\u001b[0m  \u001b[1;32mFlow Execution Completed\u001b[0m                                                    \u001b[32m│\u001b[0m\n",
      "\u001b[32m│\u001b[0m  \u001b[37mName: \u001b[0m\u001b[32mStructuredTaskFlow\u001b[0m                                                    \u001b[32m│\u001b[0m\n",
      "\u001b[32m│\u001b[0m  \u001b[37mID: \u001b[0m\u001b[32me420f631-481c-410a-91a3-a738132ed42d\u001b[0m                                    \u001b[32m│\u001b[0m\n",
      "\u001b[32m│\u001b[0m                                                                              \u001b[32m│\u001b[0m\n",
      "\u001b[32m│\u001b[0m                                                                              \u001b[32m│\u001b[0m\n",
      "\u001b[32m╰──────────────────────────────────────────────────────────────────────────────╯\u001b[0m\n",
      "\n"
     ]
    }
   ],
   "source": [
    "flow = StructuredTaskFlow()\n",
    "final_result = await flow.kickoff_async()"
   ]
  },
  {
   "cell_type": "markdown",
   "metadata": {},
   "source": [
    "__we cannot dynamically add any new states during run-time__"
   ]
  },
  {
   "cell_type": "markdown",
   "metadata": {},
   "source": [
    "## Conditional Flow Control"
   ]
  },
  {
   "cell_type": "markdown",
   "metadata": {},
   "source": [
    "### OR conditional logic"
   ]
  },
  {
   "cell_type": "code",
   "execution_count": 40,
   "metadata": {},
   "outputs": [],
   "source": [
    "from crewai.flow.flow import Flow, start, listen, or_\n",
    "\n",
    "class SupportFlow(Flow):\n",
    "\n",
    "    @start()\n",
    "    def live_chat(self):\n",
    "        return \"Support request received via live chat\"\n",
    "    \n",
    "    @start()\n",
    "    def email_ticket_request(self):\n",
    "        return \"Support request received via email ticket\"\n",
    "    \n",
    "    @listen(or_(live_chat, email_ticket_request))\n",
    "    def log_request(self, request_source):\n",
    "        print(f\"Logging request : {request_source}\")\n",
    "        "
   ]
  },
  {
   "cell_type": "code",
   "execution_count": 42,
   "metadata": {},
   "outputs": [
    {
     "name": "stdout",
     "output_type": "stream",
     "text": [
      "\u001b[34m╭─\u001b[0m\u001b[34m──────────────────────────────\u001b[0m\u001b[34m Flow Execution \u001b[0m\u001b[34m──────────────────────────────\u001b[0m\u001b[34m─╮\u001b[0m\n",
      "\u001b[34m│\u001b[0m                                                                              \u001b[34m│\u001b[0m\n",
      "\u001b[34m│\u001b[0m  \u001b[1;34mStarting Flow Execution\u001b[0m                                                     \u001b[34m│\u001b[0m\n",
      "\u001b[34m│\u001b[0m  \u001b[37mName: \u001b[0m\u001b[34mSupportFlow\u001b[0m                                                           \u001b[34m│\u001b[0m\n",
      "\u001b[34m│\u001b[0m  \u001b[37mID: \u001b[0m\u001b[34m662d6f97-30d9-4e89-a461-fce7ac98f623\u001b[0m                                    \u001b[34m│\u001b[0m\n",
      "\u001b[34m│\u001b[0m                                                                              \u001b[34m│\u001b[0m\n",
      "\u001b[34m│\u001b[0m                                                                              \u001b[34m│\u001b[0m\n",
      "\u001b[34m╰──────────────────────────────────────────────────────────────────────────────╯\u001b[0m\n",
      "\n",
      "\u001b[1;34m🌊 Flow: \u001b[0m\u001b[34mSupportFlow\u001b[0m\n",
      "\u001b[37m    ID: \u001b[0m\u001b[34m662d6f97-30d9-4e89-a461-fce7ac98f623\u001b[0m\n",
      "└── \u001b[33m🧠 Starting Flow...\u001b[0m\n",
      "\n",
      "\u001b[1m\u001b[35m Flow started with ID: 662d6f97-30d9-4e89-a461-fce7ac98f623\u001b[00m\n",
      "\u001b[1;34m🌊 Flow: \u001b[0m\u001b[34mSupportFlow\u001b[0m\n",
      "\u001b[37m    ID: \u001b[0m\u001b[34m662d6f97-30d9-4e89-a461-fce7ac98f623\u001b[0m\n",
      "├── \u001b[33m🧠 Starting Flow...\u001b[0m\n",
      "└── \u001b[1;33m🔄 Running:\u001b[0m\u001b[1;33m live_chat\u001b[0m\n",
      "\n",
      "\u001b[1;34m🌊 Flow: \u001b[0m\u001b[34mSupportFlow\u001b[0m\n",
      "\u001b[37m    ID: \u001b[0m\u001b[34m662d6f97-30d9-4e89-a461-fce7ac98f623\u001b[0m\n",
      "├── \u001b[37mFlow Method Step\u001b[0m\n",
      "└── \u001b[1;32m✅ Completed:\u001b[0m\u001b[1;32m live_chat\u001b[0m\n",
      "\n",
      "\u001b[1;34m🌊 Flow: \u001b[0m\u001b[34mSupportFlow\u001b[0m\n",
      "\u001b[37m    ID: \u001b[0m\u001b[34m662d6f97-30d9-4e89-a461-fce7ac98f623\u001b[0m\n",
      "├── \u001b[37mFlow Method Step\u001b[0m\n",
      "├── \u001b[1;32m✅ Completed:\u001b[0m\u001b[1;32m live_chat\u001b[0m\n",
      "└── \u001b[1;33m🔄 Running:\u001b[0m\u001b[1;33m email_ticket_request\u001b[0m\n",
      "\n",
      "\u001b[1;34m🌊 Flow: \u001b[0m\u001b[34mSupportFlow\u001b[0m\n",
      "\u001b[37m    ID: \u001b[0m\u001b[34m662d6f97-30d9-4e89-a461-fce7ac98f623\u001b[0m\n",
      "├── \u001b[37mFlow Method Step\u001b[0m\n",
      "├── \u001b[1;32m✅ Completed:\u001b[0m\u001b[1;32m live_chat\u001b[0m\n",
      "└── \u001b[1;32m✅ Completed:\u001b[0m\u001b[1;32m email_ticket_request\u001b[0m\n",
      "\n",
      "\u001b[1;34m🌊 Flow: \u001b[0m\u001b[34mSupportFlow\u001b[0m\n",
      "\u001b[37m    ID: \u001b[0m\u001b[34m662d6f97-30d9-4e89-a461-fce7ac98f623\u001b[0m\n",
      "├── \u001b[37mFlow Method Step\u001b[0m\n",
      "├── \u001b[1;32m✅ Completed:\u001b[0m\u001b[1;32m live_chat\u001b[0m\n",
      "├── \u001b[1;32m✅ Completed:\u001b[0m\u001b[1;32m email_ticket_request\u001b[0m\n",
      "└── \u001b[1;33m🔄 Running:\u001b[0m\u001b[1;33m log_request\u001b[0m\n",
      "\n",
      "Logging request : Support request received via live chat\n",
      "\u001b[1;34m🌊 Flow: \u001b[0m\u001b[34mSupportFlow\u001b[0m\n",
      "\u001b[37m    ID: \u001b[0m\u001b[34m662d6f97-30d9-4e89-a461-fce7ac98f623\u001b[0m\n",
      "├── \u001b[37mFlow Method Step\u001b[0m\n",
      "├── \u001b[1;32m✅ Completed:\u001b[0m\u001b[1;32m live_chat\u001b[0m\n",
      "├── \u001b[1;32m✅ Completed:\u001b[0m\u001b[1;32m email_ticket_request\u001b[0m\n",
      "└── \u001b[1;32m✅ Completed:\u001b[0m\u001b[1;32m log_request\u001b[0m\n",
      "\n",
      "\u001b[1;34m🌊 Flow: \u001b[0m\u001b[34mSupportFlow\u001b[0m\n",
      "\u001b[37m    ID: \u001b[0m\u001b[34m662d6f97-30d9-4e89-a461-fce7ac98f623\u001b[0m\n",
      "├── \u001b[37mFlow Method Step\u001b[0m\n",
      "├── \u001b[1;32m✅ Completed:\u001b[0m\u001b[1;32m live_chat\u001b[0m\n",
      "├── \u001b[1;32m✅ Completed:\u001b[0m\u001b[1;32m email_ticket_request\u001b[0m\n",
      "└── \u001b[1;33m🔄 Running:\u001b[0m\u001b[1;33m log_request\u001b[0m\n",
      "\n",
      "Logging request : Support request received via email ticket\n",
      "\u001b[1;34m🌊 Flow: \u001b[0m\u001b[34mSupportFlow\u001b[0m\n",
      "\u001b[37m    ID: \u001b[0m\u001b[34m662d6f97-30d9-4e89-a461-fce7ac98f623\u001b[0m\n",
      "├── \u001b[37mFlow Method Step\u001b[0m\n",
      "├── \u001b[1;32m✅ Completed:\u001b[0m\u001b[1;32m live_chat\u001b[0m\n",
      "├── \u001b[1;32m✅ Completed:\u001b[0m\u001b[1;32m email_ticket_request\u001b[0m\n",
      "└── \u001b[1;32m✅ Completed:\u001b[0m\u001b[1;32m log_request\u001b[0m\n",
      "\n",
      "\u001b[1;32m✅ Flow Finished: \u001b[0m\u001b[32mSupportFlow\u001b[0m\n",
      "├── \u001b[37mFlow Method Step\u001b[0m\n",
      "├── \u001b[1;32m✅ Completed:\u001b[0m\u001b[1;32m live_chat\u001b[0m\n",
      "├── \u001b[1;32m✅ Completed:\u001b[0m\u001b[1;32m email_ticket_request\u001b[0m\n",
      "└── \u001b[1;32m✅ Completed:\u001b[0m\u001b[1;32m log_request\u001b[0m\n",
      "\u001b[32m╭─\u001b[0m\u001b[32m─────────────────────────────\u001b[0m\u001b[32m Flow Completion \u001b[0m\u001b[32m──────────────────────────────\u001b[0m\u001b[32m─╮\u001b[0m\n",
      "\u001b[32m│\u001b[0m                                                                              \u001b[32m│\u001b[0m\n",
      "\u001b[32m│\u001b[0m  \u001b[1;32mFlow Execution Completed\u001b[0m                                                    \u001b[32m│\u001b[0m\n",
      "\u001b[32m│\u001b[0m  \u001b[37mName: \u001b[0m\u001b[32mSupportFlow\u001b[0m                                                           \u001b[32m│\u001b[0m\n",
      "\u001b[32m│\u001b[0m  \u001b[37mID: \u001b[0m\u001b[32m662d6f97-30d9-4e89-a461-fce7ac98f623\u001b[0m                                    \u001b[32m│\u001b[0m\n",
      "\u001b[32m│\u001b[0m                                                                              \u001b[32m│\u001b[0m\n",
      "\u001b[32m│\u001b[0m                                                                              \u001b[32m│\u001b[0m\n",
      "\u001b[32m╰──────────────────────────────────────────────────────────────────────────────╯\u001b[0m\n",
      "\n"
     ]
    }
   ],
   "source": [
    "flow = SupportFlow()\n",
    "final_result = await flow.kickoff_async()    "
   ]
  },
  {
   "cell_type": "markdown",
   "metadata": {},
   "source": [
    "### AND condition logic"
   ]
  },
  {
   "cell_type": "code",
   "execution_count": 43,
   "metadata": {},
   "outputs": [],
   "source": [
    "from crewai.flow.flow import Flow, and_, listen, start\n",
    "\n",
    "class TicketEscalationFlow(Flow):\n",
    "\n",
    "    @start()\n",
    "    def user_confirms_issue(self):\n",
    "        self.state[\"user_confirmation\"] = True\n",
    "        print(\"User confirmed they still need assistance.\")\n",
    "\n",
    "    @listen(user_confirms_issue)\n",
    "    def agent_reviews_ticket(self):\n",
    "        self.state[\"agent_review\"] = True\n",
    "        print(\"Support agent has reviewed the ticket.\")\n",
    "\n",
    "    @listen(and_(user_confirms_issue, agent_reviews_ticket))\n",
    "    def escalate_ticket(self):\n",
    "        print(\"Escalating ticket to Level 2 support!\")"
   ]
  },
  {
   "cell_type": "code",
   "execution_count": 44,
   "metadata": {},
   "outputs": [
    {
     "name": "stdout",
     "output_type": "stream",
     "text": [
      "\u001b[34m╭─\u001b[0m\u001b[34m──────────────────────────────\u001b[0m\u001b[34m Flow Execution \u001b[0m\u001b[34m──────────────────────────────\u001b[0m\u001b[34m─╮\u001b[0m\n",
      "\u001b[34m│\u001b[0m                                                                              \u001b[34m│\u001b[0m\n",
      "\u001b[34m│\u001b[0m  \u001b[1;34mStarting Flow Execution\u001b[0m                                                     \u001b[34m│\u001b[0m\n",
      "\u001b[34m│\u001b[0m  \u001b[37mName: \u001b[0m\u001b[34mTicketEscalationFlow\u001b[0m                                                  \u001b[34m│\u001b[0m\n",
      "\u001b[34m│\u001b[0m  \u001b[37mID: \u001b[0m\u001b[34m4e5696f3-c002-4e6a-b5ad-6f05144f30f7\u001b[0m                                    \u001b[34m│\u001b[0m\n",
      "\u001b[34m│\u001b[0m                                                                              \u001b[34m│\u001b[0m\n",
      "\u001b[34m│\u001b[0m                                                                              \u001b[34m│\u001b[0m\n",
      "\u001b[34m╰──────────────────────────────────────────────────────────────────────────────╯\u001b[0m\n",
      "\n",
      "\u001b[1;34m🌊 Flow: \u001b[0m\u001b[34mTicketEscalationFlow\u001b[0m\n",
      "\u001b[37m    ID: \u001b[0m\u001b[34m4e5696f3-c002-4e6a-b5ad-6f05144f30f7\u001b[0m\n",
      "└── \u001b[33m🧠 Starting Flow...\u001b[0m\n",
      "\n",
      "\u001b[1m\u001b[35m Flow started with ID: 4e5696f3-c002-4e6a-b5ad-6f05144f30f7\u001b[00m\n",
      "\u001b[1;34m🌊 Flow: \u001b[0m\u001b[34mTicketEscalationFlow\u001b[0m\n",
      "\u001b[37m    ID: \u001b[0m\u001b[34m4e5696f3-c002-4e6a-b5ad-6f05144f30f7\u001b[0m\n",
      "├── \u001b[33m🧠 Starting Flow...\u001b[0m\n",
      "└── \u001b[1;33m🔄 Running:\u001b[0m\u001b[1;33m user_confirms_issue\u001b[0m\n",
      "\n",
      "User confirmed they still need assistance.\n",
      "\u001b[1;34m🌊 Flow: \u001b[0m\u001b[34mTicketEscalationFlow\u001b[0m\n",
      "\u001b[37m    ID: \u001b[0m\u001b[34m4e5696f3-c002-4e6a-b5ad-6f05144f30f7\u001b[0m\n",
      "├── \u001b[37mFlow Method Step\u001b[0m\n",
      "└── \u001b[1;32m✅ Completed:\u001b[0m\u001b[1;32m user_confirms_issue\u001b[0m\n",
      "\n",
      "\u001b[1;34m🌊 Flow: \u001b[0m\u001b[34mTicketEscalationFlow\u001b[0m\n",
      "\u001b[37m    ID: \u001b[0m\u001b[34m4e5696f3-c002-4e6a-b5ad-6f05144f30f7\u001b[0m\n",
      "├── \u001b[37mFlow Method Step\u001b[0m\n",
      "├── \u001b[1;32m✅ Completed:\u001b[0m\u001b[1;32m user_confirms_issue\u001b[0m\n",
      "└── \u001b[1;33m🔄 Running:\u001b[0m\u001b[1;33m agent_reviews_ticket\u001b[0m\n",
      "\n",
      "Support agent has reviewed the ticket.\n",
      "\u001b[1;34m🌊 Flow: \u001b[0m\u001b[34mTicketEscalationFlow\u001b[0m\n",
      "\u001b[37m    ID: \u001b[0m\u001b[34m4e5696f3-c002-4e6a-b5ad-6f05144f30f7\u001b[0m\n",
      "├── \u001b[37mFlow Method Step\u001b[0m\n",
      "├── \u001b[1;32m✅ Completed:\u001b[0m\u001b[1;32m user_confirms_issue\u001b[0m\n",
      "└── \u001b[1;32m✅ Completed:\u001b[0m\u001b[1;32m agent_reviews_ticket\u001b[0m\n",
      "\n",
      "\u001b[1;34m🌊 Flow: \u001b[0m\u001b[34mTicketEscalationFlow\u001b[0m\n",
      "\u001b[37m    ID: \u001b[0m\u001b[34m4e5696f3-c002-4e6a-b5ad-6f05144f30f7\u001b[0m\n",
      "├── \u001b[37mFlow Method Step\u001b[0m\n",
      "├── \u001b[1;32m✅ Completed:\u001b[0m\u001b[1;32m user_confirms_issue\u001b[0m\n",
      "├── \u001b[1;32m✅ Completed:\u001b[0m\u001b[1;32m agent_reviews_ticket\u001b[0m\n",
      "└── \u001b[1;33m🔄 Running:\u001b[0m\u001b[1;33m escalate_ticket\u001b[0m\n",
      "\n",
      "Escalating ticket to Level 2 support!\n",
      "\u001b[1;34m🌊 Flow: \u001b[0m\u001b[34mTicketEscalationFlow\u001b[0m\n",
      "\u001b[37m    ID: \u001b[0m\u001b[34m4e5696f3-c002-4e6a-b5ad-6f05144f30f7\u001b[0m\n",
      "├── \u001b[37mFlow Method Step\u001b[0m\n",
      "├── \u001b[1;32m✅ Completed:\u001b[0m\u001b[1;32m user_confirms_issue\u001b[0m\n",
      "├── \u001b[1;32m✅ Completed:\u001b[0m\u001b[1;32m agent_reviews_ticket\u001b[0m\n",
      "└── \u001b[1;32m✅ Completed:\u001b[0m\u001b[1;32m escalate_ticket\u001b[0m\n",
      "\n",
      "\u001b[1;32m✅ Flow Finished: \u001b[0m\u001b[32mTicketEscalationFlow\u001b[0m\n",
      "├── \u001b[37mFlow Method Step\u001b[0m\n",
      "├── \u001b[1;32m✅ Completed:\u001b[0m\u001b[1;32m user_confirms_issue\u001b[0m\n",
      "├── \u001b[1;32m✅ Completed:\u001b[0m\u001b[1;32m agent_reviews_ticket\u001b[0m\n",
      "└── \u001b[1;32m✅ Completed:\u001b[0m\u001b[1;32m escalate_ticket\u001b[0m\n",
      "\u001b[32m╭─\u001b[0m\u001b[32m─────────────────────────────\u001b[0m\u001b[32m Flow Completion \u001b[0m\u001b[32m──────────────────────────────\u001b[0m\u001b[32m─╮\u001b[0m\n",
      "\u001b[32m│\u001b[0m                                                                              \u001b[32m│\u001b[0m\n",
      "\u001b[32m│\u001b[0m  \u001b[1;32mFlow Execution Completed\u001b[0m                                                    \u001b[32m│\u001b[0m\n",
      "\u001b[32m│\u001b[0m  \u001b[37mName: \u001b[0m\u001b[32mTicketEscalationFlow\u001b[0m                                                  \u001b[32m│\u001b[0m\n",
      "\u001b[32m│\u001b[0m  \u001b[37mID: \u001b[0m\u001b[32m4e5696f3-c002-4e6a-b5ad-6f05144f30f7\u001b[0m                                    \u001b[32m│\u001b[0m\n",
      "\u001b[32m│\u001b[0m                                                                              \u001b[32m│\u001b[0m\n",
      "\u001b[32m│\u001b[0m                                                                              \u001b[32m│\u001b[0m\n",
      "\u001b[32m╰──────────────────────────────────────────────────────────────────────────────╯\u001b[0m\n",
      "\n"
     ]
    }
   ],
   "source": [
    "# Execute the flow\n",
    "flow = TicketEscalationFlow()\n",
    "final_result = await flow.kickoff_async()"
   ]
  },
  {
   "cell_type": "markdown",
   "metadata": {},
   "source": [
    "## Router logic"
   ]
  },
  {
   "cell_type": "code",
   "execution_count": 51,
   "metadata": {},
   "outputs": [],
   "source": [
    "import random\n",
    "from crewai.flow.flow import Flow, listen, start, router"
   ]
  },
  {
   "cell_type": "code",
   "execution_count": 52,
   "metadata": {},
   "outputs": [],
   "source": [
    "from pydantic import BaseModel\n",
    "\n",
    "class TicketState(BaseModel):\n",
    "    priority: str = \"low\""
   ]
  },
  {
   "cell_type": "code",
   "execution_count": 56,
   "metadata": {},
   "outputs": [],
   "source": [
    "class TicketRoutingFlow(Flow[TicketState]):\n",
    "    @start()\n",
    "    def classify_ticket(self):\n",
    "        print(\"Classifying support ticket...\")\n",
    "        self.state.priority = random.choice([\"high\", \"low\"])\n",
    "        print(f\"Ticket classified as: {self.state.priority}\")\n",
    "    \n",
    "    @router(classify_ticket)\n",
    "    def route_ticket(self):\n",
    "        if self.state.priority == \"high\":\n",
    "            return \"urgent_support\"\n",
    "        else:\n",
    "            return \"email_support\"\n",
    "    \n",
    "    @listen(\"urgent_support\")\n",
    "    def assign_to_agent(self):\n",
    "        print(\"Urgent ticket assigned to a live support agent!\")\n",
    "    \n",
    "    @listen(\"email_support\")\n",
    "    def assign_to_team(self):\n",
    "        print(\"Non-urgent ticket assigned to the email support team!\")"
   ]
  },
  {
   "cell_type": "code",
   "execution_count": 58,
   "metadata": {},
   "outputs": [
    {
     "name": "stdout",
     "output_type": "stream",
     "text": [
      "\u001b[34m╭─\u001b[0m\u001b[34m──────────────────────────────\u001b[0m\u001b[34m Flow Execution \u001b[0m\u001b[34m──────────────────────────────\u001b[0m\u001b[34m─╮\u001b[0m\n",
      "\u001b[34m│\u001b[0m                                                                              \u001b[34m│\u001b[0m\n",
      "\u001b[34m│\u001b[0m  \u001b[1;34mStarting Flow Execution\u001b[0m                                                     \u001b[34m│\u001b[0m\n",
      "\u001b[34m│\u001b[0m  \u001b[37mName: \u001b[0m\u001b[34mTicketRoutingFlow\u001b[0m                                                     \u001b[34m│\u001b[0m\n",
      "\u001b[34m│\u001b[0m  \u001b[37mID: \u001b[0m\u001b[34m06dc7e10-a302-41ab-aabc-69f110189ea4\u001b[0m                                    \u001b[34m│\u001b[0m\n",
      "\u001b[34m│\u001b[0m                                                                              \u001b[34m│\u001b[0m\n",
      "\u001b[34m│\u001b[0m                                                                              \u001b[34m│\u001b[0m\n",
      "\u001b[34m╰──────────────────────────────────────────────────────────────────────────────╯\u001b[0m\n",
      "\n",
      "\u001b[1;34m🌊 Flow: \u001b[0m\u001b[34mTicketRoutingFlow\u001b[0m\n",
      "\u001b[37m    ID: \u001b[0m\u001b[34m06dc7e10-a302-41ab-aabc-69f110189ea4\u001b[0m\n",
      "└── \u001b[33m🧠 Starting Flow...\u001b[0m\n",
      "\n",
      "\u001b[1m\u001b[35m Flow started with ID: 06dc7e10-a302-41ab-aabc-69f110189ea4\u001b[00m\n",
      "\u001b[1;34m🌊 Flow: \u001b[0m\u001b[34mTicketRoutingFlow\u001b[0m\n",
      "\u001b[37m    ID: \u001b[0m\u001b[34m06dc7e10-a302-41ab-aabc-69f110189ea4\u001b[0m\n",
      "├── \u001b[33m🧠 Starting Flow...\u001b[0m\n",
      "└── \u001b[1;33m🔄 Running:\u001b[0m\u001b[1;33m classify_ticket\u001b[0m\n",
      "\n",
      "Classifying support ticket...\n",
      "Ticket classified as: low\n",
      "\u001b[1;34m🌊 Flow: \u001b[0m\u001b[34mTicketRoutingFlow\u001b[0m\n",
      "\u001b[37m    ID: \u001b[0m\u001b[34m06dc7e10-a302-41ab-aabc-69f110189ea4\u001b[0m\n",
      "├── \u001b[37mFlow Method Step\u001b[0m\n",
      "└── \u001b[1;32m✅ Completed:\u001b[0m\u001b[1;32m classify_ticket\u001b[0m\n",
      "\n",
      "\u001b[1;34m🌊 Flow: \u001b[0m\u001b[34mTicketRoutingFlow\u001b[0m\n",
      "\u001b[37m    ID: \u001b[0m\u001b[34m06dc7e10-a302-41ab-aabc-69f110189ea4\u001b[0m\n",
      "├── \u001b[37mFlow Method Step\u001b[0m\n",
      "├── \u001b[1;32m✅ Completed:\u001b[0m\u001b[1;32m classify_ticket\u001b[0m\n",
      "└── \u001b[1;33m🔄 Running:\u001b[0m\u001b[1;33m route_ticket\u001b[0m\n",
      "\n",
      "\u001b[1;34m🌊 Flow: \u001b[0m\u001b[34mTicketRoutingFlow\u001b[0m\n",
      "\u001b[37m    ID: \u001b[0m\u001b[34m06dc7e10-a302-41ab-aabc-69f110189ea4\u001b[0m\n",
      "├── \u001b[37mFlow Method Step\u001b[0m\n",
      "├── \u001b[1;32m✅ Completed:\u001b[0m\u001b[1;32m classify_ticket\u001b[0m\n",
      "└── \u001b[1;32m✅ Completed:\u001b[0m\u001b[1;32m route_ticket\u001b[0m\n",
      "\n",
      "\u001b[1;34m🌊 Flow: \u001b[0m\u001b[34mTicketRoutingFlow\u001b[0m\n",
      "\u001b[37m    ID: \u001b[0m\u001b[34m06dc7e10-a302-41ab-aabc-69f110189ea4\u001b[0m\n",
      "├── \u001b[37mFlow Method Step\u001b[0m\n",
      "├── \u001b[1;32m✅ Completed:\u001b[0m\u001b[1;32m classify_ticket\u001b[0m\n",
      "├── \u001b[1;32m✅ Completed:\u001b[0m\u001b[1;32m route_ticket\u001b[0m\n",
      "└── \u001b[1;33m🔄 Running:\u001b[0m\u001b[1;33m assign_to_team\u001b[0m\n",
      "\n",
      "Non-urgent ticket assigned to the email support team!\n",
      "\u001b[1;34m🌊 Flow: \u001b[0m\u001b[34mTicketRoutingFlow\u001b[0m\n",
      "\u001b[37m    ID: \u001b[0m\u001b[34m06dc7e10-a302-41ab-aabc-69f110189ea4\u001b[0m\n",
      "├── \u001b[37mFlow Method Step\u001b[0m\n",
      "├── \u001b[1;32m✅ Completed:\u001b[0m\u001b[1;32m classify_ticket\u001b[0m\n",
      "├── \u001b[1;32m✅ Completed:\u001b[0m\u001b[1;32m route_ticket\u001b[0m\n",
      "└── \u001b[1;32m✅ Completed:\u001b[0m\u001b[1;32m assign_to_team\u001b[0m\n",
      "\n",
      "\u001b[1;32m✅ Flow Finished: \u001b[0m\u001b[32mTicketRoutingFlow\u001b[0m\n",
      "├── \u001b[37mFlow Method Step\u001b[0m\n",
      "├── \u001b[1;32m✅ Completed:\u001b[0m\u001b[1;32m classify_ticket\u001b[0m\n",
      "├── \u001b[1;32m✅ Completed:\u001b[0m\u001b[1;32m route_ticket\u001b[0m\n",
      "└── \u001b[1;32m✅ Completed:\u001b[0m\u001b[1;32m assign_to_team\u001b[0m\n",
      "\u001b[32m╭─\u001b[0m\u001b[32m─────────────────────────────\u001b[0m\u001b[32m Flow Completion \u001b[0m\u001b[32m──────────────────────────────\u001b[0m\u001b[32m─╮\u001b[0m\n",
      "\u001b[32m│\u001b[0m                                                                              \u001b[32m│\u001b[0m\n",
      "\u001b[32m│\u001b[0m  \u001b[1;32mFlow Execution Completed\u001b[0m                                                    \u001b[32m│\u001b[0m\n",
      "\u001b[32m│\u001b[0m  \u001b[37mName: \u001b[0m\u001b[32mTicketRoutingFlow\u001b[0m                                                     \u001b[32m│\u001b[0m\n",
      "\u001b[32m│\u001b[0m  \u001b[37mID: \u001b[0m\u001b[32m06dc7e10-a302-41ab-aabc-69f110189ea4\u001b[0m                                    \u001b[32m│\u001b[0m\n",
      "\u001b[32m│\u001b[0m                                                                              \u001b[32m│\u001b[0m\n",
      "\u001b[32m│\u001b[0m                                                                              \u001b[32m│\u001b[0m\n",
      "\u001b[32m╰──────────────────────────────────────────────────────────────────────────────╯\u001b[0m\n",
      "\n"
     ]
    }
   ],
   "source": [
    "# Execute the flow\n",
    "flow = TicketRoutingFlow()\n",
    "final_result = await flow.kickoff_async()"
   ]
  }
 ],
 "metadata": {
  "kernelspec": {
   "display_name": "crewEnv",
   "language": "python",
   "name": "python3"
  },
  "language_info": {
   "codemirror_mode": {
    "name": "ipython",
    "version": 3
   },
   "file_extension": ".py",
   "mimetype": "text/x-python",
   "name": "python",
   "nbconvert_exporter": "python",
   "pygments_lexer": "ipython3",
   "version": "3.11.11"
  }
 },
 "nbformat": 4,
 "nbformat_minor": 2
}
