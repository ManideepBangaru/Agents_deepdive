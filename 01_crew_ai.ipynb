{
 "cells": [
  {
   "cell_type": "markdown",
   "metadata": {},
   "source": [
    "## Define LLM"
   ]
  },
  {
   "cell_type": "code",
   "execution_count": 9,
   "metadata": {},
   "outputs": [],
   "source": [
    "from crewai import LLM\n",
    "from dotenv import load_dotenv\n",
    "from langsmith import Client\n",
    "import os\n",
    "load_dotenv()\n",
    "\n",
    "# initialize langsmith client\n",
    "client = Client()\n",
    "\n",
    "# Initialize OpenAI with credentials from .env\n",
    "llm = LLM(\n",
    "    model = os.getenv(\"OPENAI_MODEL_NAME\")\n",
    ")\n"
   ]
  },
  {
   "cell_type": "markdown",
   "metadata": {},
   "source": [
    "## Load Agents"
   ]
  },
  {
   "cell_type": "code",
   "execution_count": 10,
   "metadata": {},
   "outputs": [],
   "source": [
    "from crewai import Agent"
   ]
  },
  {
   "cell_type": "code",
   "execution_count": 11,
   "metadata": {},
   "outputs": [],
   "source": [
    "senior_technical_writer = Agent(\n",
    "    role=\"Senior Technical Writer\",\n",
    "    goal=\"\"\"Craft clear, engaging, and well-structured technical content \n",
    "    based on research findings\"\"\",\n",
    "    backstory=\"\"\"You are an experienced technical writer with expertise in simplifying complex\n",
    "                concepts, structuring content for readability, and ensuring accuracy in documentation.\"\"\",\n",
    "    llm=llm,\n",
    "    verbose=True\n",
    ")"
   ]
  },
  {
   "cell_type": "markdown",
   "metadata": {},
   "source": [
    "### Research Analyst Agent\n",
    "\n",
    "This agent is responsible for conducting in-depth research and summarizing findings concisely"
   ]
  },
  {
   "cell_type": "code",
   "execution_count": 12,
   "metadata": {},
   "outputs": [],
   "source": [
    "from crewai import Agent\n",
    "\n",
    "research_analyst = Agent(\n",
    "    role=\"Senior Research Analyst\",\n",
    "    goal=\"\"\"Find, analyze, and summarize information \n",
    "            from various sources to support technical \n",
    "            and business-related inquiries.\"\"\",\n",
    "    backstory=\"\"\"You are a skilled research analyst with expertise \n",
    "                 in gathering accurate data, identifying key trends, \n",
    "                 and presenting insights in a structured manner.\"\"\",\n",
    "    llm=llm,\n",
    "    verbose=True\n",
    ")"
   ]
  },
  {
   "cell_type": "markdown",
   "metadata": {},
   "source": [
    "### Code Review Agent\n",
    "\n",
    "This agent specializes in reviewing code for errors, optimizations, and best practices"
   ]
  },
  {
   "cell_type": "code",
   "execution_count": 13,
   "metadata": {},
   "outputs": [],
   "source": [
    "from crewai import Agent\n",
    "\n",
    "code_reviewer = Agent(\n",
    "    role=\"Senior Code Reviewer\",\n",
    "    goal=\"\"\"Review code for bugs, inefficiencies, and \n",
    "            security vulnerabilities while ensuring adherence \n",
    "            to best coding practices.\"\"\",\n",
    "    backstory=\"\"\"You are a seasoned software engineer with years of \n",
    "                 experience in writing, reviewing, and optimizing \n",
    "                 production-level code in multiple programming languages.\"\"\",\n",
    "    llm=llm,\n",
    "    verbose=True\n",
    ")"
   ]
  },
  {
   "cell_type": "markdown",
   "metadata": {},
   "source": [
    "### Legal Document Reviewer\n",
    "\n",
    "This agent specializes in analyzing legal contracts and ensuring compliance"
   ]
  },
  {
   "cell_type": "code",
   "execution_count": 14,
   "metadata": {},
   "outputs": [],
   "source": [
    "from crewai import Agent\n",
    "\n",
    "legal_reviewer = Agent(\n",
    "    role=\"Legal Document Expert Reviewer\",\n",
    "    goal=\"\"\"Review contracts and legal documents to \n",
    "            ensure compliance with applicable laws and \n",
    "            highlight potential risks.\"\"\",\n",
    "    backstory=\"\"\"You are a legal expert with deep knowledge \n",
    "                 of contract law, regulatory frameworks, \n",
    "                 and risk mitigation strategies.\"\"\",\n",
    "    llm=llm,\n",
    "    verbose=True\n",
    ")\n"
   ]
  },
  {
   "cell_type": "markdown",
   "metadata": {},
   "source": [
    "## Define Tasks"
   ]
  },
  {
   "cell_type": "code",
   "execution_count": 15,
   "metadata": {},
   "outputs": [],
   "source": [
    "# A simple task for the Senior Technical Writer Agent created earlier is\n",
    "\n",
    "from crewai import Task\n",
    "\n",
    "writing_task = Task(\n",
    "    description=\"\"\" Write a well-structured, engaging, and technically accurate\n",
    "                article on {topic}\"\"\",\n",
    "    agent=senior_technical_writer,\n",
    "    expected_output=\"\"\" A polished, detailed, and easy-to-read article on the given topic\"\"\"\n",
    ")"
   ]
  },
  {
   "cell_type": "markdown",
   "metadata": {},
   "source": [
    "## Create Crew"
   ]
  },
  {
   "cell_type": "code",
   "execution_count": 16,
   "metadata": {},
   "outputs": [
    {
     "name": "stderr",
     "output_type": "stream",
     "text": [
      "WARNING:opentelemetry.trace:Overriding of current TracerProvider is not allowed\n"
     ]
    },
    {
     "name": "stdout",
     "output_type": "stream",
     "text": [
      "\u001b[1m\u001b[95m# Agent:\u001b[00m \u001b[1m\u001b[92mSenior Technical Writer\u001b[00m\n",
      "\u001b[95m## Task:\u001b[00m \u001b[92m Write a well-structured, engaging, and technically accurate\n",
      "                article on AI Agents\u001b[00m\n",
      "\n",
      "\n",
      "\u001b[1m\u001b[95m# Agent:\u001b[00m \u001b[1m\u001b[92mSenior Technical Writer\u001b[00m\n",
      "\u001b[95m## Final Answer:\u001b[00m \u001b[92m\n",
      "Title: Understanding AI Agents: The Building Blocks of Intelligent Systems\n",
      "\n",
      "Introduction\n",
      "\n",
      "In the rapidly evolving landscape of artificial intelligence, AI agents stand out as a fundamental concept that powers numerous applications and systems. These agents are designed to perform tasks autonomously, making decisions and learning from their environments. This article aims to demystify AI agents by exploring their types, functions, and the underlying technologies that enable them to operate effectively.\n",
      "\n",
      "What are AI Agents?\n",
      "\n",
      "An AI agent is a system that perceives its environment through sensors and acts upon that environment using actuators. The fundamental characteristic of an AI agent is its ability to make decisions autonomously to achieve specific goals. These decisions are based on the agent's internal model, which it uses to interpret its perceptions and decide on actions.\n",
      "\n",
      "Types of AI Agents\n",
      "\n",
      "1. **Simple Reflex Agents**: These agents operate based on a set of predefined rules that map inputs to outputs. They are like reflexive systems that respond immediately to environmental changes but lack memory and the ability to learn or adapt.\n",
      "\n",
      "2. **Model-Based Reflex Agents**: Unlike simple reflex agents, these have an internal model that keeps track of the world. This model helps them make better decisions by taking into account the history of past actions and the state of the environment.\n",
      "\n",
      "3. **Goal-Based Agents**: These agents act to achieve specific goals. They use a combination of the current state and model predictions to generate actions that foster goal achievement. Goal-based agents are more flexible and intelligent as they can alter their course of action to achieve their objectives.\n",
      "\n",
      "4. **Utility-Based Agents**: Beyond merely achieving goals, utility-based agents aim to maximize their performance by evaluating the utility, or benefit, of each possible state it can reach. This involves sophisticated calculations and decision-making processes to find the optimal path.\n",
      "\n",
      "5. **Learning Agents**: These are the most advanced AI agents capable of learning from their experiences. They improve their performance over time by adapting to new data and changing environments. Learning agents typically employ machine learning techniques to refine their predictions and decision-making strategies.\n",
      "\n",
      "How AI Agents Work\n",
      "\n",
      "The function of AI agents is rooted in a cycle that includes perception, decision-making, and action. Here's a breakdown of the basic steps:\n",
      "\n",
      "- **Perception**: The agent gathers data from its environment using sensors. This data provides the context needed for making informed decisions.\n",
      "- **Decision-Making**: Using its internal models and knowledge base, the agent processes the data to assess the situation, weigh possible actions, and choose the best course of action.\n",
      "- **Action**: After deciding on an action, the agent uses actuators to interact with its environment and execute the chosen action.\n",
      "- **Learning and Adaptation**: Especially true for learning agents, they update their models based on feedback and the outcome of actions to improve future performance.\n",
      "\n",
      "Applications of AI Agents\n",
      "\n",
      "AI agents are versatile and find applications across various domains:\n",
      "\n",
      "- **Autonomous Vehicles**: Self-driving cars use AI agents to perceive road conditions, make navigation decisions, and ensure passenger safety.\n",
      "- **Digital Assistants**: AI-powered assistants, like Siri and Alexa, employ agents to understand natural language, respond to queries, and perform tasks.\n",
      "- **Robotics**: Industrial and consumer robots use agents to automate tasks, handle repetitive or dangerous jobs, and assist in human-computer interaction.\n",
      "- **Financial Services**: AI agents help in risk assessment, fraud detection, and automated trading in the financial sector.\n",
      "\n",
      "Challenges and Future of AI Agents\n",
      "\n",
      "Despite their successes, AI agents face numerous challenges, including ethical concerns, computational complexity, and the need for vast amounts of data. Ensuring the reliability and transparency of AI agents is crucial, particularly in mission-critical applications. The future development of AI agents will likely focus on enhancing their interpretability and ensuring alignment with human values and societal norms.\n",
      "\n",
      "Conclusion\n",
      "\n",
      "AI agents are at the forefront of artificial intelligence technology, providing the foundational capabilities enabling machines to act intelligently. By continuously advancing these systems, we stand on the brink of creating increasingly sophisticated applications that can transform industries and everyday life. As we progress, addressing the challenges faced by AI agents will be key to unlocking their full potential and ensuring they benefit society as a whole.\u001b[00m\n",
      "\n",
      "\n"
     ]
    }
   ],
   "source": [
    "from crewai import Crew\n",
    "\n",
    "crew = Crew(\n",
    "    agents = [senior_technical_writer],\n",
    "    tasks = [writing_task],\n",
    "    verbose=True  # Use the same project name as above\n",
    ")\n",
    "\n",
    "## Kickoff Crew\n",
    "response = crew.kickoff(inputs={\"topic\": \"AI Agents\"})"
   ]
  },
  {
   "cell_type": "code",
   "execution_count": 17,
   "metadata": {},
   "outputs": [
    {
     "data": {
      "text/markdown": [
       "Title: Understanding AI Agents: The Building Blocks of Intelligent Systems\n",
       "\n",
       "Introduction\n",
       "\n",
       "In the rapidly evolving landscape of artificial intelligence, AI agents stand out as a fundamental concept that powers numerous applications and systems. These agents are designed to perform tasks autonomously, making decisions and learning from their environments. This article aims to demystify AI agents by exploring their types, functions, and the underlying technologies that enable them to operate effectively.\n",
       "\n",
       "What are AI Agents?\n",
       "\n",
       "An AI agent is a system that perceives its environment through sensors and acts upon that environment using actuators. The fundamental characteristic of an AI agent is its ability to make decisions autonomously to achieve specific goals. These decisions are based on the agent's internal model, which it uses to interpret its perceptions and decide on actions.\n",
       "\n",
       "Types of AI Agents\n",
       "\n",
       "1. **Simple Reflex Agents**: These agents operate based on a set of predefined rules that map inputs to outputs. They are like reflexive systems that respond immediately to environmental changes but lack memory and the ability to learn or adapt.\n",
       "\n",
       "2. **Model-Based Reflex Agents**: Unlike simple reflex agents, these have an internal model that keeps track of the world. This model helps them make better decisions by taking into account the history of past actions and the state of the environment.\n",
       "\n",
       "3. **Goal-Based Agents**: These agents act to achieve specific goals. They use a combination of the current state and model predictions to generate actions that foster goal achievement. Goal-based agents are more flexible and intelligent as they can alter their course of action to achieve their objectives.\n",
       "\n",
       "4. **Utility-Based Agents**: Beyond merely achieving goals, utility-based agents aim to maximize their performance by evaluating the utility, or benefit, of each possible state it can reach. This involves sophisticated calculations and decision-making processes to find the optimal path.\n",
       "\n",
       "5. **Learning Agents**: These are the most advanced AI agents capable of learning from their experiences. They improve their performance over time by adapting to new data and changing environments. Learning agents typically employ machine learning techniques to refine their predictions and decision-making strategies.\n",
       "\n",
       "How AI Agents Work\n",
       "\n",
       "The function of AI agents is rooted in a cycle that includes perception, decision-making, and action. Here's a breakdown of the basic steps:\n",
       "\n",
       "- **Perception**: The agent gathers data from its environment using sensors. This data provides the context needed for making informed decisions.\n",
       "- **Decision-Making**: Using its internal models and knowledge base, the agent processes the data to assess the situation, weigh possible actions, and choose the best course of action.\n",
       "- **Action**: After deciding on an action, the agent uses actuators to interact with its environment and execute the chosen action.\n",
       "- **Learning and Adaptation**: Especially true for learning agents, they update their models based on feedback and the outcome of actions to improve future performance.\n",
       "\n",
       "Applications of AI Agents\n",
       "\n",
       "AI agents are versatile and find applications across various domains:\n",
       "\n",
       "- **Autonomous Vehicles**: Self-driving cars use AI agents to perceive road conditions, make navigation decisions, and ensure passenger safety.\n",
       "- **Digital Assistants**: AI-powered assistants, like Siri and Alexa, employ agents to understand natural language, respond to queries, and perform tasks.\n",
       "- **Robotics**: Industrial and consumer robots use agents to automate tasks, handle repetitive or dangerous jobs, and assist in human-computer interaction.\n",
       "- **Financial Services**: AI agents help in risk assessment, fraud detection, and automated trading in the financial sector.\n",
       "\n",
       "Challenges and Future of AI Agents\n",
       "\n",
       "Despite their successes, AI agents face numerous challenges, including ethical concerns, computational complexity, and the need for vast amounts of data. Ensuring the reliability and transparency of AI agents is crucial, particularly in mission-critical applications. The future development of AI agents will likely focus on enhancing their interpretability and ensuring alignment with human values and societal norms.\n",
       "\n",
       "Conclusion\n",
       "\n",
       "AI agents are at the forefront of artificial intelligence technology, providing the foundational capabilities enabling machines to act intelligently. By continuously advancing these systems, we stand on the brink of creating increasingly sophisticated applications that can transform industries and everyday life. As we progress, addressing the challenges faced by AI agents will be key to unlocking their full potential and ensuring they benefit society as a whole."
      ],
      "text/plain": [
       "<IPython.core.display.Markdown object>"
      ]
     },
     "execution_count": 17,
     "metadata": {},
     "output_type": "execute_result"
    }
   ],
   "source": [
    "from IPython.display import Markdown\n",
    "\n",
    "Markdown(response.raw)"
   ]
  }
 ],
 "metadata": {
  "kernelspec": {
   "display_name": "agentEnv",
   "language": "python",
   "name": "python3"
  },
  "language_info": {
   "codemirror_mode": {
    "name": "ipython",
    "version": 3
   },
   "file_extension": ".py",
   "mimetype": "text/x-python",
   "name": "python",
   "nbconvert_exporter": "python",
   "pygments_lexer": "ipython3",
   "version": "3.11.9"
  }
 },
 "nbformat": 4,
 "nbformat_minor": 2
}
