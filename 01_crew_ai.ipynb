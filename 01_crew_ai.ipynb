{
 "cells": [
  {
   "cell_type": "markdown",
   "metadata": {},
   "source": [
    "## Define LLM"
   ]
  },
  {
   "cell_type": "code",
   "execution_count": 17,
   "metadata": {},
   "outputs": [],
   "source": [
    "from crewai import LLM\n",
    "from dotenv import load_dotenv\n",
    "import os\n",
    "load_dotenv()\n",
    "\n",
    "# Initialize OpenAI with credentials from .env\n",
    "llm = LLM(\n",
    "    model = os.getenv(\"OPENAI_MODEL_NAME\")\n",
    ")\n"
   ]
  },
  {
   "cell_type": "markdown",
   "metadata": {},
   "source": [
    "## Load Agents"
   ]
  },
  {
   "cell_type": "code",
   "execution_count": 9,
   "metadata": {},
   "outputs": [],
   "source": [
    "from crewai import Agent"
   ]
  },
  {
   "cell_type": "code",
   "execution_count": 10,
   "metadata": {},
   "outputs": [],
   "source": [
    "senior_technical_writer = Agent(\n",
    "    role=\"Senior Technical Writer\",\n",
    "    goal=\"\"\"Craft clear, engaging, and well-structured technical content \n",
    "    based on research findings\"\"\",\n",
    "    backstory=\"\"\"You are an experienced technical writer with expertise in simplifying complex\n",
    "                concepts, structuring content for readability, and ensuring accuracy in documentation.\"\"\",\n",
    "    llm=llm,\n",
    "    verbose=True\n",
    ")"
   ]
  },
  {
   "cell_type": "markdown",
   "metadata": {},
   "source": [
    "### Research Analyst Agent\n",
    "\n",
    "This agent is responsible for conducting in-depth research and summarizing findings concisely"
   ]
  },
  {
   "cell_type": "code",
   "execution_count": 11,
   "metadata": {},
   "outputs": [],
   "source": [
    "from crewai import Agent\n",
    "\n",
    "research_analyst = Agent(\n",
    "    role=\"Senior Research Analyst\",\n",
    "    goal=\"\"\"Find, analyze, and summarize information \n",
    "            from various sources to support technical \n",
    "            and business-related inquiries.\"\"\",\n",
    "    backstory=\"\"\"You are a skilled research analyst with expertise \n",
    "                 in gathering accurate data, identifying key trends, \n",
    "                 and presenting insights in a structured manner.\"\"\",\n",
    "    llm=llm,\n",
    "    verbose=True\n",
    ")"
   ]
  },
  {
   "cell_type": "markdown",
   "metadata": {},
   "source": [
    "### Code Review Agent\n",
    "\n",
    "This agent specializes in reviewing code for errors, optimizations, and best practices"
   ]
  },
  {
   "cell_type": "code",
   "execution_count": 12,
   "metadata": {},
   "outputs": [],
   "source": [
    "from crewai import Agent\n",
    "\n",
    "code_reviewer = Agent(\n",
    "    role=\"Senior Code Reviewer\",\n",
    "    goal=\"\"\"Review code for bugs, inefficiencies, and \n",
    "            security vulnerabilities while ensuring adherence \n",
    "            to best coding practices.\"\"\",\n",
    "    backstory=\"\"\"You are a seasoned software engineer with years of \n",
    "                 experience in writing, reviewing, and optimizing \n",
    "                 production-level code in multiple programming languages.\"\"\",\n",
    "    llm=llm,\n",
    "    verbose=True\n",
    ")"
   ]
  },
  {
   "cell_type": "markdown",
   "metadata": {},
   "source": [
    "### Legal Document Reviewer\n",
    "\n",
    "This agent specializes in analyzing legal contracts and ensuring compliance"
   ]
  },
  {
   "cell_type": "code",
   "execution_count": 13,
   "metadata": {},
   "outputs": [],
   "source": [
    "from crewai import Agent\n",
    "\n",
    "legal_reviewer = Agent(\n",
    "    role=\"Legal Document Expert Reviewer\",\n",
    "    goal=\"\"\"Review contracts and legal documents to \n",
    "            ensure compliance with applicable laws and \n",
    "            highlight potential risks.\"\"\",\n",
    "    backstory=\"\"\"You are a legal expert with deep knowledge \n",
    "                 of contract law, regulatory frameworks, \n",
    "                 and risk mitigation strategies.\"\"\",\n",
    "    llm=llm,\n",
    "    verbose=True\n",
    ")\n"
   ]
  },
  {
   "cell_type": "markdown",
   "metadata": {},
   "source": [
    "## Define Tasks"
   ]
  },
  {
   "cell_type": "code",
   "execution_count": 14,
   "metadata": {},
   "outputs": [],
   "source": [
    "# A simple task for the Senior Technical Writer Agent created earlier is\n",
    "\n",
    "from crewai import Task\n",
    "\n",
    "writing_task = Task(\n",
    "    description=\"\"\" Write a well-structured, engaging, and technically accurate\n",
    "                article on {topic}\"\"\",\n",
    "    agent=senior_technical_writer,\n",
    "    expected_output=\"\"\" A polished, detailed, and easy-to-read article on the given topic\"\"\"\n",
    ")"
   ]
  },
  {
   "cell_type": "markdown",
   "metadata": {},
   "source": [
    "## Create Crew"
   ]
  },
  {
   "cell_type": "code",
   "execution_count": 15,
   "metadata": {},
   "outputs": [
    {
     "name": "stdout",
     "output_type": "stream",
     "text": [
      "\u001b[1m\u001b[95m# Agent:\u001b[00m \u001b[1m\u001b[92mSenior Technical Writer\u001b[00m\n",
      "\u001b[95m## Task:\u001b[00m \u001b[92m Write a well-structured, engaging, and technically accurate\n",
      "                article on AI Agents\u001b[00m\n",
      "\n",
      "\n",
      "\u001b[1m\u001b[95m# Agent:\u001b[00m \u001b[1m\u001b[92mSenior Technical Writer\u001b[00m\n",
      "\u001b[95m## Final Answer:\u001b[00m \u001b[92m\n",
      "Title: Understanding AI Agents: The Intelligent Helpers of the Future\n",
      "\n",
      "Introduction:\n",
      "Artificial Intelligence (AI) has significantly transformed various sectors, from healthcare and finance to education and entertainment. One of the most intriguing and promising aspects of AI is the development of AI agents. These intelligent beings are designed to perform tasks autonomously, learning and adapting to improve their functionalities. This article delves into what AI agents are, their types, applications, and the potential challenges they pose.\n",
      "\n",
      "What are AI Agents?\n",
      "AI agents are software entities that use Artificial Intelligence techniques to perform tasks independently, perceiving their environment through sensors and acting upon that environment through effectors. They can range from simple automated systems to complex entities that simulate human-like cognition and behavior.\n",
      "\n",
      "Types of AI Agents:\n",
      "1. **Reactive Agents**: These agents do not retain any memory of past actions or perceptions. They respond directly to stimuli with pre-programmed behaviors, ideal for simple tasks.\n",
      "   \n",
      "2. **Deliberative Agents**: Equipped with an internal model of the world, these agents make decisions based on reasoning and planning. They are capable of handling more complex tasks than reactive agents.\n",
      "\n",
      "3. **Learning Agents**: These agents improve their performance over time through learning. They adapt based on feedback, optimizing their operations via machine learning techniques.\n",
      "\n",
      "4. **Hybrid Agents**: Combining features of reactive, deliberative, and learning agents, hybrid agents are designed to exploit the strengths of different approaches for robust performance across a variety of scenarios.\n",
      "\n",
      "Applications of AI Agents:\n",
      "AI agents are integrated across numerous applications, contributing to efficiency and innovation in multiple sectors:\n",
      "\n",
      "1. **Customer Service**: Virtual assistants and chatbots powered by AI agents provide customer support, handling inquiries efficiently and offering personalized solutions.\n",
      "\n",
      "2. **Healthcare**: AI agents assist in diagnosing diseases, managing patient care, and automating administrative tasks, leading to improved health outcomes.\n",
      "\n",
      "3. **Finance**: They automate trading, detect fraud, and provide financial advice, making financial operations swift and more secure.\n",
      "\n",
      "4. **Autonomous Vehicles**: Self-driving cars utilize AI agents to perceive road conditions, make navigational decisions, and ensure passenger safety.\n",
      "\n",
      "5. **E-commerce**: Personalized recommendations and inventory management systems in e-commerce platforms are driven by AI agents.\n",
      "\n",
      "Challenges and Considerations:\n",
      "While AI agents offer numerous benefits, they also pose challenges that need addressing:\n",
      "\n",
      "1. **Ethical Concerns**: Privacy, decision-making accountability, and job displacement are key ethical issues surrounding AI agents.\n",
      "\n",
      "2. **Security Risks**: AI agents could be vulnerable to hacking, necessitating robust security protocols to prevent malicious activities.\n",
      "\n",
      "3. **Bias and Fairness**: AI systems can unconsciously incorporate biases present in training data, leading to unfair outcomes. Ensuring fairness in AI agent decision-making is critical.\n",
      "\n",
      "4. **Scalability**: As AI agents become more complex, the scalability of their systems must be considered to ensure they operate efficiently on a large scale.\n",
      "\n",
      "Conclusion:\n",
      "AI agents stand at the forefront of technological innovation, revolutionizing how tasks are performed across various industries. While they bring significant advantages in terms of efficiency and capability, it is essential to address the ethical, security, and operational challenges that accompany their deployment. Understanding and responsibly developing AI agents will ensure they continue to contribute positively to society's advancement, improving lives and transforming industries in unforeseen ways.\u001b[00m\n",
      "\n",
      "\n"
     ]
    }
   ],
   "source": [
    "from crewai import Crew\n",
    "\n",
    "crew = Crew(\n",
    "    agents = [senior_technical_writer],\n",
    "    tasks = [writing_task],\n",
    "    verbose=True  # Use the same project name as above\n",
    ")\n",
    "\n",
    "## Kickoff Crew\n",
    "response = crew.kickoff(inputs={\"topic\": \"AI Agents\"})"
   ]
  },
  {
   "cell_type": "code",
   "execution_count": 16,
   "metadata": {},
   "outputs": [
    {
     "data": {
      "text/markdown": [
       "Title: Understanding AI Agents: The Intelligent Helpers of the Future\n",
       "\n",
       "Introduction:\n",
       "Artificial Intelligence (AI) has significantly transformed various sectors, from healthcare and finance to education and entertainment. One of the most intriguing and promising aspects of AI is the development of AI agents. These intelligent beings are designed to perform tasks autonomously, learning and adapting to improve their functionalities. This article delves into what AI agents are, their types, applications, and the potential challenges they pose.\n",
       "\n",
       "What are AI Agents?\n",
       "AI agents are software entities that use Artificial Intelligence techniques to perform tasks independently, perceiving their environment through sensors and acting upon that environment through effectors. They can range from simple automated systems to complex entities that simulate human-like cognition and behavior.\n",
       "\n",
       "Types of AI Agents:\n",
       "1. **Reactive Agents**: These agents do not retain any memory of past actions or perceptions. They respond directly to stimuli with pre-programmed behaviors, ideal for simple tasks.\n",
       "   \n",
       "2. **Deliberative Agents**: Equipped with an internal model of the world, these agents make decisions based on reasoning and planning. They are capable of handling more complex tasks than reactive agents.\n",
       "\n",
       "3. **Learning Agents**: These agents improve their performance over time through learning. They adapt based on feedback, optimizing their operations via machine learning techniques.\n",
       "\n",
       "4. **Hybrid Agents**: Combining features of reactive, deliberative, and learning agents, hybrid agents are designed to exploit the strengths of different approaches for robust performance across a variety of scenarios.\n",
       "\n",
       "Applications of AI Agents:\n",
       "AI agents are integrated across numerous applications, contributing to efficiency and innovation in multiple sectors:\n",
       "\n",
       "1. **Customer Service**: Virtual assistants and chatbots powered by AI agents provide customer support, handling inquiries efficiently and offering personalized solutions.\n",
       "\n",
       "2. **Healthcare**: AI agents assist in diagnosing diseases, managing patient care, and automating administrative tasks, leading to improved health outcomes.\n",
       "\n",
       "3. **Finance**: They automate trading, detect fraud, and provide financial advice, making financial operations swift and more secure.\n",
       "\n",
       "4. **Autonomous Vehicles**: Self-driving cars utilize AI agents to perceive road conditions, make navigational decisions, and ensure passenger safety.\n",
       "\n",
       "5. **E-commerce**: Personalized recommendations and inventory management systems in e-commerce platforms are driven by AI agents.\n",
       "\n",
       "Challenges and Considerations:\n",
       "While AI agents offer numerous benefits, they also pose challenges that need addressing:\n",
       "\n",
       "1. **Ethical Concerns**: Privacy, decision-making accountability, and job displacement are key ethical issues surrounding AI agents.\n",
       "\n",
       "2. **Security Risks**: AI agents could be vulnerable to hacking, necessitating robust security protocols to prevent malicious activities.\n",
       "\n",
       "3. **Bias and Fairness**: AI systems can unconsciously incorporate biases present in training data, leading to unfair outcomes. Ensuring fairness in AI agent decision-making is critical.\n",
       "\n",
       "4. **Scalability**: As AI agents become more complex, the scalability of their systems must be considered to ensure they operate efficiently on a large scale.\n",
       "\n",
       "Conclusion:\n",
       "AI agents stand at the forefront of technological innovation, revolutionizing how tasks are performed across various industries. While they bring significant advantages in terms of efficiency and capability, it is essential to address the ethical, security, and operational challenges that accompany their deployment. Understanding and responsibly developing AI agents will ensure they continue to contribute positively to society's advancement, improving lives and transforming industries in unforeseen ways."
      ],
      "text/plain": [
       "<IPython.core.display.Markdown object>"
      ]
     },
     "execution_count": 16,
     "metadata": {},
     "output_type": "execute_result"
    }
   ],
   "source": [
    "from IPython.display import Markdown\n",
    "\n",
    "Markdown(response.raw)"
   ]
  },
  {
   "cell_type": "code",
   "execution_count": null,
   "metadata": {},
   "outputs": [],
   "source": []
  }
 ],
 "metadata": {
  "kernelspec": {
   "display_name": "agentEnv",
   "language": "python",
   "name": "python3"
  },
  "language_info": {
   "codemirror_mode": {
    "name": "ipython",
    "version": 3
   },
   "file_extension": ".py",
   "mimetype": "text/x-python",
   "name": "python",
   "nbconvert_exporter": "python",
   "pygments_lexer": "ipython3",
   "version": "3.11.9"
  }
 },
 "nbformat": 4,
 "nbformat_minor": 2
}
