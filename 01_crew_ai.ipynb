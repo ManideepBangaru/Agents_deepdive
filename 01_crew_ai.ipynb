{
 "cells": [
  {
   "cell_type": "markdown",
   "metadata": {},
   "source": [
    "## Define LLM"
   ]
  },
  {
   "cell_type": "code",
   "execution_count": 2,
   "metadata": {},
   "outputs": [],
   "source": [
    "from crewai import LLM\n",
    "from dotenv import load_dotenv\n",
    "import os\n",
    "load_dotenv()\n",
    "\n",
    "# Initialize OpenAI with credentials from .env\n",
    "llm = LLM(\n",
    "    model = os.getenv(\"OPENAI_MODEL_NAME\")\n",
    ")\n"
   ]
  },
  {
   "cell_type": "markdown",
   "metadata": {},
   "source": [
    "## Load Agents"
   ]
  },
  {
   "cell_type": "code",
   "execution_count": 3,
   "metadata": {},
   "outputs": [],
   "source": [
    "from crewai import Agent"
   ]
  },
  {
   "cell_type": "code",
   "execution_count": 4,
   "metadata": {},
   "outputs": [],
   "source": [
    "senior_technical_writer = Agent(\n",
    "    role=\"Senior Technical Writer\",\n",
    "    goal=\"\"\"Craft clear, engaging, and well-structured technical content \n",
    "    based on research findings\"\"\",\n",
    "    backstory=\"\"\"You are an experienced technical writer with expertise in simplifying complex\n",
    "                concepts, structuring content for readability, and ensuring accuracy in documentation.\"\"\",\n",
    "    llm=llm,\n",
    "    verbose=True\n",
    ")"
   ]
  },
  {
   "cell_type": "markdown",
   "metadata": {},
   "source": [
    "### Research Analyst Agent\n",
    "\n",
    "This agent is responsible for conducting in-depth research and summarizing findings concisely"
   ]
  },
  {
   "cell_type": "code",
   "execution_count": 5,
   "metadata": {},
   "outputs": [],
   "source": [
    "from crewai import Agent\n",
    "\n",
    "research_analyst = Agent(\n",
    "    role=\"Senior Research Analyst\",\n",
    "    goal=\"\"\"Find, analyze, and summarize information \n",
    "            from various sources to support technical \n",
    "            and business-related inquiries.\"\"\",\n",
    "    backstory=\"\"\"You are a skilled research analyst with expertise \n",
    "                 in gathering accurate data, identifying key trends, \n",
    "                 and presenting insights in a structured manner.\"\"\",\n",
    "    llm=llm,\n",
    "    verbose=True\n",
    ")"
   ]
  },
  {
   "cell_type": "markdown",
   "metadata": {},
   "source": [
    "### Code Review Agent\n",
    "\n",
    "This agent specializes in reviewing code for errors, optimizations, and best practices"
   ]
  },
  {
   "cell_type": "code",
   "execution_count": 7,
   "metadata": {},
   "outputs": [],
   "source": [
    "from crewai import Agent\n",
    "\n",
    "code_reviewer = Agent(\n",
    "    role=\"Senior Code Reviewer\",\n",
    "    goal=\"\"\"Review code for bugs, inefficiencies, and \n",
    "            security vulnerabilities while ensuring adherence \n",
    "            to best coding practices.\"\"\",\n",
    "    backstory=\"\"\"You are a seasoned software engineer with years of \n",
    "                 experience in writing, reviewing, and optimizing \n",
    "                 production-level code in multiple programming languages.\"\"\",\n",
    "    llm=llm,\n",
    "    verbose=True\n",
    ")"
   ]
  },
  {
   "cell_type": "markdown",
   "metadata": {},
   "source": [
    "### Legal Document Reviewer\n",
    "\n",
    "This agent specializes in analyzing legal contracts and ensuring compliance"
   ]
  },
  {
   "cell_type": "code",
   "execution_count": 9,
   "metadata": {},
   "outputs": [],
   "source": [
    "from crewai import Agent\n",
    "\n",
    "legal_reviewer = Agent(\n",
    "    role=\"Legal Document Expert Reviewer\",\n",
    "    goal=\"\"\"Review contracts and legal documents to \n",
    "            ensure compliance with applicable laws and \n",
    "            highlight potential risks.\"\"\",\n",
    "    backstory=\"\"\"You are a legal expert with deep knowledge \n",
    "                 of contract law, regulatory frameworks, \n",
    "                 and risk mitigation strategies.\"\"\",\n",
    "    llm=llm,\n",
    "    verbose=True\n",
    ")\n"
   ]
  },
  {
   "cell_type": "markdown",
   "metadata": {},
   "source": [
    "## Define Tasks"
   ]
  },
  {
   "cell_type": "code",
   "execution_count": 11,
   "metadata": {},
   "outputs": [],
   "source": [
    "# A simple task for the Senior Technical Writer Agent created earlier is\n",
    "\n",
    "from crewai import Task\n",
    "\n",
    "writing_task = Task(\n",
    "    description=\"\"\" Write a well-structured, engaging, and technically accurate\n",
    "                article on {topic}\"\"\",\n",
    "    agent=senior_technical_writer,\n",
    "    expected_output=\"\"\" A polished, detailed, and easy-to-read article on the given topic\"\"\"\n",
    ")"
   ]
  },
  {
   "cell_type": "markdown",
   "metadata": {},
   "source": [
    "## Create Crew"
   ]
  },
  {
   "cell_type": "code",
   "execution_count": 12,
   "metadata": {},
   "outputs": [
    {
     "data": {
      "text/html": [
       "<pre style=\"white-space:pre;overflow-x:auto;line-height:normal;font-family:Menlo,'DejaVu Sans Mono',consolas,'Courier New',monospace\"><span style=\"color: #008080; text-decoration-color: #008080\">╭──────────────────────────────────────────── Crew Execution Started ─────────────────────────────────────────────╮</span>\n",
       "<span style=\"color: #008080; text-decoration-color: #008080\">│</span>                                                                                                                 <span style=\"color: #008080; text-decoration-color: #008080\">│</span>\n",
       "<span style=\"color: #008080; text-decoration-color: #008080\">│</span>  <span style=\"color: #008080; text-decoration-color: #008080; font-weight: bold\">Crew Execution Started</span>                                                                                         <span style=\"color: #008080; text-decoration-color: #008080\">│</span>\n",
       "<span style=\"color: #008080; text-decoration-color: #008080\">│</span>  <span style=\"color: #c0c0c0; text-decoration-color: #c0c0c0\">Name: </span><span style=\"color: #008080; text-decoration-color: #008080\">crew</span>                                                                                                     <span style=\"color: #008080; text-decoration-color: #008080\">│</span>\n",
       "<span style=\"color: #008080; text-decoration-color: #008080\">│</span>  <span style=\"color: #c0c0c0; text-decoration-color: #c0c0c0\">ID: </span><span style=\"color: #008080; text-decoration-color: #008080\">7ed4e033-9c84-43fe-b7e8-e509a79c375c</span>                                                                       <span style=\"color: #008080; text-decoration-color: #008080\">│</span>\n",
       "<span style=\"color: #008080; text-decoration-color: #008080\">│</span>                                                                                                                 <span style=\"color: #008080; text-decoration-color: #008080\">│</span>\n",
       "<span style=\"color: #008080; text-decoration-color: #008080\">│</span>                                                                                                                 <span style=\"color: #008080; text-decoration-color: #008080\">│</span>\n",
       "<span style=\"color: #008080; text-decoration-color: #008080\">╰─────────────────────────────────────────────────────────────────────────────────────────────────────────────────╯</span>\n",
       "</pre>\n"
      ],
      "text/plain": [
       "\u001b[36m╭─\u001b[0m\u001b[36m───────────────────────────────────────────\u001b[0m\u001b[36m Crew Execution Started \u001b[0m\u001b[36m────────────────────────────────────────────\u001b[0m\u001b[36m─╮\u001b[0m\n",
       "\u001b[36m│\u001b[0m                                                                                                                 \u001b[36m│\u001b[0m\n",
       "\u001b[36m│\u001b[0m  \u001b[1;36mCrew Execution Started\u001b[0m                                                                                         \u001b[36m│\u001b[0m\n",
       "\u001b[36m│\u001b[0m  \u001b[37mName: \u001b[0m\u001b[36mcrew\u001b[0m                                                                                                     \u001b[36m│\u001b[0m\n",
       "\u001b[36m│\u001b[0m  \u001b[37mID: \u001b[0m\u001b[36m7ed4e033-9c84-43fe-b7e8-e509a79c375c\u001b[0m                                                                       \u001b[36m│\u001b[0m\n",
       "\u001b[36m│\u001b[0m                                                                                                                 \u001b[36m│\u001b[0m\n",
       "\u001b[36m│\u001b[0m                                                                                                                 \u001b[36m│\u001b[0m\n",
       "\u001b[36m╰─────────────────────────────────────────────────────────────────────────────────────────────────────────────────╯\u001b[0m\n"
      ]
     },
     "metadata": {},
     "output_type": "display_data"
    },
    {
     "data": {
      "text/html": [
       "<pre style=\"white-space:pre;overflow-x:auto;line-height:normal;font-family:Menlo,'DejaVu Sans Mono',consolas,'Courier New',monospace\">\n",
       "</pre>\n"
      ],
      "text/plain": [
       "\n"
      ]
     },
     "metadata": {},
     "output_type": "display_data"
    },
    {
     "data": {
      "text/html": [
       "<pre style=\"white-space:pre;overflow-x:auto;line-height:normal;font-family:Menlo,'DejaVu Sans Mono',consolas,'Courier New',monospace\"><span style=\"color: #008080; text-decoration-color: #008080; font-weight: bold\">🚀 Crew: crew</span>\n",
       "└── <span style=\"color: #808000; text-decoration-color: #808000; font-weight: bold\">📋 Task: 1a5639e6-fbbc-4289-b41d-6f6bb9453d64</span>\n",
       "    <span style=\"color: #c0c0c0; text-decoration-color: #c0c0c0\">   Status: </span><span style=\"color: #bfbf7f; text-decoration-color: #bfbf7f\">Executing Task...</span>\n",
       "</pre>\n"
      ],
      "text/plain": [
       "\u001b[1;36m🚀 Crew: \u001b[0m\u001b[1;36mcrew\u001b[0m\n",
       "└── \u001b[1;33m📋 Task: 1a5639e6-fbbc-4289-b41d-6f6bb9453d64\u001b[0m\n",
       "    \u001b[37m   Status: \u001b[0m\u001b[2;33mExecuting Task...\u001b[0m\n"
      ]
     },
     "metadata": {},
     "output_type": "display_data"
    },
    {
     "data": {
      "text/html": [
       "<pre style=\"white-space:pre;overflow-x:auto;line-height:normal;font-family:Menlo,'DejaVu Sans Mono',consolas,'Courier New',monospace\">\n",
       "</pre>\n"
      ],
      "text/plain": [
       "\n"
      ]
     },
     "metadata": {},
     "output_type": "display_data"
    },
    {
     "data": {
      "text/html": [
       "<pre style=\"white-space:pre;overflow-x:auto;line-height:normal;font-family:Menlo,'DejaVu Sans Mono',consolas,'Courier New',monospace\"><span style=\"color: #008080; text-decoration-color: #008080; font-weight: bold\">🚀 Crew: crew</span>\n",
       "└── <span style=\"color: #808000; text-decoration-color: #808000; font-weight: bold\">📋 Task: 1a5639e6-fbbc-4289-b41d-6f6bb9453d64</span>\n",
       "    <span style=\"color: #c0c0c0; text-decoration-color: #c0c0c0\">   Status: </span><span style=\"color: #bfbf7f; text-decoration-color: #bfbf7f\">Executing Task...</span>\n",
       "    └── <span style=\"color: #008000; text-decoration-color: #008000; font-weight: bold\">🤖 Agent: </span><span style=\"color: #008000; text-decoration-color: #008000\">Senior Technical Writer</span>\n",
       "        <span style=\"color: #c0c0c0; text-decoration-color: #c0c0c0\">    Status: </span><span style=\"color: #008000; text-decoration-color: #008000; font-weight: bold\">In Progress</span>\n",
       "</pre>\n"
      ],
      "text/plain": [
       "\u001b[1;36m🚀 Crew: \u001b[0m\u001b[1;36mcrew\u001b[0m\n",
       "└── \u001b[1;33m📋 Task: 1a5639e6-fbbc-4289-b41d-6f6bb9453d64\u001b[0m\n",
       "    \u001b[37m   Status: \u001b[0m\u001b[2;33mExecuting Task...\u001b[0m\n",
       "    └── \u001b[1;32m🤖 Agent: \u001b[0m\u001b[32mSenior Technical Writer\u001b[0m\n",
       "        \u001b[37m    Status: \u001b[0m\u001b[1;32mIn Progress\u001b[0m\n"
      ]
     },
     "metadata": {},
     "output_type": "display_data"
    },
    {
     "data": {
      "text/html": [
       "<pre style=\"white-space:pre;overflow-x:auto;line-height:normal;font-family:Menlo,'DejaVu Sans Mono',consolas,'Courier New',monospace\">\n",
       "</pre>\n"
      ],
      "text/plain": [
       "\n"
      ]
     },
     "metadata": {},
     "output_type": "display_data"
    },
    {
     "name": "stdout",
     "output_type": "stream",
     "text": [
      "\u001b[1m\u001b[95m# Agent:\u001b[00m \u001b[1m\u001b[92mSenior Technical Writer\u001b[00m\n",
      "\u001b[95m## Task:\u001b[00m \u001b[92m Write a well-structured, engaging, and technically accurate\n",
      "                article on AI Agents\u001b[00m\n"
     ]
    },
    {
     "data": {
      "text/html": [
       "<pre style=\"white-space:pre;overflow-x:auto;line-height:normal;font-family:Menlo,'DejaVu Sans Mono',consolas,'Courier New',monospace\"><span style=\"color: #008000; text-decoration-color: #008000; font-weight: bold\">🤖 Agent: </span><span style=\"color: #008000; text-decoration-color: #008000\">Senior Technical Writer</span>\n",
       "<span style=\"color: #c0c0c0; text-decoration-color: #c0c0c0\">    Status: </span><span style=\"color: #008000; text-decoration-color: #008000; font-weight: bold\">In Progress</span>\n",
       "└── <span style=\"color: #000080; text-decoration-color: #000080; font-weight: bold\">🧠 </span><span style=\"color: #000080; text-decoration-color: #000080\">Thinking...</span>\n",
       "</pre>\n"
      ],
      "text/plain": [
       "\u001b[1;32m🤖 Agent: \u001b[0m\u001b[32mSenior Technical Writer\u001b[0m\n",
       "\u001b[37m    Status: \u001b[0m\u001b[1;32mIn Progress\u001b[0m\n",
       "└── \u001b[1;34m🧠 \u001b[0m\u001b[34mThinking...\u001b[0m\n"
      ]
     },
     "metadata": {},
     "output_type": "display_data"
    },
    {
     "data": {
      "text/html": [
       "<pre style=\"white-space:pre;overflow-x:auto;line-height:normal;font-family:Menlo,'DejaVu Sans Mono',consolas,'Courier New',monospace\">\n",
       "</pre>\n"
      ],
      "text/plain": [
       "\n"
      ]
     },
     "metadata": {},
     "output_type": "display_data"
    },
    {
     "data": {
      "text/html": [
       "<pre style=\"white-space:pre;overflow-x:auto;line-height:normal;font-family:Menlo,'DejaVu Sans Mono',consolas,'Courier New',monospace\"><span style=\"color: #008000; text-decoration-color: #008000; font-weight: bold\">🤖 Agent: </span><span style=\"color: #008000; text-decoration-color: #008000\">Senior Technical Writer</span>\n",
       "<span style=\"color: #c0c0c0; text-decoration-color: #c0c0c0\">    Status: </span><span style=\"color: #008000; text-decoration-color: #008000; font-weight: bold\">In Progress</span>\n",
       "</pre>\n"
      ],
      "text/plain": [
       "\u001b[1;32m🤖 Agent: \u001b[0m\u001b[32mSenior Technical Writer\u001b[0m\n",
       "\u001b[37m    Status: \u001b[0m\u001b[1;32mIn Progress\u001b[0m\n"
      ]
     },
     "metadata": {},
     "output_type": "display_data"
    },
    {
     "data": {
      "text/html": [
       "<pre style=\"white-space:pre;overflow-x:auto;line-height:normal;font-family:Menlo,'DejaVu Sans Mono',consolas,'Courier New',monospace\">\n",
       "</pre>\n"
      ],
      "text/plain": [
       "\n"
      ]
     },
     "metadata": {},
     "output_type": "display_data"
    },
    {
     "name": "stdout",
     "output_type": "stream",
     "text": [
      "\n",
      "\n",
      "\u001b[1m\u001b[95m# Agent:\u001b[00m \u001b[1m\u001b[92mSenior Technical Writer\u001b[00m\n",
      "\u001b[95m## Final Answer:\u001b[00m \u001b[92m\n",
      "# Understanding AI Agents: The Future of Intelligent Automation\n",
      "\n",
      "## Introduction\n",
      "\n",
      "Artificial Intelligence (AI) has transformed various industries by introducing intelligent automation that enhances productivity, efficiency, and creativity. Among the key developments in AI are AI agents, which are systems designed to autonomously perform tasks while learning and adapting to new information. This article delves into the concept of AI agents, their types, functionalities, benefits, and implications for the future.\n",
      "\n",
      "## What are AI Agents?\n",
      "\n",
      "An AI agent is a software entity that perceives its environment through sensors and acts upon that environment using actuators. It operates autonomously to achieve specific goals, often utilizing machine learning algorithms and large datasets. The ability of AI agents to learn from experience makes them valuable in a range of applications—from customer service bots to autonomous vehicles.\n",
      "\n",
      "### Key Components of AI Agents\n",
      "\n",
      "1. **Perception**: AI agents collect data from their environment using sensors. This could involve visual input (like camera feeds), audio signals (like voice commands), or other data types (like user clicks).\n",
      "   \n",
      "2. **Decision-Making**: Once the AI agent processes the input, it employs algorithms to analyze the data and make informed decisions. This can include rule-based systems or learning algorithms.\n",
      "\n",
      "3. **Action**: Finally, the agent takes action based on its decisions, influencing its environment through actions directed by actuators, whether initiating a new task or adjusting based on user interaction.\n",
      "\n",
      "## Types of AI Agents\n",
      "\n",
      "AI agents can be classified into several categories based on their capabilities and application domains:\n",
      "\n",
      "1. **Reactive Agents**: These agents respond to immediate stimuli from their environment without memory or the ability to learn. They operate on a set of predefined rules (e.g., basic chatbots).\n",
      "   \n",
      "2. **Cognitive Agents**: These agents possess a level of understanding and learning ability. They can adapt their responses based on previous interactions, making them suitable for complex tasks (e.g., virtual assistants like Siri or Google Assistant).\n",
      "\n",
      "3. **Autonomous Agents**: Operating independently, these agents can make decisions based on real-time data and past experiences without human intervention. Applications include drones and self-driving cars.\n",
      "\n",
      "4. **Collaborative Agents**: These agents work alongside humans or other agents to accomplish tasks, exhibiting teamwork. For example, robots in manufacturing settings that collaborate with human workers.\n",
      "\n",
      "## Functionalities of AI Agents\n",
      "\n",
      "AI agents are designed to perform a variety of functions, including, but not limited to:\n",
      "\n",
      "- **Automating Routine Tasks**: AI agents can manage repetitive administrative tasks, such as scheduling meetings or responding to emails, freeing human resources for more strategic activities.\n",
      "\n",
      "- **Data Analysis and Interpretation**: With their learning capabilities, AI agents can sift through vast amounts of data, identify patterns, and produce insights that inform business decisions.\n",
      "\n",
      "- **Personalization**: In customer-facing applications, AI agents can analyze user behavior and preferences to deliver tailored experiences, enhancing customer satisfaction.\n",
      "\n",
      "- **Natural Language Processing (NLP)**: Many AI agents utilize NLP to understand and respond to human language, enabling smoother interactions in customer service and content generation.\n",
      "\n",
      "## Benefits of AI Agents\n",
      "\n",
      "The deployment of AI agents brings several advantages:\n",
      "\n",
      "1. **Increased Efficiency**: By automating mundane tasks, AI agents reduce the time and resources required for operations, improving overall productivity.\n",
      "\n",
      "2. **Enhanced Accuracy**: AI agents reduce human error by performing data-driven tasks with precision, critically important in sectors like healthcare and finance.\n",
      "\n",
      "3. **Cost Reduction**: Automating processes diminishes the need for manpower in certain areas, leading to lower operational costs.\n",
      "\n",
      "4. **24/7 Availability**: AI agents can operate continuously without downtime, providing services around the clock, which can be crucial for global enterprises.\n",
      "\n",
      "## Challenges and Considerations\n",
      "\n",
      "Despite the advancements of AI agents, there are inherent challenges and ethical considerations:\n",
      "\n",
      "- **Data Privacy**: With increased data collection, ensuring user privacy and data security is paramount. Organizations must handle data responsibly to avoid breaches.\n",
      "\n",
      "- **Job Displacement**: As AI agents take on more tasks, there is concern regarding potential job losses in certain sectors. Strategies for workforce transition and upskilling are necessary.\n",
      "\n",
      "- **Bias and Fairness**: AI agents can perpetuate existing biases present in training data. It's crucial to develop algorithms that promote fairness and inclusivity.\n",
      "\n",
      "## Conclusion\n",
      "\n",
      "AI agents represent a significant leap in the field of artificial intelligence, offering innovative solutions across numerous industries. As these intelligent systems continue to evolve, their potential to enhance productivity and drive innovation is enormous. However, addressing the challenges related to ethics, data privacy, and job displacement will be essential for a future where AI agents complement and amplify human capabilities. As we step into this new era, continuous research and dialogue around the responsible implementation of AI agents will be vital for harnessing their full potential.\n",
      "\n",
      "---\n",
      "\n",
      "As the landscape of AI continues to change, staying informed about the capabilities and implications of AI agents will empower businesses and individuals alike to navigate the digital transformation successfully.\u001b[00m\n",
      "\n",
      "\n"
     ]
    },
    {
     "data": {
      "text/html": [
       "<pre style=\"white-space:pre;overflow-x:auto;line-height:normal;font-family:Menlo,'DejaVu Sans Mono',consolas,'Courier New',monospace\"><span style=\"color: #008080; text-decoration-color: #008080; font-weight: bold\">🚀 Crew: crew</span>\n",
       "└── <span style=\"color: #808000; text-decoration-color: #808000; font-weight: bold\">📋 Task: 1a5639e6-fbbc-4289-b41d-6f6bb9453d64</span>\n",
       "    <span style=\"color: #c0c0c0; text-decoration-color: #c0c0c0\">   Status: </span><span style=\"color: #bfbf7f; text-decoration-color: #bfbf7f\">Executing Task...</span>\n",
       "    └── <span style=\"color: #008000; text-decoration-color: #008000; font-weight: bold\">🤖 Agent: </span><span style=\"color: #008000; text-decoration-color: #008000\">Senior Technical Writer</span>\n",
       "        <span style=\"color: #c0c0c0; text-decoration-color: #c0c0c0\">    Status: </span><span style=\"color: #008000; text-decoration-color: #008000; font-weight: bold\">✅ Completed</span>\n",
       "</pre>\n"
      ],
      "text/plain": [
       "\u001b[1;36m🚀 Crew: \u001b[0m\u001b[1;36mcrew\u001b[0m\n",
       "└── \u001b[1;33m📋 Task: 1a5639e6-fbbc-4289-b41d-6f6bb9453d64\u001b[0m\n",
       "    \u001b[37m   Status: \u001b[0m\u001b[2;33mExecuting Task...\u001b[0m\n",
       "    └── \u001b[1;32m🤖 Agent: \u001b[0m\u001b[32mSenior Technical Writer\u001b[0m\n",
       "        \u001b[37m    Status: \u001b[0m\u001b[1;32m✅ Completed\u001b[0m\n"
      ]
     },
     "metadata": {},
     "output_type": "display_data"
    },
    {
     "data": {
      "text/html": [
       "<pre style=\"white-space:pre;overflow-x:auto;line-height:normal;font-family:Menlo,'DejaVu Sans Mono',consolas,'Courier New',monospace\">\n",
       "</pre>\n"
      ],
      "text/plain": [
       "\n"
      ]
     },
     "metadata": {},
     "output_type": "display_data"
    },
    {
     "data": {
      "text/html": [
       "<pre style=\"white-space:pre;overflow-x:auto;line-height:normal;font-family:Menlo,'DejaVu Sans Mono',consolas,'Courier New',monospace\"><span style=\"color: #008080; text-decoration-color: #008080; font-weight: bold\">🚀 Crew: crew</span>\n",
       "└── <span style=\"color: #008000; text-decoration-color: #008000; font-weight: bold\">📋 Task: 1a5639e6-fbbc-4289-b41d-6f6bb9453d64</span>\n",
       "    <span style=\"color: #c0c0c0; text-decoration-color: #c0c0c0\">   Assigned to: </span><span style=\"color: #008000; text-decoration-color: #008000\">Senior Technical Writer</span>\n",
       "    <span style=\"color: #c0c0c0; text-decoration-color: #c0c0c0\">   Status: </span><span style=\"color: #008000; text-decoration-color: #008000; font-weight: bold\">✅ Completed</span>\n",
       "    └── <span style=\"color: #008000; text-decoration-color: #008000; font-weight: bold\">🤖 Agent: </span><span style=\"color: #008000; text-decoration-color: #008000\">Senior Technical Writer</span>\n",
       "        <span style=\"color: #c0c0c0; text-decoration-color: #c0c0c0\">    Status: </span><span style=\"color: #008000; text-decoration-color: #008000; font-weight: bold\">✅ Completed</span>\n",
       "</pre>\n"
      ],
      "text/plain": [
       "\u001b[1;36m🚀 Crew: \u001b[0m\u001b[1;36mcrew\u001b[0m\n",
       "└── \u001b[1;32m📋 Task: 1a5639e6-fbbc-4289-b41d-6f6bb9453d64\u001b[0m\n",
       "    \u001b[37m   Assigned to: \u001b[0m\u001b[32mSenior Technical Writer\u001b[0m\n",
       "    \u001b[37m   Status: \u001b[0m\u001b[1;32m✅ Completed\u001b[0m\n",
       "    └── \u001b[1;32m🤖 Agent: \u001b[0m\u001b[32mSenior Technical Writer\u001b[0m\n",
       "        \u001b[37m    Status: \u001b[0m\u001b[1;32m✅ Completed\u001b[0m\n"
      ]
     },
     "metadata": {},
     "output_type": "display_data"
    },
    {
     "data": {
      "text/html": [
       "<pre style=\"white-space:pre;overflow-x:auto;line-height:normal;font-family:Menlo,'DejaVu Sans Mono',consolas,'Courier New',monospace\"><span style=\"color: #008000; text-decoration-color: #008000\">╭──────────────────────────────────────────────── Task Completion ────────────────────────────────────────────────╮</span>\n",
       "<span style=\"color: #008000; text-decoration-color: #008000\">│</span>                                                                                                                 <span style=\"color: #008000; text-decoration-color: #008000\">│</span>\n",
       "<span style=\"color: #008000; text-decoration-color: #008000\">│</span>  <span style=\"color: #008000; text-decoration-color: #008000; font-weight: bold\">Task Completed</span>                                                                                                 <span style=\"color: #008000; text-decoration-color: #008000\">│</span>\n",
       "<span style=\"color: #008000; text-decoration-color: #008000\">│</span>  <span style=\"color: #c0c0c0; text-decoration-color: #c0c0c0\">Name: </span><span style=\"color: #008000; text-decoration-color: #008000\">1a5639e6-fbbc-4289-b41d-6f6bb9453d64</span>                                                                     <span style=\"color: #008000; text-decoration-color: #008000\">│</span>\n",
       "<span style=\"color: #008000; text-decoration-color: #008000\">│</span>  <span style=\"color: #c0c0c0; text-decoration-color: #c0c0c0\">Agent: </span><span style=\"color: #008000; text-decoration-color: #008000\">Senior Technical Writer</span>                                                                                 <span style=\"color: #008000; text-decoration-color: #008000\">│</span>\n",
       "<span style=\"color: #008000; text-decoration-color: #008000\">│</span>                                                                                                                 <span style=\"color: #008000; text-decoration-color: #008000\">│</span>\n",
       "<span style=\"color: #008000; text-decoration-color: #008000\">│</span>                                                                                                                 <span style=\"color: #008000; text-decoration-color: #008000\">│</span>\n",
       "<span style=\"color: #008000; text-decoration-color: #008000\">╰─────────────────────────────────────────────────────────────────────────────────────────────────────────────────╯</span>\n",
       "</pre>\n"
      ],
      "text/plain": [
       "\u001b[32m╭─\u001b[0m\u001b[32m───────────────────────────────────────────────\u001b[0m\u001b[32m Task Completion \u001b[0m\u001b[32m───────────────────────────────────────────────\u001b[0m\u001b[32m─╮\u001b[0m\n",
       "\u001b[32m│\u001b[0m                                                                                                                 \u001b[32m│\u001b[0m\n",
       "\u001b[32m│\u001b[0m  \u001b[1;32mTask Completed\u001b[0m                                                                                                 \u001b[32m│\u001b[0m\n",
       "\u001b[32m│\u001b[0m  \u001b[37mName: \u001b[0m\u001b[32m1a5639e6-fbbc-4289-b41d-6f6bb9453d64\u001b[0m                                                                     \u001b[32m│\u001b[0m\n",
       "\u001b[32m│\u001b[0m  \u001b[37mAgent: \u001b[0m\u001b[32mSenior Technical Writer\u001b[0m                                                                                 \u001b[32m│\u001b[0m\n",
       "\u001b[32m│\u001b[0m                                                                                                                 \u001b[32m│\u001b[0m\n",
       "\u001b[32m│\u001b[0m                                                                                                                 \u001b[32m│\u001b[0m\n",
       "\u001b[32m╰─────────────────────────────────────────────────────────────────────────────────────────────────────────────────╯\u001b[0m\n"
      ]
     },
     "metadata": {},
     "output_type": "display_data"
    },
    {
     "data": {
      "text/html": [
       "<pre style=\"white-space:pre;overflow-x:auto;line-height:normal;font-family:Menlo,'DejaVu Sans Mono',consolas,'Courier New',monospace\">\n",
       "</pre>\n"
      ],
      "text/plain": [
       "\n"
      ]
     },
     "metadata": {},
     "output_type": "display_data"
    },
    {
     "data": {
      "text/html": [
       "<pre style=\"white-space:pre;overflow-x:auto;line-height:normal;font-family:Menlo,'DejaVu Sans Mono',consolas,'Courier New',monospace\"><span style=\"color: #008000; text-decoration-color: #008000\">╭──────────────────────────────────────────────── Crew Completion ────────────────────────────────────────────────╮</span>\n",
       "<span style=\"color: #008000; text-decoration-color: #008000\">│</span>                                                                                                                 <span style=\"color: #008000; text-decoration-color: #008000\">│</span>\n",
       "<span style=\"color: #008000; text-decoration-color: #008000\">│</span>  <span style=\"color: #008000; text-decoration-color: #008000; font-weight: bold\">Crew Execution Completed</span>                                                                                       <span style=\"color: #008000; text-decoration-color: #008000\">│</span>\n",
       "<span style=\"color: #008000; text-decoration-color: #008000\">│</span>  <span style=\"color: #c0c0c0; text-decoration-color: #c0c0c0\">Name: </span><span style=\"color: #008000; text-decoration-color: #008000\">crew</span>                                                                                                     <span style=\"color: #008000; text-decoration-color: #008000\">│</span>\n",
       "<span style=\"color: #008000; text-decoration-color: #008000\">│</span>  <span style=\"color: #c0c0c0; text-decoration-color: #c0c0c0\">ID: </span><span style=\"color: #008000; text-decoration-color: #008000\">7ed4e033-9c84-43fe-b7e8-e509a79c375c</span>                                                                       <span style=\"color: #008000; text-decoration-color: #008000\">│</span>\n",
       "<span style=\"color: #008000; text-decoration-color: #008000\">│</span>                                                                                                                 <span style=\"color: #008000; text-decoration-color: #008000\">│</span>\n",
       "<span style=\"color: #008000; text-decoration-color: #008000\">│</span>                                                                                                                 <span style=\"color: #008000; text-decoration-color: #008000\">│</span>\n",
       "<span style=\"color: #008000; text-decoration-color: #008000\">╰─────────────────────────────────────────────────────────────────────────────────────────────────────────────────╯</span>\n",
       "</pre>\n"
      ],
      "text/plain": [
       "\u001b[32m╭─\u001b[0m\u001b[32m───────────────────────────────────────────────\u001b[0m\u001b[32m Crew Completion \u001b[0m\u001b[32m───────────────────────────────────────────────\u001b[0m\u001b[32m─╮\u001b[0m\n",
       "\u001b[32m│\u001b[0m                                                                                                                 \u001b[32m│\u001b[0m\n",
       "\u001b[32m│\u001b[0m  \u001b[1;32mCrew Execution Completed\u001b[0m                                                                                       \u001b[32m│\u001b[0m\n",
       "\u001b[32m│\u001b[0m  \u001b[37mName: \u001b[0m\u001b[32mcrew\u001b[0m                                                                                                     \u001b[32m│\u001b[0m\n",
       "\u001b[32m│\u001b[0m  \u001b[37mID: \u001b[0m\u001b[32m7ed4e033-9c84-43fe-b7e8-e509a79c375c\u001b[0m                                                                       \u001b[32m│\u001b[0m\n",
       "\u001b[32m│\u001b[0m                                                                                                                 \u001b[32m│\u001b[0m\n",
       "\u001b[32m│\u001b[0m                                                                                                                 \u001b[32m│\u001b[0m\n",
       "\u001b[32m╰─────────────────────────────────────────────────────────────────────────────────────────────────────────────────╯\u001b[0m\n"
      ]
     },
     "metadata": {},
     "output_type": "display_data"
    },
    {
     "data": {
      "text/html": [
       "<pre style=\"white-space:pre;overflow-x:auto;line-height:normal;font-family:Menlo,'DejaVu Sans Mono',consolas,'Courier New',monospace\">\n",
       "</pre>\n"
      ],
      "text/plain": [
       "\n"
      ]
     },
     "metadata": {},
     "output_type": "display_data"
    }
   ],
   "source": [
    "from crewai import Crew\n",
    "\n",
    "crew = Crew(\n",
    "    agents = [senior_technical_writer],\n",
    "    tasks = [writing_task],\n",
    "    verbose=True  # Use the same project name as above\n",
    ")\n",
    "\n",
    "## Kickoff Crew\n",
    "response = crew.kickoff(inputs={\"topic\": \"AI Agents\"})"
   ]
  },
  {
   "cell_type": "code",
   "execution_count": 13,
   "metadata": {},
   "outputs": [
    {
     "data": {
      "text/markdown": [
       "# Understanding AI Agents: The Future of Intelligent Automation\n",
       "\n",
       "## Introduction\n",
       "\n",
       "Artificial Intelligence (AI) has transformed various industries by introducing intelligent automation that enhances productivity, efficiency, and creativity. Among the key developments in AI are AI agents, which are systems designed to autonomously perform tasks while learning and adapting to new information. This article delves into the concept of AI agents, their types, functionalities, benefits, and implications for the future.\n",
       "\n",
       "## What are AI Agents?\n",
       "\n",
       "An AI agent is a software entity that perceives its environment through sensors and acts upon that environment using actuators. It operates autonomously to achieve specific goals, often utilizing machine learning algorithms and large datasets. The ability of AI agents to learn from experience makes them valuable in a range of applications—from customer service bots to autonomous vehicles.\n",
       "\n",
       "### Key Components of AI Agents\n",
       "\n",
       "1. **Perception**: AI agents collect data from their environment using sensors. This could involve visual input (like camera feeds), audio signals (like voice commands), or other data types (like user clicks).\n",
       "   \n",
       "2. **Decision-Making**: Once the AI agent processes the input, it employs algorithms to analyze the data and make informed decisions. This can include rule-based systems or learning algorithms.\n",
       "\n",
       "3. **Action**: Finally, the agent takes action based on its decisions, influencing its environment through actions directed by actuators, whether initiating a new task or adjusting based on user interaction.\n",
       "\n",
       "## Types of AI Agents\n",
       "\n",
       "AI agents can be classified into several categories based on their capabilities and application domains:\n",
       "\n",
       "1. **Reactive Agents**: These agents respond to immediate stimuli from their environment without memory or the ability to learn. They operate on a set of predefined rules (e.g., basic chatbots).\n",
       "   \n",
       "2. **Cognitive Agents**: These agents possess a level of understanding and learning ability. They can adapt their responses based on previous interactions, making them suitable for complex tasks (e.g., virtual assistants like Siri or Google Assistant).\n",
       "\n",
       "3. **Autonomous Agents**: Operating independently, these agents can make decisions based on real-time data and past experiences without human intervention. Applications include drones and self-driving cars.\n",
       "\n",
       "4. **Collaborative Agents**: These agents work alongside humans or other agents to accomplish tasks, exhibiting teamwork. For example, robots in manufacturing settings that collaborate with human workers.\n",
       "\n",
       "## Functionalities of AI Agents\n",
       "\n",
       "AI agents are designed to perform a variety of functions, including, but not limited to:\n",
       "\n",
       "- **Automating Routine Tasks**: AI agents can manage repetitive administrative tasks, such as scheduling meetings or responding to emails, freeing human resources for more strategic activities.\n",
       "\n",
       "- **Data Analysis and Interpretation**: With their learning capabilities, AI agents can sift through vast amounts of data, identify patterns, and produce insights that inform business decisions.\n",
       "\n",
       "- **Personalization**: In customer-facing applications, AI agents can analyze user behavior and preferences to deliver tailored experiences, enhancing customer satisfaction.\n",
       "\n",
       "- **Natural Language Processing (NLP)**: Many AI agents utilize NLP to understand and respond to human language, enabling smoother interactions in customer service and content generation.\n",
       "\n",
       "## Benefits of AI Agents\n",
       "\n",
       "The deployment of AI agents brings several advantages:\n",
       "\n",
       "1. **Increased Efficiency**: By automating mundane tasks, AI agents reduce the time and resources required for operations, improving overall productivity.\n",
       "\n",
       "2. **Enhanced Accuracy**: AI agents reduce human error by performing data-driven tasks with precision, critically important in sectors like healthcare and finance.\n",
       "\n",
       "3. **Cost Reduction**: Automating processes diminishes the need for manpower in certain areas, leading to lower operational costs.\n",
       "\n",
       "4. **24/7 Availability**: AI agents can operate continuously without downtime, providing services around the clock, which can be crucial for global enterprises.\n",
       "\n",
       "## Challenges and Considerations\n",
       "\n",
       "Despite the advancements of AI agents, there are inherent challenges and ethical considerations:\n",
       "\n",
       "- **Data Privacy**: With increased data collection, ensuring user privacy and data security is paramount. Organizations must handle data responsibly to avoid breaches.\n",
       "\n",
       "- **Job Displacement**: As AI agents take on more tasks, there is concern regarding potential job losses in certain sectors. Strategies for workforce transition and upskilling are necessary.\n",
       "\n",
       "- **Bias and Fairness**: AI agents can perpetuate existing biases present in training data. It's crucial to develop algorithms that promote fairness and inclusivity.\n",
       "\n",
       "## Conclusion\n",
       "\n",
       "AI agents represent a significant leap in the field of artificial intelligence, offering innovative solutions across numerous industries. As these intelligent systems continue to evolve, their potential to enhance productivity and drive innovation is enormous. However, addressing the challenges related to ethics, data privacy, and job displacement will be essential for a future where AI agents complement and amplify human capabilities. As we step into this new era, continuous research and dialogue around the responsible implementation of AI agents will be vital for harnessing their full potential.\n",
       "\n",
       "---\n",
       "\n",
       "As the landscape of AI continues to change, staying informed about the capabilities and implications of AI agents will empower businesses and individuals alike to navigate the digital transformation successfully."
      ],
      "text/plain": [
       "<IPython.core.display.Markdown object>"
      ]
     },
     "execution_count": 13,
     "metadata": {},
     "output_type": "execute_result"
    }
   ],
   "source": [
    "from IPython.display import Markdown\n",
    "\n",
    "Markdown(response.raw)"
   ]
  },
  {
   "cell_type": "code",
   "execution_count": null,
   "metadata": {},
   "outputs": [],
   "source": []
  }
 ],
 "metadata": {
  "kernelspec": {
   "display_name": "crewEnv",
   "language": "python",
   "name": "python3"
  },
  "language_info": {
   "codemirror_mode": {
    "name": "ipython",
    "version": 3
   },
   "file_extension": ".py",
   "mimetype": "text/x-python",
   "name": "python",
   "nbconvert_exporter": "python",
   "pygments_lexer": "ipython3",
   "version": "3.11.11"
  }
 },
 "nbformat": 4,
 "nbformat_minor": 2
}
