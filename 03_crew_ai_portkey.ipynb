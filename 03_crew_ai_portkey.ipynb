{
 "cells": [
  {
   "cell_type": "markdown",
   "metadata": {},
   "source": [
    "## Define Portkey tracing"
   ]
  },
  {
   "cell_type": "code",
   "execution_count": 2,
   "metadata": {},
   "outputs": [
    {
     "data": {
      "text/plain": [
       "True"
      ]
     },
     "execution_count": 2,
     "metadata": {},
     "output_type": "execute_result"
    }
   ],
   "source": [
    "import os\n",
    "from portkey_ai import Portkey\n",
    "from dotenv import load_dotenv\n",
    "\n",
    "load_dotenv()"
   ]
  },
  {
   "cell_type": "code",
   "execution_count": 3,
   "metadata": {},
   "outputs": [],
   "source": [
    "portkey = Portkey(\n",
    "    api_key=os.getenv(\"PORTKEY_API_KEY\"),\n",
    "    project_name=os.getenv(\"PORTKEY_PROJECT_NAME\"),\n",
    "    virtual_key=os.getenv(\"PORTKEY_VIRTUAL_KEY\")\n",
    ")"
   ]
  },
  {
   "cell_type": "markdown",
   "metadata": {},
   "source": [
    "## Define LLM"
   ]
  },
  {
   "cell_type": "code",
   "execution_count": 4,
   "metadata": {},
   "outputs": [],
   "source": [
    "from crewai import LLM\n",
    "from portkey_ai import createHeaders, PORTKEY_GATEWAY_URL\n",
    "\n",
    "# Initialize OpenAI with credentials from .env\n",
    "llm = LLM(\n",
    "    model = os.getenv(\"OPENAI_MODEL_NAME\"),\n",
    "    base_url=os.getenv(\"PORTKEY_BASE_URL\"),\n",
    "    extra_headers=createHeaders(\n",
    "        api_key=os.getenv(\"PORTKEY_API_KEY\"),\n",
    "        project_name=os.getenv(\"PORTKEY_PROJECT_NAME\"),\n",
    "        virtual_key=os.getenv(\"PORTKEY_VIRTUAL_KEY\")\n",
    "    )\n",
    ")\n"
   ]
  },
  {
   "cell_type": "code",
   "execution_count": 5,
   "metadata": {},
   "outputs": [],
   "source": [
    "# completion = portkey.chat.completions.create(\n",
    "#   messages = [{ \"role\": 'user', \"content\": 'What is Portkey' }],\n",
    "#   model=\"gpt-4o\",\n",
    "#   max_tokens=64)\n",
    "# print(completion)"
   ]
  },
  {
   "cell_type": "markdown",
   "metadata": {},
   "source": [
    "## Load Agents"
   ]
  },
  {
   "cell_type": "code",
   "execution_count": 6,
   "metadata": {},
   "outputs": [],
   "source": [
    "from crewai import Agent"
   ]
  },
  {
   "cell_type": "code",
   "execution_count": 7,
   "metadata": {},
   "outputs": [],
   "source": [
    "senior_technical_writer = Agent(\n",
    "    role=\"Senior Technical Writer\",\n",
    "    goal=\"\"\"Craft clear, engaging, and well-structured technical content \n",
    "    based on research findings\"\"\",\n",
    "    backstory=\"\"\"You are an experienced technical writer with expertise in simplifying complex\n",
    "                concepts, structuring content for readability, and ensuring accuracy in documentation.\"\"\",\n",
    "    llm=llm,\n",
    "    verbose=True\n",
    ")"
   ]
  },
  {
   "cell_type": "markdown",
   "metadata": {},
   "source": [
    "### Research Analyst Agent\n",
    "\n",
    "This agent is responsible for conducting in-depth research and summarizing findings concisely"
   ]
  },
  {
   "cell_type": "code",
   "execution_count": 8,
   "metadata": {},
   "outputs": [],
   "source": [
    "from crewai import Agent\n",
    "\n",
    "research_analyst = Agent(\n",
    "    role=\"Senior Research Analyst\",\n",
    "    goal=\"\"\"Find, analyze, and summarize information \n",
    "            from various sources to support technical \n",
    "            and business-related inquiries.\"\"\",\n",
    "    backstory=\"\"\"You are a skilled research analyst with expertise \n",
    "                 in gathering accurate data, identifying key trends, \n",
    "                 and presenting insights in a structured manner.\"\"\",\n",
    "    llm=llm,\n",
    "    verbose=True\n",
    ")"
   ]
  },
  {
   "cell_type": "markdown",
   "metadata": {},
   "source": [
    "### Code Review Agent\n",
    "\n",
    "This agent specializes in reviewing code for errors, optimizations, and best practices"
   ]
  },
  {
   "cell_type": "code",
   "execution_count": 9,
   "metadata": {},
   "outputs": [],
   "source": [
    "from crewai import Agent\n",
    "\n",
    "code_reviewer = Agent(\n",
    "    role=\"Senior Code Reviewer\",\n",
    "    goal=\"\"\"Review code for bugs, inefficiencies, and \n",
    "            security vulnerabilities while ensuring adherence \n",
    "            to best coding practices.\"\"\",\n",
    "    backstory=\"\"\"You are a seasoned software engineer with years of \n",
    "                 experience in writing, reviewing, and optimizing \n",
    "                 production-level code in multiple programming languages.\"\"\",\n",
    "    llm=llm,\n",
    "    verbose=True\n",
    ")"
   ]
  },
  {
   "cell_type": "markdown",
   "metadata": {},
   "source": [
    "### Legal Document Reviewer\n",
    "\n",
    "This agent specializes in analyzing legal contracts and ensuring compliance"
   ]
  },
  {
   "cell_type": "code",
   "execution_count": 10,
   "metadata": {},
   "outputs": [],
   "source": [
    "from crewai import Agent\n",
    "\n",
    "legal_reviewer = Agent(\n",
    "    role=\"Legal Document Expert Reviewer\",\n",
    "    goal=\"\"\"Review contracts and legal documents to \n",
    "            ensure compliance with applicable laws and \n",
    "            highlight potential risks.\"\"\",\n",
    "    backstory=\"\"\"You are a legal expert with deep knowledge \n",
    "                 of contract law, regulatory frameworks, \n",
    "                 and risk mitigation strategies.\"\"\",\n",
    "    llm=llm,\n",
    "    verbose=True\n",
    ")\n"
   ]
  },
  {
   "cell_type": "markdown",
   "metadata": {},
   "source": [
    "## Define Tasks"
   ]
  },
  {
   "cell_type": "code",
   "execution_count": 11,
   "metadata": {},
   "outputs": [],
   "source": [
    "# A simple task for the Senior Technical Writer Agent created earlier is\n",
    "\n",
    "from crewai import Task\n",
    "\n",
    "writing_task = Task(\n",
    "    description=\"\"\" Write a well-structured, engaging, and technically accurate\n",
    "                article on {topic}\"\"\",\n",
    "    agent=senior_technical_writer,\n",
    "    expected_output=\"\"\" A polished, detailed, and easy-to-read article on the given topic\"\"\"\n",
    ")"
   ]
  },
  {
   "cell_type": "markdown",
   "metadata": {},
   "source": [
    "## Create Crew"
   ]
  },
  {
   "cell_type": "code",
   "execution_count": 12,
   "metadata": {},
   "outputs": [
    {
     "name": "stdout",
     "output_type": "stream",
     "text": [
      "\u001b[1m\u001b[95m# Agent:\u001b[00m \u001b[1m\u001b[92mSenior Technical Writer\u001b[00m\n",
      "\u001b[95m## Task:\u001b[00m \u001b[92m Write a well-structured, engaging, and technically accurate\n",
      "                article on AI Agents\u001b[00m\n",
      "\n",
      "\n",
      "\u001b[1m\u001b[95m# Agent:\u001b[00m \u001b[1m\u001b[92mSenior Technical Writer\u001b[00m\n",
      "\u001b[95m## Final Answer:\u001b[00m \u001b[92m\n",
      "### Understanding AI Agents: A Comprehensive Guide\n",
      "\n",
      "Artificial Intelligence (AI) has evolved dramatically over recent years, becoming an integral part of various industries, ranging from healthcare to finance. A key component of AI technology is the concept of AI Agents. This article aims to provide a polished, detailed, and easy-to-read overview of AI agents, exploring their functionality, types, benefits, and the future implications of their widespread adoption.\n",
      "\n",
      "#### What are AI Agents?\n",
      "\n",
      "AI Agents are autonomous entities that perceive their environment through sensors and act upon that environment using actuators. In essence, these agents are designed to operate independently or semi-independently to achieve specific goals through intelligent decision-making processes. The intelligence of these agents is drawn from AI algorithms that process data to generate insights and predictions.\n",
      "\n",
      "#### Types of AI Agents\n",
      "\n",
      "AI agents can be classified into four primary types based on their abilities and environments:\n",
      "\n",
      "1. **Reactive Agents**: These are the simplest form of AI agents. They have no internal state model of the world and simply react to changes in the environment. Reactive agents are suitable for tasks that require a high degree of real-time responsiveness, like robotic vacuum cleaners.\n",
      "\n",
      "2. **Model-based Agents**: These agents maintain an internal state, which is a model of the world that helps them make decisions. Unlike reactive agents, they have the ability to predict the outcomes of their actions, which is beneficial for more complex tasks such as navigation systems.\n",
      "\n",
      "3. **Goal-based Agents**: These are more advanced agents that, in addition to having a model of the world, include goal information. They can formulate plans to achieve desired outcomes, and make decisions based on what will get them closer to their goal. Autonomous vehicles and intelligent recommendation systems often employ goal-based agents.\n",
      "\n",
      "4. **Utility-based Agents**: These agents not only strive to achieve their goals but also evaluate the possible actions based on the utility, or happiness/satisfaction factor. They choose actions that maximize their utility function, which is a score representing the agent's happiness with the outcome of a particular decision. Complex decision-making systems, such as those used in strategic planning and personal finance, often use utility-based agents.\n",
      "\n",
      "#### How Do AI Agents Work?\n",
      "\n",
      "The operation of AI agents generally involves a cycle of perceiving, reasoning, and acting:\n",
      "\n",
      "- **Perception**: The agent uses sensors to gather data about the environment. This data could come in various forms such as visual input from cameras, audio from microphones, or even behavioral data from users interacting with a system.\n",
      "  \n",
      "- **Reasoning**: Using AI algorithms, the agent processes and analyzes the data it has perceived. This typically involves pattern recognition, predictive analysis, and decision-making processes that evaluate different actions based on the desired outcomes.\n",
      "\n",
      "- **Action**: Based on the reasoning process, the agent performs actions to alter its environment with the goal of achieving a specific target. The actions are selected based on achieving the maximum favorable outcome or utility.\n",
      "\n",
      "#### Benefits of AI Agents\n",
      "\n",
      "AI agents offer numerous advantages, which have contributed to their growing popularity:\n",
      "\n",
      "- **Automation**: They can automate repetitive tasks and processes, freeing up human resources for more strategic initiatives.\n",
      "  \n",
      "- **Efficiency**: AI agents can function 24/7 without fatigue, thus increasing productivity and efficiency.\n",
      "  \n",
      "- **Personalization**: In consumer-facing applications, AI agents can offer highly personalized experiences based on user data and behavior analysis.\n",
      "  \n",
      "- **Scalability**: They can be scaled easily to manage larger datasets and more complex tasks as demand grows.\n",
      "\n",
      "#### Future Implications\n",
      "\n",
      "The future of AI agents promises even greater sophistication and integration into our daily lives and business processes. With advancements in AI research, agents are expected to become increasingly autonomous, capable of learning through interaction, and making decisions with minimal human intervention. This could lead to significant transformations in industries such as healthcare (with AI-driven diagnostics), finance (with automated financial advisory), and beyond.\n",
      "\n",
      "Moreover, as AI agents become more adept at handling unstructured and multi-modal data, we can expect an evolution in their ability to understand and respond to human emotions and social cues, leading to the potential for even more intuitive human-machine interactions.\n",
      "\n",
      "#### Conclusion\n",
      "\n",
      "AI agents are a cornerstone of modern AI applications, offering autonomy, efficiency, and scalability. As technology continues to advance, the sophistication and utility of AI agents are expected to grow, heralding a new era of innovation and efficiency in various domains. For businesses and developers, staying abreast of developments in AI agents will be crucial in leveraging the full potential of AI technologies to drive progress and success.\u001b[00m\n",
      "\n",
      "\n"
     ]
    }
   ],
   "source": [
    "from crewai import Crew\n",
    "\n",
    "crew = Crew(\n",
    "    agents = [senior_technical_writer],\n",
    "    tasks = [writing_task],\n",
    "    verbose=True  # Use the same project name as above\n",
    ")\n",
    "\n",
    "## Kickoff Crew\n",
    "response = crew.kickoff(inputs={\"topic\": \"AI Agents\"})"
   ]
  },
  {
   "cell_type": "code",
   "execution_count": 13,
   "metadata": {},
   "outputs": [
    {
     "data": {
      "text/markdown": [
       "**Understanding AI Agents: Bridging the Gap between Humans and Machines**\n",
       "\n",
       "In today's rapidly evolving technological landscape, Artificial Intelligence (AI) agents have emerged as pivotal players, transforming how we interact with machines and automate complex tasks. As a crucial component of artificial intelligence systems, AI agents facilitate seamless collaboration between humans and computers. This article delves into the fascinating world of AI agents, their workings, types, and potential impact across various domains.\n",
       "\n",
       "### What are AI Agents?\n",
       "\n",
       "At their core, AI agents are autonomous entities designed to perceive their environment, make decisions, and execute actions to achieve specific goals. They are equipped with algorithms that enable them to process data, learn from experiences, and adapt to changing conditions. Unlike traditional software programs that simply follow a set of instructions, AI agents possess the ability to reason and exhibit intelligent behavior.\n",
       "\n",
       "### Types of AI Agents\n",
       "\n",
       "AI agents can be categorized based on their functionality and capabilities:\n",
       "\n",
       "1. **Reactive Agents**: These agents operate by responding to specific stimuli or inputs from their environment. They do not possess memory or the ability to learn from past actions. For instance, a thermostat adjusting room temperature is an example of a reactive agent.\n",
       "\n",
       "2. **Deliberative Agents**: These agents are equipped with a representation of their environment and a decision-making capability. They can plan their actions, taking into consideration previous experiences and future consequences.\n",
       "\n",
       "3. **Hybrid Agents**: By combining elements of both reactive and deliberative agents, hybrid agents have the ability to react instantly to inputs while also planning and learning over time. This makes them more flexible and adaptive in complex scenarios.\n",
       "\n",
       "4. **Learning Agents**: These agents continuously improve their performance by learning from interactions with their environment. They utilize techniques like reinforcement learning and supervised learning to enhance their decision-making processes.\n",
       "\n",
       "### How AI Agents Work\n",
       "\n",
       "AI agents function through a cycle of perception, decision-making, and action. Here's a breakdown of this cycle:\n",
       "\n",
       "- **Perception**: AI agents gather data from their surroundings using sensors or inputs. This data is then processed to form a coherent understanding of the environment.\n",
       "\n",
       "- **Decision-Making**: Based on the insights gained from perception, the agent uses predefined algorithms or learned models to evaluate different actions and determine the most appropriate one.\n",
       "\n",
       "- **Action**: After deciding on an action, the agent executes it to influence the environment. The outcome of this action can then be fed back into the perception phase, allowing the agent to learn and adapt.\n",
       "\n",
       "### Applications and Impact\n",
       "\n",
       "AI agents are revolutionizing a multitude of industries by enhancing efficiency, productivity, and innovation:\n",
       "\n",
       "- **Healthcare**: AI agents assist in diagnostic processes, patient management, and personalized treatment planning, leading to improved healthcare outcomes.\n",
       "\n",
       "- **Finance**: From fraud detection to algorithmic trading, AI agents are reshaping financial services by automating complex analyses and decision-making processes.\n",
       "\n",
       "- **Transportation**: Autonomous vehicles and smart traffic management systems rely on AI agents for navigation, collision avoidance, and route optimization.\n",
       "\n",
       "- **Customer Service**: Chatbots and virtual assistants, powered by AI agents, provide 24/7 customer support, enhancing user experience and operational efficiency.\n",
       "\n",
       "### Ethical and Future Considerations\n",
       "\n",
       "As AI agents become more integrated into society, ethical considerations around privacy, security, and accountability are paramount. Ensuring that AI agents operate transparently and adhere to human-centric values is crucial for gaining public trust and maximizing their beneficial impact.\n",
       "\n",
       "In the future, we can anticipate more sophisticated AI agents capable of handling increasingly complex tasks, further blurring the lines between human cognition and machine intelligence. Their evolution promises to unleash untapped potential, paving the way for groundbreaking innovations and enhanced collaboration between humans and machines.\n",
       "\n",
       "### Conclusion\n",
       "\n",
       "AI agents represent a significant leap forward in the field of artificial intelligence, offering transformative solutions across various sectors. As we continue to push the boundaries of what these agents can achieve, understanding their capabilities and implications will be instrumental in harnessing their full potential. By embracing AI agents responsibly and ethically, society stands on the brink of a new era of human-machine synergy, with opportunities limited only by our imagination."
      ],
      "text/plain": [
       "<IPython.core.display.Markdown object>"
      ]
     },
     "execution_count": 13,
     "metadata": {},
     "output_type": "execute_result"
    }
   ],
   "source": [
    "from IPython.display import Markdown\n",
    "\n",
    "Markdown(response.raw)"
   ]
  }
 ],
 "metadata": {
  "kernelspec": {
   "display_name": "agentEnv",
   "language": "python",
   "name": "python3"
  },
  "language_info": {
   "codemirror_mode": {
    "name": "ipython",
    "version": 3
   },
   "file_extension": ".py",
   "mimetype": "text/x-python",
   "name": "python",
   "nbconvert_exporter": "python",
   "pygments_lexer": "ipython3",
   "version": "3.11.9"
  }
 },
 "nbformat": 4,
 "nbformat_minor": 2
}
