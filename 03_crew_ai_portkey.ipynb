{
 "cells": [
  {
   "cell_type": "markdown",
   "metadata": {},
   "source": [
    "## Define Portkey tracing"
   ]
  },
  {
   "cell_type": "code",
   "execution_count": 1,
   "metadata": {},
   "outputs": [
    {
     "data": {
      "text/plain": [
       "True"
      ]
     },
     "execution_count": 1,
     "metadata": {},
     "output_type": "execute_result"
    }
   ],
   "source": [
    "import os\n",
    "from portkey_ai import Portkey\n",
    "from dotenv import load_dotenv\n",
    "\n",
    "load_dotenv()"
   ]
  },
  {
   "cell_type": "code",
   "execution_count": 2,
   "metadata": {},
   "outputs": [],
   "source": [
    "portkey = Portkey(\n",
    "    api_key=os.getenv(\"PORTKEY_API_KEY\"),\n",
    "    project_name=os.getenv(\"PORTKEY_PROJECT_NAME\"),\n",
    "    virtual_key=os.getenv(\"PORTKEY_VIRTUAL_KEY\")\n",
    ")"
   ]
  },
  {
   "cell_type": "markdown",
   "metadata": {},
   "source": [
    "## Define LLM"
   ]
  },
  {
   "cell_type": "code",
   "execution_count": 3,
   "metadata": {},
   "outputs": [],
   "source": [
    "from crewai import LLM\n",
    "from portkey_ai import createHeaders, PORTKEY_GATEWAY_URL\n",
    "\n",
    "# Initialize OpenAI with credentials from .env\n",
    "llm = LLM(\n",
    "    model = os.getenv(\"OPENAI_MODEL_NAME\"),\n",
    "    base_url=os.getenv(\"PORTKEY_BASE_URL\"),\n",
    "    extra_headers=createHeaders(\n",
    "        api_key=os.getenv(\"PORTKEY_API_KEY\"),\n",
    "        project_name=os.getenv(\"PORTKEY_PROJECT_NAME\"),\n",
    "        virtual_key=os.getenv(\"PORTKEY_VIRTUAL_KEY\")\n",
    "    )\n",
    ")\n"
   ]
  },
  {
   "cell_type": "code",
   "execution_count": 4,
   "metadata": {},
   "outputs": [],
   "source": [
    "# completion = portkey.chat.completions.create(\n",
    "#   messages = [{ \"role\": 'user', \"content\": 'What is Portkey' }],\n",
    "#   model=\"gpt-4o\",\n",
    "#   max_tokens=64)\n",
    "# print(completion)"
   ]
  },
  {
   "cell_type": "markdown",
   "metadata": {},
   "source": [
    "## Load Agents"
   ]
  },
  {
   "cell_type": "code",
   "execution_count": 5,
   "metadata": {},
   "outputs": [],
   "source": [
    "from crewai import Agent"
   ]
  },
  {
   "cell_type": "code",
   "execution_count": 6,
   "metadata": {},
   "outputs": [],
   "source": [
    "senior_technical_writer = Agent(\n",
    "    role=\"Senior Technical Writer\",\n",
    "    goal=\"\"\"Craft clear, engaging, and well-structured technical content \n",
    "    based on research findings\"\"\",\n",
    "    backstory=\"\"\"You are an experienced technical writer with expertise in simplifying complex\n",
    "                concepts, structuring content for readability, and ensuring accuracy in documentation.\"\"\",\n",
    "    llm=llm,\n",
    "    verbose=True\n",
    ")"
   ]
  },
  {
   "cell_type": "markdown",
   "metadata": {},
   "source": [
    "### Research Analyst Agent\n",
    "\n",
    "This agent is responsible for conducting in-depth research and summarizing findings concisely"
   ]
  },
  {
   "cell_type": "code",
   "execution_count": 7,
   "metadata": {},
   "outputs": [],
   "source": [
    "from crewai import Agent\n",
    "\n",
    "research_analyst = Agent(\n",
    "    role=\"Senior Research Analyst\",\n",
    "    goal=\"\"\"Find, analyze, and summarize information \n",
    "            from various sources to support technical \n",
    "            and business-related inquiries.\"\"\",\n",
    "    backstory=\"\"\"You are a skilled research analyst with expertise \n",
    "                 in gathering accurate data, identifying key trends, \n",
    "                 and presenting insights in a structured manner.\"\"\",\n",
    "    llm=llm,\n",
    "    verbose=True\n",
    ")"
   ]
  },
  {
   "cell_type": "markdown",
   "metadata": {},
   "source": [
    "### Code Review Agent\n",
    "\n",
    "This agent specializes in reviewing code for errors, optimizations, and best practices"
   ]
  },
  {
   "cell_type": "code",
   "execution_count": 8,
   "metadata": {},
   "outputs": [],
   "source": [
    "from crewai import Agent\n",
    "\n",
    "code_reviewer = Agent(\n",
    "    role=\"Senior Code Reviewer\",\n",
    "    goal=\"\"\"Review code for bugs, inefficiencies, and \n",
    "            security vulnerabilities while ensuring adherence \n",
    "            to best coding practices.\"\"\",\n",
    "    backstory=\"\"\"You are a seasoned software engineer with years of \n",
    "                 experience in writing, reviewing, and optimizing \n",
    "                 production-level code in multiple programming languages.\"\"\",\n",
    "    llm=llm,\n",
    "    verbose=True\n",
    ")"
   ]
  },
  {
   "cell_type": "markdown",
   "metadata": {},
   "source": [
    "### Legal Document Reviewer\n",
    "\n",
    "This agent specializes in analyzing legal contracts and ensuring compliance"
   ]
  },
  {
   "cell_type": "code",
   "execution_count": 9,
   "metadata": {},
   "outputs": [],
   "source": [
    "from crewai import Agent\n",
    "\n",
    "legal_reviewer = Agent(\n",
    "    role=\"Legal Document Expert Reviewer\",\n",
    "    goal=\"\"\"Review contracts and legal documents to \n",
    "            ensure compliance with applicable laws and \n",
    "            highlight potential risks.\"\"\",\n",
    "    backstory=\"\"\"You are a legal expert with deep knowledge \n",
    "                 of contract law, regulatory frameworks, \n",
    "                 and risk mitigation strategies.\"\"\",\n",
    "    llm=llm,\n",
    "    verbose=True\n",
    ")\n"
   ]
  },
  {
   "cell_type": "markdown",
   "metadata": {},
   "source": [
    "## Define Tasks"
   ]
  },
  {
   "cell_type": "code",
   "execution_count": 10,
   "metadata": {},
   "outputs": [],
   "source": [
    "# A simple task for the Senior Technical Writer Agent created earlier is\n",
    "\n",
    "from crewai import Task\n",
    "\n",
    "writing_task = Task(\n",
    "    description=\"\"\" Write a well-structured, engaging, and technically accurate\n",
    "                article on {topic}\"\"\",\n",
    "    agent=senior_technical_writer,\n",
    "    expected_output=\"\"\" A polished, detailed, and easy-to-read article on the given topic\"\"\"\n",
    ")"
   ]
  },
  {
   "cell_type": "markdown",
   "metadata": {},
   "source": [
    "## Create Crew"
   ]
  },
  {
   "cell_type": "code",
   "execution_count": 11,
   "metadata": {},
   "outputs": [
    {
     "data": {
      "text/html": [
       "<pre style=\"white-space:pre;overflow-x:auto;line-height:normal;font-family:Menlo,'DejaVu Sans Mono',consolas,'Courier New',monospace\"><span style=\"color: #008080; text-decoration-color: #008080\">╭──────────────────────────────────────────── Crew Execution Started ─────────────────────────────────────────────╮</span>\n",
       "<span style=\"color: #008080; text-decoration-color: #008080\">│</span>                                                                                                                 <span style=\"color: #008080; text-decoration-color: #008080\">│</span>\n",
       "<span style=\"color: #008080; text-decoration-color: #008080\">│</span>  <span style=\"color: #008080; text-decoration-color: #008080; font-weight: bold\">Crew Execution Started</span>                                                                                         <span style=\"color: #008080; text-decoration-color: #008080\">│</span>\n",
       "<span style=\"color: #008080; text-decoration-color: #008080\">│</span>  <span style=\"color: #c0c0c0; text-decoration-color: #c0c0c0\">Name: </span><span style=\"color: #008080; text-decoration-color: #008080\">crew</span>                                                                                                     <span style=\"color: #008080; text-decoration-color: #008080\">│</span>\n",
       "<span style=\"color: #008080; text-decoration-color: #008080\">│</span>  <span style=\"color: #c0c0c0; text-decoration-color: #c0c0c0\">ID: </span><span style=\"color: #008080; text-decoration-color: #008080\">18d487ea-2060-4197-97b2-1471c6560af8</span>                                                                       <span style=\"color: #008080; text-decoration-color: #008080\">│</span>\n",
       "<span style=\"color: #008080; text-decoration-color: #008080\">│</span>                                                                                                                 <span style=\"color: #008080; text-decoration-color: #008080\">│</span>\n",
       "<span style=\"color: #008080; text-decoration-color: #008080\">│</span>                                                                                                                 <span style=\"color: #008080; text-decoration-color: #008080\">│</span>\n",
       "<span style=\"color: #008080; text-decoration-color: #008080\">╰─────────────────────────────────────────────────────────────────────────────────────────────────────────────────╯</span>\n",
       "</pre>\n"
      ],
      "text/plain": [
       "\u001b[36m╭─\u001b[0m\u001b[36m───────────────────────────────────────────\u001b[0m\u001b[36m Crew Execution Started \u001b[0m\u001b[36m────────────────────────────────────────────\u001b[0m\u001b[36m─╮\u001b[0m\n",
       "\u001b[36m│\u001b[0m                                                                                                                 \u001b[36m│\u001b[0m\n",
       "\u001b[36m│\u001b[0m  \u001b[1;36mCrew Execution Started\u001b[0m                                                                                         \u001b[36m│\u001b[0m\n",
       "\u001b[36m│\u001b[0m  \u001b[37mName: \u001b[0m\u001b[36mcrew\u001b[0m                                                                                                     \u001b[36m│\u001b[0m\n",
       "\u001b[36m│\u001b[0m  \u001b[37mID: \u001b[0m\u001b[36m18d487ea-2060-4197-97b2-1471c6560af8\u001b[0m                                                                       \u001b[36m│\u001b[0m\n",
       "\u001b[36m│\u001b[0m                                                                                                                 \u001b[36m│\u001b[0m\n",
       "\u001b[36m│\u001b[0m                                                                                                                 \u001b[36m│\u001b[0m\n",
       "\u001b[36m╰─────────────────────────────────────────────────────────────────────────────────────────────────────────────────╯\u001b[0m\n"
      ]
     },
     "metadata": {},
     "output_type": "display_data"
    },
    {
     "data": {
      "text/html": [
       "<pre style=\"white-space:pre;overflow-x:auto;line-height:normal;font-family:Menlo,'DejaVu Sans Mono',consolas,'Courier New',monospace\">\n",
       "</pre>\n"
      ],
      "text/plain": [
       "\n"
      ]
     },
     "metadata": {},
     "output_type": "display_data"
    },
    {
     "data": {
      "text/html": [
       "<pre style=\"white-space:pre;overflow-x:auto;line-height:normal;font-family:Menlo,'DejaVu Sans Mono',consolas,'Courier New',monospace\"><span style=\"color: #008080; text-decoration-color: #008080; font-weight: bold\">🚀 Crew: crew</span>\n",
       "└── <span style=\"color: #808000; text-decoration-color: #808000; font-weight: bold\">📋 Task: 2df91f3b-300a-4ee0-9c55-43bde6a87981</span>\n",
       "    <span style=\"color: #c0c0c0; text-decoration-color: #c0c0c0\">   Status: </span><span style=\"color: #bfbf7f; text-decoration-color: #bfbf7f\">Executing Task...</span>\n",
       "</pre>\n"
      ],
      "text/plain": [
       "\u001b[1;36m🚀 Crew: \u001b[0m\u001b[1;36mcrew\u001b[0m\n",
       "└── \u001b[1;33m📋 Task: 2df91f3b-300a-4ee0-9c55-43bde6a87981\u001b[0m\n",
       "    \u001b[37m   Status: \u001b[0m\u001b[2;33mExecuting Task...\u001b[0m\n"
      ]
     },
     "metadata": {},
     "output_type": "display_data"
    },
    {
     "data": {
      "text/html": [
       "<pre style=\"white-space:pre;overflow-x:auto;line-height:normal;font-family:Menlo,'DejaVu Sans Mono',consolas,'Courier New',monospace\">\n",
       "</pre>\n"
      ],
      "text/plain": [
       "\n"
      ]
     },
     "metadata": {},
     "output_type": "display_data"
    },
    {
     "data": {
      "text/html": [
       "<pre style=\"white-space:pre;overflow-x:auto;line-height:normal;font-family:Menlo,'DejaVu Sans Mono',consolas,'Courier New',monospace\"><span style=\"color: #008080; text-decoration-color: #008080; font-weight: bold\">🚀 Crew: crew</span>\n",
       "└── <span style=\"color: #808000; text-decoration-color: #808000; font-weight: bold\">📋 Task: 2df91f3b-300a-4ee0-9c55-43bde6a87981</span>\n",
       "    <span style=\"color: #c0c0c0; text-decoration-color: #c0c0c0\">   Status: </span><span style=\"color: #bfbf7f; text-decoration-color: #bfbf7f\">Executing Task...</span>\n",
       "    └── <span style=\"color: #008000; text-decoration-color: #008000; font-weight: bold\">🤖 Agent: </span><span style=\"color: #008000; text-decoration-color: #008000\">Senior Technical Writer</span>\n",
       "        <span style=\"color: #c0c0c0; text-decoration-color: #c0c0c0\">    Status: </span><span style=\"color: #008000; text-decoration-color: #008000; font-weight: bold\">In Progress</span>\n",
       "</pre>\n"
      ],
      "text/plain": [
       "\u001b[1;36m🚀 Crew: \u001b[0m\u001b[1;36mcrew\u001b[0m\n",
       "└── \u001b[1;33m📋 Task: 2df91f3b-300a-4ee0-9c55-43bde6a87981\u001b[0m\n",
       "    \u001b[37m   Status: \u001b[0m\u001b[2;33mExecuting Task...\u001b[0m\n",
       "    └── \u001b[1;32m🤖 Agent: \u001b[0m\u001b[32mSenior Technical Writer\u001b[0m\n",
       "        \u001b[37m    Status: \u001b[0m\u001b[1;32mIn Progress\u001b[0m\n"
      ]
     },
     "metadata": {},
     "output_type": "display_data"
    },
    {
     "data": {
      "text/html": [
       "<pre style=\"white-space:pre;overflow-x:auto;line-height:normal;font-family:Menlo,'DejaVu Sans Mono',consolas,'Courier New',monospace\">\n",
       "</pre>\n"
      ],
      "text/plain": [
       "\n"
      ]
     },
     "metadata": {},
     "output_type": "display_data"
    },
    {
     "name": "stdout",
     "output_type": "stream",
     "text": [
      "\u001b[1m\u001b[95m# Agent:\u001b[00m \u001b[1m\u001b[92mSenior Technical Writer\u001b[00m\n",
      "\u001b[95m## Task:\u001b[00m \u001b[92m Write a well-structured, engaging, and technically accurate\n",
      "                article on AI Agents\u001b[00m\n"
     ]
    },
    {
     "data": {
      "text/html": [
       "<pre style=\"white-space:pre;overflow-x:auto;line-height:normal;font-family:Menlo,'DejaVu Sans Mono',consolas,'Courier New',monospace\"><span style=\"color: #008000; text-decoration-color: #008000; font-weight: bold\">🤖 Agent: </span><span style=\"color: #008000; text-decoration-color: #008000\">Senior Technical Writer</span>\n",
       "<span style=\"color: #c0c0c0; text-decoration-color: #c0c0c0\">    Status: </span><span style=\"color: #008000; text-decoration-color: #008000; font-weight: bold\">In Progress</span>\n",
       "└── <span style=\"color: #000080; text-decoration-color: #000080; font-weight: bold\">🧠 </span><span style=\"color: #000080; text-decoration-color: #000080\">Thinking...</span>\n",
       "</pre>\n"
      ],
      "text/plain": [
       "\u001b[1;32m🤖 Agent: \u001b[0m\u001b[32mSenior Technical Writer\u001b[0m\n",
       "\u001b[37m    Status: \u001b[0m\u001b[1;32mIn Progress\u001b[0m\n",
       "└── \u001b[1;34m🧠 \u001b[0m\u001b[34mThinking...\u001b[0m\n"
      ]
     },
     "metadata": {},
     "output_type": "display_data"
    },
    {
     "data": {
      "text/html": [
       "<pre style=\"white-space:pre;overflow-x:auto;line-height:normal;font-family:Menlo,'DejaVu Sans Mono',consolas,'Courier New',monospace\">\n",
       "</pre>\n"
      ],
      "text/plain": [
       "\n"
      ]
     },
     "metadata": {},
     "output_type": "display_data"
    },
    {
     "data": {
      "text/html": [
       "<pre style=\"white-space:pre;overflow-x:auto;line-height:normal;font-family:Menlo,'DejaVu Sans Mono',consolas,'Courier New',monospace\"><span style=\"color: #008000; text-decoration-color: #008000; font-weight: bold\">🤖 Agent: </span><span style=\"color: #008000; text-decoration-color: #008000\">Senior Technical Writer</span>\n",
       "<span style=\"color: #c0c0c0; text-decoration-color: #c0c0c0\">    Status: </span><span style=\"color: #008000; text-decoration-color: #008000; font-weight: bold\">In Progress</span>\n",
       "</pre>\n"
      ],
      "text/plain": [
       "\u001b[1;32m🤖 Agent: \u001b[0m\u001b[32mSenior Technical Writer\u001b[0m\n",
       "\u001b[37m    Status: \u001b[0m\u001b[1;32mIn Progress\u001b[0m\n"
      ]
     },
     "metadata": {},
     "output_type": "display_data"
    },
    {
     "data": {
      "text/html": [
       "<pre style=\"white-space:pre;overflow-x:auto;line-height:normal;font-family:Menlo,'DejaVu Sans Mono',consolas,'Courier New',monospace\">\n",
       "</pre>\n"
      ],
      "text/plain": [
       "\n"
      ]
     },
     "metadata": {},
     "output_type": "display_data"
    },
    {
     "name": "stdout",
     "output_type": "stream",
     "text": [
      "\n",
      "\n",
      "\u001b[1m\u001b[95m# Agent:\u001b[00m \u001b[1m\u001b[92mSenior Technical Writer\u001b[00m\n",
      "\u001b[95m## Final Answer:\u001b[00m \u001b[92m\n",
      "# Understanding AI Agents: A Comprehensive Overview\n",
      "\n",
      "## Introduction\n",
      "\n",
      "Artificial Intelligence (AI) agents are rapidly transforming the technology landscape, influencing sectors ranging from healthcare and finance to entertainment and education. These intelligent entities possess the ability to perceive their environment, reason about it, and take actions to achieve specific goals. This article delves into the intricacies of AI agents, their underlying principles, types, applications, and the ethical considerations surrounding their deployment.\n",
      "\n",
      "## What are AI Agents?\n",
      "\n",
      "At its core, an AI agent is a program or system that can autonomously perform tasks, make decisions, and learn from its experiences. This capability is often defined by the following characteristics:\n",
      "\n",
      "- **Autonomy**: The ability to operate independently without human intervention.\n",
      "- **Adaptation**: The ability to learn and modify behavior based on interactions with the environment.\n",
      "- **Goal-oriented behavior**: The focus on achieving specific objectives or tasks efficiently.\n",
      "- **Perception**: The ability to gather and interpret data from various sources to inform decision-making.\n",
      "\n",
      "## Types of AI Agents\n",
      "\n",
      "AI agents can be categorized based on their complexity and functionality. Here are the major types:\n",
      "\n",
      "### 1. Reactive Agents\n",
      "\n",
      "Reactive agents operate on a simple principle of stimulus-response. They do not store memories or learn from past experiences. Instead, they react to the present input to produce immediate output. For instance, a chess-playing program that calculates the best move based solely on the current board state exemplifies a reactive agent.\n",
      "\n",
      "### 2. Deliberative Agents\n",
      "\n",
      "Deliberative agents possess a model of their environment and can plan and reason about their actions. They can simulate various scenarios and choose the most effective course of action based on goals and perceived outcomes. An example would be an AI robot navigating through a warehouse by planning routes based on obstacles.\n",
      "\n",
      "### 3. Learning Agents\n",
      "\n",
      "These agents possess the capability to learn from their experiences. They adapt their strategies based on successes or failures over time. For instance, recommendation systems in platforms like Netflix and Amazon use learning algorithms to analyze user preferences and improve suggestions.\n",
      "\n",
      "### 4. Hybrid Agents\n",
      "\n",
      "Hybrid agents combine elements of reactive, deliberative, and learning agents to exploit the strengths of each. They can react to immediate changes while also planning for long-term goals and learning from their interactions. Autonomous vehicles are a primary example, using sensor data for real-time decision-making and sophisticated algorithms to improve their driving patterns over time.\n",
      "\n",
      "## Applications of AI Agents\n",
      "\n",
      "AI agents are employed in various domains, showcasing their versatile functionalities. Here are several notable applications:\n",
      "\n",
      "### 1. Customer Service\n",
      "\n",
      "AI-driven chatbots function as virtual assistants, handling inquiries, resolving issues, and providing information 24/7. By employing natural language processing, these agents can understand and respond to customer queries efficiently.\n",
      "\n",
      "### 2. Autonomous Vehicles\n",
      "\n",
      "Self-driving cars utilize a combination of sensors, cameras, and AI algorithms to perceive their surroundings, navigate, and make real-time decisions. These hybrid agents are designed to ensure safety while optimizing travel efficiency.\n",
      "\n",
      "### 3. Healthcare\n",
      "\n",
      "AI agents are revolutionizing healthcare through diagnostic tools that analyze medical data, assist in treatment planning, and monitor patients remotely. They enhance operational efficiency and aid medical professionals in making informed decisions.\n",
      "\n",
      "### 4. E-commerce\n",
      "\n",
      "In e-commerce, AI agents analyze customer behavior, manage inventory, personalize shopping experiences, and optimize pricing strategies. This increases customer satisfaction and boosts sales.\n",
      "\n",
      "### 5. Smart Homes\n",
      "\n",
      "Smart home devices like voice assistants (e.g., Amazon’s Alexa, Google Assistant) act as AI agents, managing home automation by learning user preferences, controlling appliances, and facilitating communication.\n",
      "\n",
      "## Ethical Considerations\n",
      "\n",
      "Despite the undeniable benefits, deploying AI agents raises several ethical concerns:\n",
      "\n",
      "- **Transparency**: AI agents often operate as \"black boxes,\" making it challenging to understand their decision-making processes. It is crucial to develop transparent systems that allow users to comprehend how decisions are made.\n",
      "\n",
      "- **Bias**: AI agents may inadvertently perpetuate biases present in training data, leading to unfair or discriminatory outcomes. Continuous monitoring and evaluation are essential to mitigate bias in AI systems.\n",
      "\n",
      "- **Job Displacement**: As AI agents become more capable, there are concerns regarding their impact on employment. While some roles may become obsolete, new job opportunities in AI management and development are likely to emerge.\n",
      "\n",
      "- **Privacy**: With vast amounts of data being collected by AI agents, there are significant privacy implications. Responsible data handling and adherence to privacy regulations are necessary to maintain user trust.\n",
      "\n",
      "## Conclusion\n",
      "\n",
      "AI agents represent a revolutionary advancement in technology, offering innovative solutions across various fields. Understanding their characteristics, types, applications, and the ethical implications of their deployment is critical for harnessing their potential responsibly. As AI technology continues to evolve, ongoing dialogue and regulation will be vital to ensure that AI agents contribute positively to society while minimizing risks. \n",
      "\n",
      "By investing in research and development, training, and ethical considerations, we can create a future where AI agents enhance human capabilities and drive transformative change across industries.\u001b[00m\n",
      "\n",
      "\n"
     ]
    },
    {
     "data": {
      "text/html": [
       "<pre style=\"white-space:pre;overflow-x:auto;line-height:normal;font-family:Menlo,'DejaVu Sans Mono',consolas,'Courier New',monospace\"><span style=\"color: #008080; text-decoration-color: #008080; font-weight: bold\">🚀 Crew: crew</span>\n",
       "└── <span style=\"color: #808000; text-decoration-color: #808000; font-weight: bold\">📋 Task: 2df91f3b-300a-4ee0-9c55-43bde6a87981</span>\n",
       "    <span style=\"color: #c0c0c0; text-decoration-color: #c0c0c0\">   Status: </span><span style=\"color: #bfbf7f; text-decoration-color: #bfbf7f\">Executing Task...</span>\n",
       "    └── <span style=\"color: #008000; text-decoration-color: #008000; font-weight: bold\">🤖 Agent: </span><span style=\"color: #008000; text-decoration-color: #008000\">Senior Technical Writer</span>\n",
       "        <span style=\"color: #c0c0c0; text-decoration-color: #c0c0c0\">    Status: </span><span style=\"color: #008000; text-decoration-color: #008000; font-weight: bold\">✅ Completed</span>\n",
       "</pre>\n"
      ],
      "text/plain": [
       "\u001b[1;36m🚀 Crew: \u001b[0m\u001b[1;36mcrew\u001b[0m\n",
       "└── \u001b[1;33m📋 Task: 2df91f3b-300a-4ee0-9c55-43bde6a87981\u001b[0m\n",
       "    \u001b[37m   Status: \u001b[0m\u001b[2;33mExecuting Task...\u001b[0m\n",
       "    └── \u001b[1;32m🤖 Agent: \u001b[0m\u001b[32mSenior Technical Writer\u001b[0m\n",
       "        \u001b[37m    Status: \u001b[0m\u001b[1;32m✅ Completed\u001b[0m\n"
      ]
     },
     "metadata": {},
     "output_type": "display_data"
    },
    {
     "data": {
      "text/html": [
       "<pre style=\"white-space:pre;overflow-x:auto;line-height:normal;font-family:Menlo,'DejaVu Sans Mono',consolas,'Courier New',monospace\">\n",
       "</pre>\n"
      ],
      "text/plain": [
       "\n"
      ]
     },
     "metadata": {},
     "output_type": "display_data"
    },
    {
     "data": {
      "text/html": [
       "<pre style=\"white-space:pre;overflow-x:auto;line-height:normal;font-family:Menlo,'DejaVu Sans Mono',consolas,'Courier New',monospace\"><span style=\"color: #008080; text-decoration-color: #008080; font-weight: bold\">🚀 Crew: crew</span>\n",
       "└── <span style=\"color: #008000; text-decoration-color: #008000; font-weight: bold\">📋 Task: 2df91f3b-300a-4ee0-9c55-43bde6a87981</span>\n",
       "    <span style=\"color: #c0c0c0; text-decoration-color: #c0c0c0\">   Assigned to: </span><span style=\"color: #008000; text-decoration-color: #008000\">Senior Technical Writer</span>\n",
       "    <span style=\"color: #c0c0c0; text-decoration-color: #c0c0c0\">   Status: </span><span style=\"color: #008000; text-decoration-color: #008000; font-weight: bold\">✅ Completed</span>\n",
       "    └── <span style=\"color: #008000; text-decoration-color: #008000; font-weight: bold\">🤖 Agent: </span><span style=\"color: #008000; text-decoration-color: #008000\">Senior Technical Writer</span>\n",
       "        <span style=\"color: #c0c0c0; text-decoration-color: #c0c0c0\">    Status: </span><span style=\"color: #008000; text-decoration-color: #008000; font-weight: bold\">✅ Completed</span>\n",
       "</pre>\n"
      ],
      "text/plain": [
       "\u001b[1;36m🚀 Crew: \u001b[0m\u001b[1;36mcrew\u001b[0m\n",
       "└── \u001b[1;32m📋 Task: 2df91f3b-300a-4ee0-9c55-43bde6a87981\u001b[0m\n",
       "    \u001b[37m   Assigned to: \u001b[0m\u001b[32mSenior Technical Writer\u001b[0m\n",
       "    \u001b[37m   Status: \u001b[0m\u001b[1;32m✅ Completed\u001b[0m\n",
       "    └── \u001b[1;32m🤖 Agent: \u001b[0m\u001b[32mSenior Technical Writer\u001b[0m\n",
       "        \u001b[37m    Status: \u001b[0m\u001b[1;32m✅ Completed\u001b[0m\n"
      ]
     },
     "metadata": {},
     "output_type": "display_data"
    },
    {
     "data": {
      "text/html": [
       "<pre style=\"white-space:pre;overflow-x:auto;line-height:normal;font-family:Menlo,'DejaVu Sans Mono',consolas,'Courier New',monospace\"><span style=\"color: #008000; text-decoration-color: #008000\">╭──────────────────────────────────────────────── Task Completion ────────────────────────────────────────────────╮</span>\n",
       "<span style=\"color: #008000; text-decoration-color: #008000\">│</span>                                                                                                                 <span style=\"color: #008000; text-decoration-color: #008000\">│</span>\n",
       "<span style=\"color: #008000; text-decoration-color: #008000\">│</span>  <span style=\"color: #008000; text-decoration-color: #008000; font-weight: bold\">Task Completed</span>                                                                                                 <span style=\"color: #008000; text-decoration-color: #008000\">│</span>\n",
       "<span style=\"color: #008000; text-decoration-color: #008000\">│</span>  <span style=\"color: #c0c0c0; text-decoration-color: #c0c0c0\">Name: </span><span style=\"color: #008000; text-decoration-color: #008000\">2df91f3b-300a-4ee0-9c55-43bde6a87981</span>                                                                     <span style=\"color: #008000; text-decoration-color: #008000\">│</span>\n",
       "<span style=\"color: #008000; text-decoration-color: #008000\">│</span>  <span style=\"color: #c0c0c0; text-decoration-color: #c0c0c0\">Agent: </span><span style=\"color: #008000; text-decoration-color: #008000\">Senior Technical Writer</span>                                                                                 <span style=\"color: #008000; text-decoration-color: #008000\">│</span>\n",
       "<span style=\"color: #008000; text-decoration-color: #008000\">│</span>                                                                                                                 <span style=\"color: #008000; text-decoration-color: #008000\">│</span>\n",
       "<span style=\"color: #008000; text-decoration-color: #008000\">│</span>                                                                                                                 <span style=\"color: #008000; text-decoration-color: #008000\">│</span>\n",
       "<span style=\"color: #008000; text-decoration-color: #008000\">╰─────────────────────────────────────────────────────────────────────────────────────────────────────────────────╯</span>\n",
       "</pre>\n"
      ],
      "text/plain": [
       "\u001b[32m╭─\u001b[0m\u001b[32m───────────────────────────────────────────────\u001b[0m\u001b[32m Task Completion \u001b[0m\u001b[32m───────────────────────────────────────────────\u001b[0m\u001b[32m─╮\u001b[0m\n",
       "\u001b[32m│\u001b[0m                                                                                                                 \u001b[32m│\u001b[0m\n",
       "\u001b[32m│\u001b[0m  \u001b[1;32mTask Completed\u001b[0m                                                                                                 \u001b[32m│\u001b[0m\n",
       "\u001b[32m│\u001b[0m  \u001b[37mName: \u001b[0m\u001b[32m2df91f3b-300a-4ee0-9c55-43bde6a87981\u001b[0m                                                                     \u001b[32m│\u001b[0m\n",
       "\u001b[32m│\u001b[0m  \u001b[37mAgent: \u001b[0m\u001b[32mSenior Technical Writer\u001b[0m                                                                                 \u001b[32m│\u001b[0m\n",
       "\u001b[32m│\u001b[0m                                                                                                                 \u001b[32m│\u001b[0m\n",
       "\u001b[32m│\u001b[0m                                                                                                                 \u001b[32m│\u001b[0m\n",
       "\u001b[32m╰─────────────────────────────────────────────────────────────────────────────────────────────────────────────────╯\u001b[0m\n"
      ]
     },
     "metadata": {},
     "output_type": "display_data"
    },
    {
     "data": {
      "text/html": [
       "<pre style=\"white-space:pre;overflow-x:auto;line-height:normal;font-family:Menlo,'DejaVu Sans Mono',consolas,'Courier New',monospace\">\n",
       "</pre>\n"
      ],
      "text/plain": [
       "\n"
      ]
     },
     "metadata": {},
     "output_type": "display_data"
    },
    {
     "data": {
      "text/html": [
       "<pre style=\"white-space:pre;overflow-x:auto;line-height:normal;font-family:Menlo,'DejaVu Sans Mono',consolas,'Courier New',monospace\"><span style=\"color: #008000; text-decoration-color: #008000\">╭──────────────────────────────────────────────── Crew Completion ────────────────────────────────────────────────╮</span>\n",
       "<span style=\"color: #008000; text-decoration-color: #008000\">│</span>                                                                                                                 <span style=\"color: #008000; text-decoration-color: #008000\">│</span>\n",
       "<span style=\"color: #008000; text-decoration-color: #008000\">│</span>  <span style=\"color: #008000; text-decoration-color: #008000; font-weight: bold\">Crew Execution Completed</span>                                                                                       <span style=\"color: #008000; text-decoration-color: #008000\">│</span>\n",
       "<span style=\"color: #008000; text-decoration-color: #008000\">│</span>  <span style=\"color: #c0c0c0; text-decoration-color: #c0c0c0\">Name: </span><span style=\"color: #008000; text-decoration-color: #008000\">crew</span>                                                                                                     <span style=\"color: #008000; text-decoration-color: #008000\">│</span>\n",
       "<span style=\"color: #008000; text-decoration-color: #008000\">│</span>  <span style=\"color: #c0c0c0; text-decoration-color: #c0c0c0\">ID: </span><span style=\"color: #008000; text-decoration-color: #008000\">18d487ea-2060-4197-97b2-1471c6560af8</span>                                                                       <span style=\"color: #008000; text-decoration-color: #008000\">│</span>\n",
       "<span style=\"color: #008000; text-decoration-color: #008000\">│</span>                                                                                                                 <span style=\"color: #008000; text-decoration-color: #008000\">│</span>\n",
       "<span style=\"color: #008000; text-decoration-color: #008000\">│</span>                                                                                                                 <span style=\"color: #008000; text-decoration-color: #008000\">│</span>\n",
       "<span style=\"color: #008000; text-decoration-color: #008000\">╰─────────────────────────────────────────────────────────────────────────────────────────────────────────────────╯</span>\n",
       "</pre>\n"
      ],
      "text/plain": [
       "\u001b[32m╭─\u001b[0m\u001b[32m───────────────────────────────────────────────\u001b[0m\u001b[32m Crew Completion \u001b[0m\u001b[32m───────────────────────────────────────────────\u001b[0m\u001b[32m─╮\u001b[0m\n",
       "\u001b[32m│\u001b[0m                                                                                                                 \u001b[32m│\u001b[0m\n",
       "\u001b[32m│\u001b[0m  \u001b[1;32mCrew Execution Completed\u001b[0m                                                                                       \u001b[32m│\u001b[0m\n",
       "\u001b[32m│\u001b[0m  \u001b[37mName: \u001b[0m\u001b[32mcrew\u001b[0m                                                                                                     \u001b[32m│\u001b[0m\n",
       "\u001b[32m│\u001b[0m  \u001b[37mID: \u001b[0m\u001b[32m18d487ea-2060-4197-97b2-1471c6560af8\u001b[0m                                                                       \u001b[32m│\u001b[0m\n",
       "\u001b[32m│\u001b[0m                                                                                                                 \u001b[32m│\u001b[0m\n",
       "\u001b[32m│\u001b[0m                                                                                                                 \u001b[32m│\u001b[0m\n",
       "\u001b[32m╰─────────────────────────────────────────────────────────────────────────────────────────────────────────────────╯\u001b[0m\n"
      ]
     },
     "metadata": {},
     "output_type": "display_data"
    },
    {
     "data": {
      "text/html": [
       "<pre style=\"white-space:pre;overflow-x:auto;line-height:normal;font-family:Menlo,'DejaVu Sans Mono',consolas,'Courier New',monospace\">\n",
       "</pre>\n"
      ],
      "text/plain": [
       "\n"
      ]
     },
     "metadata": {},
     "output_type": "display_data"
    }
   ],
   "source": [
    "from crewai import Crew\n",
    "\n",
    "crew = Crew(\n",
    "    agents = [senior_technical_writer],\n",
    "    tasks = [writing_task],\n",
    "    verbose=True  # Use the same project name as above\n",
    ")\n",
    "\n",
    "## Kickoff Crew\n",
    "response = crew.kickoff(inputs={\"topic\": \"AI Agents\"})"
   ]
  },
  {
   "cell_type": "code",
   "execution_count": 13,
   "metadata": {},
   "outputs": [
    {
     "data": {
      "text/markdown": [
       "# Exploring AI Agents: The Future of Intelligent Automation\n",
       "\n",
       "## Introduction\n",
       "\n",
       "As the world becomes increasingly digital and interconnected, the concept of AI agents has emerged as a pivotal force driving innovation across numerous industries. These intelligent systems are designed to perform tasks autonomously, adapt to new information, and interact with their environments in ways that mimic human behavior. In this article, we delve into what AI agents are, their types, applications, benefits, challenges, and the future of this transformative technology.\n",
       "\n",
       "## What are AI Agents?\n",
       "\n",
       "AI agents are software programs or systems that leverage artificial intelligence (AI) to perceive their environment, reason about it, and take action to achieve specific goals. They can process data, learn from experiences, and make decisions, usually without human intervention. AI agents are characterized by their ability to operate autonomously while being responsive to dynamic conditions.\n",
       "\n",
       "### Key Components of AI Agents\n",
       "\n",
       "1. **Perception:** The capability to gather information from the environment, which may include data from sensors, APIs, or human inputs.\n",
       "   \n",
       "2. **Reasoning:** Analyzing this information, deriving insights, and making predictions or decisions based on algorithms or learned data models.\n",
       "\n",
       "3. **Action:** Implementing the decisions through actions, which could range from sending notifications to performing complex tasks like automating manufacturing processes.\n",
       "\n",
       "## Types of AI Agents\n",
       "\n",
       "AI agents can be categorized based on their functionality and complexity:\n",
       "\n",
       "1. **Reactive Agents:** These agents operate based solely on the environment's current state without maintaining an internal model of the world. For example, a spam filter is a reactive agent that identifies and classifies emails as spam based on predefined criteria.\n",
       "\n",
       "2. **Goal-Based Agents:** More sophisticated than reactive agents, these agents have specific goals they aim to achieve and can evaluate the best actions to reach them. An example is a navigation system that determines the fastest route based on live traffic data.\n",
       "\n",
       "3. **Utility-Based Agents:** These agents not only pursue goals but also evaluate the desirability of various outcomes based on a utility function. For instance, investment bots assess multiple investment strategies to maximize returns subject to the investor's risk tolerance.\n",
       "\n",
       "4. **Learning Agents:** These agents improve their performance over time through learning from experiences. Machine learning applications in e-commerce recommendations, such as those employed by Amazon, are prime examples of learning agents.\n",
       "\n",
       "## Applications of AI Agents\n",
       "\n",
       "AI agents have found applications in diverse sectors, enhancing productivity and efficiency:\n",
       "\n",
       "- **Healthcare:** AI agents assist in diagnosing diseases, analyzing medical images, and predicting patient outcomes, leading to improved patient care.\n",
       "\n",
       "- **Finance:** Automated trading systems and fraud detection algorithms help monitor transactions in real-time, enhancing security and operational speed.\n",
       "\n",
       "- **Customer Service:** Chatbots and virtual assistants provide instant responses to customer inquiries, improving user experience and supporting a 24/7 service model.\n",
       "\n",
       "- **Manufacturing:** Smart robots, equipped with AI agents, can perform complex assembly tasks, monitor machinery for predictive maintenance, and optimize supply chain processes.\n",
       "\n",
       "## Benefits of AI Agents\n",
       "\n",
       "The integration of AI agents into various domains offers numerous advantages:\n",
       "\n",
       "1. **Increased Efficiency:** By automating repetitive tasks, AI agents can significantly reduce the time and effort required to complete them.\n",
       "\n",
       "2. **Enhanced Decision-Making:** AI agents equipped with data analytics capabilities can provide actionable insights that aid human decision-making.\n",
       "\n",
       "3. **Scalability:** AI agents can operate at scale, handling vast amounts of data and numerous tasks simultaneously without a proportional increase in costs.\n",
       "\n",
       "4. **Personalization:** AI agents can analyze user behaviors and preferences to deliver customized experiences, particularly in digital marketing and e-commerce.\n",
       "\n",
       "## Challenges of AI Agents\n",
       "\n",
       "Despite their advantages, AI agents face several challenges:\n",
       "\n",
       "1. **Data Privacy:** The collection and processing of personal data raise serious privacy concerns. Ensuring compliance with regulations such as GDPR is crucial.\n",
       "\n",
       "2. **Bias and Fairness:** AI agents can inadvertently perpetuate biases present in training data, leading to unfair outcomes and discrimination.\n",
       "\n",
       "3. **Complexity of Implementation:** Developing, training, and deploying AI agents require specialized expertise and significant investment, which can be barriers for smaller organizations.\n",
       "\n",
       "4. **Dependence on Technology:** Over-reliance on AI agents could pose risks, especially in critical areas like healthcare or finance, where human oversight is essential.\n",
       "\n",
       "## The Future of AI Agents\n",
       "\n",
       "The landscape of AI agents is evolving rapidly, driven by advancements in machine learning, natural language processing, and robotics. Key trends that are likely to shape their future include:\n",
       "\n",
       "- **Increased Interoperability:** Future AI agents will communicate and collaborate more effectively across various platforms and systems, enhancing their capabilities.\n",
       "\n",
       "- **Human-AI Collaboration:** Rather than replacing humans, AI agents will augment human capabilities, leading to more productive partnerships between technology and people.\n",
       "\n",
       "- **Ethical and Responsible AI:** Organizations will increasingly focus on building AI agents that are transparent, accountable, and ethical, addressing biases and ensuring fairness.\n",
       "\n",
       "- **Expansion into New Domains:** AI agents will penetrate new sectors, from agriculture to smart cities, driving innovation and problem-solving across industries.\n",
       "\n",
       "## Conclusion\n",
       "\n",
       "AI agents represent a burgeoning frontier in artificial intelligence, blending data, technology, and automation to reshape traditional workflows and improve operational efficiencies. While challenges exist, the potential benefits offered by AI agents—ranging from enhanced decision-making to unique customer experiences—are vast. As we look to the horizon, understanding and leveraging these intelligent systems will be vital in harnessing their full potential for future innovation and success. \n",
       "\n",
       "--- \n",
       "\n",
       "This comprehensive exploration of AI agents equips readers with essential knowledge and insights, facilitating a deeper understanding of their significance and impact on various sectors. By embracing these intelligent systems responsibly, we can better prepare for a future where AI agents play a fundamental role in our daily lives."
      ],
      "text/plain": [
       "<IPython.core.display.Markdown object>"
      ]
     },
     "execution_count": 13,
     "metadata": {},
     "output_type": "execute_result"
    }
   ],
   "source": [
    "from IPython.display import Markdown\n",
    "\n",
    "Markdown(response.raw)"
   ]
  },
  {
   "cell_type": "code",
   "execution_count": null,
   "metadata": {},
   "outputs": [],
   "source": []
  }
 ],
 "metadata": {
  "kernelspec": {
   "display_name": "crewEnv",
   "language": "python",
   "name": "python3"
  },
  "language_info": {
   "codemirror_mode": {
    "name": "ipython",
    "version": 3
   },
   "file_extension": ".py",
   "mimetype": "text/x-python",
   "name": "python",
   "nbconvert_exporter": "python",
   "pygments_lexer": "ipython3",
   "version": "3.11.11"
  }
 },
 "nbformat": 4,
 "nbformat_minor": 2
}
